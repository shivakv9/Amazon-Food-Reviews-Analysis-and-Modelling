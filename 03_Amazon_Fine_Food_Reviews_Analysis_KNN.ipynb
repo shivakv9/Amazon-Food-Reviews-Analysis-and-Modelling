{
 "cells": [
  {
   "cell_type": "markdown",
   "metadata": {},
   "source": [
    "# Amazon Fine Food Reviews Analysis\n",
    "\n",
    "\n",
    "Data Source: https://www.kaggle.com/snap/amazon-fine-food-reviews <br>\n",
    "\n",
    "EDA: https://nycdatascience.com/blog/student-works/amazon-fine-foods-visualization/\n",
    "\n",
    "\n",
    "The Amazon Fine Food Reviews dataset consists of reviews of fine foods from Amazon.<br>\n",
    "\n",
    "Number of reviews: 568,454<br>\n",
    "Number of users: 256,059<br>\n",
    "Number of products: 74,258<br>\n",
    "Timespan: Oct 1999 - Oct 2012<br>\n",
    "Number of Attributes/Columns in data: 10 \n",
    "\n",
    "Attribute Information:\n",
    "\n",
    "1. Id\n",
    "2. ProductId - unique identifier for the product\n",
    "3. UserId - unqiue identifier for the user\n",
    "4. ProfileName\n",
    "5. HelpfulnessNumerator - number of users who found the review helpful\n",
    "6. HelpfulnessDenominator - number of users who indicated whether they found the review helpful or not\n",
    "7. Score - rating between 1 and 5\n",
    "8. Time - timestamp for the review\n",
    "9. Summary - brief summary of the review\n",
    "10. Text - text of the review\n",
    "\n",
    "\n",
    "#### Objective:\n",
    "Given a review, determine whether the review is positive (rating of 4 or 5) or negative (rating of 1 or 2).\n",
    "\n",
    "<br>\n",
    "[Q] How to determine if a review is positive or negative?<br>\n",
    "<br> \n",
    "[Ans] We could use Score/Rating. A rating of 4 or 5 can be cosnidered as a positive review. A rating of 1 or 2 can be considered as negative one. A review of rating 3 is considered nuetral and such reviews are ignored from our analysis. This is an approximate and proxy way of determining the polarity (positivity/negativity) of a review.\n",
    "\n",
    "\n"
   ]
  },
  {
   "cell_type": "markdown",
   "metadata": {},
   "source": [
    "# [1]. Reading Data"
   ]
  },
  {
   "cell_type": "markdown",
   "metadata": {},
   "source": [
    "## [1.1] Loading the data\n",
    "\n",
    "The dataset is available in two forms\n",
    "1. .csv file\n",
    "2. SQLite Database\n",
    "\n",
    "In order to load the data, We have used the SQLITE dataset as it is easier to query the data and visualise the data efficiently.\n",
    "<br> \n",
    "\n",
    "Here as we only want to get the global sentiment of the recommendations (positive or negative), we will purposefully ignore all Scores equal to 3. If the score is above 3, then the recommendation wil be set to \"positive\". Otherwise, it will be set to \"negative\"."
   ]
  },
  {
   "cell_type": "code",
   "execution_count": 2,
   "metadata": {},
   "outputs": [
    {
     "name": "stderr",
     "output_type": "stream",
     "text": [
      "c:\\users\\shiva_kv\\appdata\\local\\programs\\python\\python37\\lib\\site-packages\\gensim\\utils.py:1212: UserWarning: detected Windows; aliasing chunkize to chunkize_serial\n",
      "  warnings.warn(\"detected Windows; aliasing chunkize to chunkize_serial\")\n"
     ]
    }
   ],
   "source": [
    "%matplotlib inline\n",
    "import warnings\n",
    "warnings.filterwarnings(\"ignore\")\n",
    "\n",
    "\n",
    "import sqlite3\n",
    "import pandas as pd\n",
    "import numpy as np\n",
    "import nltk\n",
    "import string\n",
    "import matplotlib.pyplot as plt\n",
    "import seaborn as sns\n",
    "from sklearn.feature_extraction.text import TfidfTransformer\n",
    "from sklearn.feature_extraction.text import TfidfVectorizer\n",
    "\n",
    "from sklearn.feature_extraction.text import CountVectorizer\n",
    "from sklearn.metrics import confusion_matrix\n",
    "from sklearn import metrics\n",
    "from sklearn.metrics import roc_curve, auc\n",
    "from nltk.stem.porter import PorterStemmer\n",
    "\n",
    "import re\n",
    "# Tutorial about Python regular expressions: https://pymotw.com/2/re/\n",
    "import string\n",
    "from nltk.corpus import stopwords\n",
    "from nltk.stem import PorterStemmer\n",
    "from nltk.stem.wordnet import WordNetLemmatizer\n",
    "\n",
    "from gensim.models import Word2Vec\n",
    "from gensim.models import KeyedVectors\n",
    "import pickle\n",
    "\n",
    "from tqdm import tqdm\n",
    "import os"
   ]
  },
  {
   "cell_type": "code",
   "execution_count": 3,
   "metadata": {},
   "outputs": [
    {
     "name": "stdout",
     "output_type": "stream",
     "text": [
      "Number of data points in our data (568454, 10)\n"
     ]
    },
    {
     "data": {
      "text/html": [
       "<div>\n",
       "<style scoped>\n",
       "    .dataframe tbody tr th:only-of-type {\n",
       "        vertical-align: middle;\n",
       "    }\n",
       "\n",
       "    .dataframe tbody tr th {\n",
       "        vertical-align: top;\n",
       "    }\n",
       "\n",
       "    .dataframe thead th {\n",
       "        text-align: right;\n",
       "    }\n",
       "</style>\n",
       "<table border=\"1\" class=\"dataframe\">\n",
       "  <thead>\n",
       "    <tr style=\"text-align: right;\">\n",
       "      <th></th>\n",
       "      <th>Id</th>\n",
       "      <th>ProductId</th>\n",
       "      <th>UserId</th>\n",
       "      <th>ProfileName</th>\n",
       "      <th>HelpfulnessNumerator</th>\n",
       "      <th>HelpfulnessDenominator</th>\n",
       "      <th>Score</th>\n",
       "      <th>Time</th>\n",
       "      <th>Summary</th>\n",
       "      <th>Text</th>\n",
       "    </tr>\n",
       "  </thead>\n",
       "  <tbody>\n",
       "    <tr>\n",
       "      <th>0</th>\n",
       "      <td>1</td>\n",
       "      <td>B001E4KFG0</td>\n",
       "      <td>A3SGXH7AUHU8GW</td>\n",
       "      <td>delmartian</td>\n",
       "      <td>1</td>\n",
       "      <td>1</td>\n",
       "      <td>Positive</td>\n",
       "      <td>1303862400</td>\n",
       "      <td>Good Quality Dog Food</td>\n",
       "      <td>I have bought several of the Vitality canned d...</td>\n",
       "    </tr>\n",
       "    <tr>\n",
       "      <th>1</th>\n",
       "      <td>2</td>\n",
       "      <td>B00813GRG4</td>\n",
       "      <td>A1D87F6ZCVE5NK</td>\n",
       "      <td>dll pa</td>\n",
       "      <td>0</td>\n",
       "      <td>0</td>\n",
       "      <td>Negative</td>\n",
       "      <td>1346976000</td>\n",
       "      <td>Not as Advertised</td>\n",
       "      <td>Product arrived labeled as Jumbo Salted Peanut...</td>\n",
       "    </tr>\n",
       "    <tr>\n",
       "      <th>2</th>\n",
       "      <td>3</td>\n",
       "      <td>B000LQOCH0</td>\n",
       "      <td>ABXLMWJIXXAIN</td>\n",
       "      <td>Natalia Corres \"Natalia Corres\"</td>\n",
       "      <td>1</td>\n",
       "      <td>1</td>\n",
       "      <td>Positive</td>\n",
       "      <td>1219017600</td>\n",
       "      <td>\"Delight\" says it all</td>\n",
       "      <td>This is a confection that has been around a fe...</td>\n",
       "    </tr>\n",
       "  </tbody>\n",
       "</table>\n",
       "</div>"
      ],
      "text/plain": [
       "   Id   ProductId          UserId                      ProfileName  \\\n",
       "0   1  B001E4KFG0  A3SGXH7AUHU8GW                       delmartian   \n",
       "1   2  B00813GRG4  A1D87F6ZCVE5NK                           dll pa   \n",
       "2   3  B000LQOCH0   ABXLMWJIXXAIN  Natalia Corres \"Natalia Corres\"   \n",
       "\n",
       "   HelpfulnessNumerator  HelpfulnessDenominator     Score        Time  \\\n",
       "0                     1                       1  Positive  1303862400   \n",
       "1                     0                       0  Negative  1346976000   \n",
       "2                     1                       1  Positive  1219017600   \n",
       "\n",
       "                 Summary                                               Text  \n",
       "0  Good Quality Dog Food  I have bought several of the Vitality canned d...  \n",
       "1      Not as Advertised  Product arrived labeled as Jumbo Salted Peanut...  \n",
       "2  \"Delight\" says it all  This is a confection that has been around a fe...  "
      ]
     },
     "execution_count": 3,
     "metadata": {},
     "output_type": "execute_result"
    }
   ],
   "source": [
    "# using SQLite Table to read data.\n",
    "con = sqlite3.connect('database.sqlite') \n",
    "\n",
    "# filtering only positive and negative reviews i.e. \n",
    "# not taking into consideration those reviews with Score=3\n",
    "# SELECT * FROM Reviews WHERE Score != 3 LIMIT 500000, will give top 500000 data points\n",
    "# you can change the number to any other number based on your computing power\n",
    "\n",
    "# filtered_data = pd.read_sql_query(\"\"\" SELECT * FROM Reviews WHERE Score != 3 LIMIT 500000\"\"\", con) \n",
    "# for tsne assignment you can take 5k data points\n",
    "\n",
    "filtered_data = pd.read_sql_query(\"\"\" SELECT * FROM Reviews \"\"\", con) \n",
    "\n",
    "# Give reviews with Score>3 a positive rating(1), and reviews with a score<3 a negative rating(0).\n",
    "def partition(x):\n",
    "    if x < 3:\n",
    "        return 'Negative'\n",
    "    return 'Positive'\n",
    "\n",
    "#changing reviews with score less than 3 to be positive and vice-versa\n",
    "actualScore = filtered_data['Score']\n",
    "positiveNegative = actualScore.map(partition) \n",
    "filtered_data['Score'] = positiveNegative\n",
    "print(\"Number of data points in our data\", filtered_data.shape)\n",
    "filtered_data.head(3)"
   ]
  },
  {
   "cell_type": "code",
   "execution_count": 4,
   "metadata": {},
   "outputs": [],
   "source": [
    "display = pd.read_sql_query(\"\"\"\n",
    "SELECT UserId, ProductId, ProfileName, Time, Score, Text, COUNT(*)\n",
    "FROM Reviews\n",
    "GROUP BY UserId\n",
    "HAVING COUNT(*)>1\n",
    "\"\"\", con)"
   ]
  },
  {
   "cell_type": "code",
   "execution_count": 5,
   "metadata": {
    "scrolled": true
   },
   "outputs": [
    {
     "name": "stdout",
     "output_type": "stream",
     "text": [
      "(80668, 7)\n"
     ]
    },
    {
     "data": {
      "text/html": [
       "<div>\n",
       "<style scoped>\n",
       "    .dataframe tbody tr th:only-of-type {\n",
       "        vertical-align: middle;\n",
       "    }\n",
       "\n",
       "    .dataframe tbody tr th {\n",
       "        vertical-align: top;\n",
       "    }\n",
       "\n",
       "    .dataframe thead th {\n",
       "        text-align: right;\n",
       "    }\n",
       "</style>\n",
       "<table border=\"1\" class=\"dataframe\">\n",
       "  <thead>\n",
       "    <tr style=\"text-align: right;\">\n",
       "      <th></th>\n",
       "      <th>UserId</th>\n",
       "      <th>ProductId</th>\n",
       "      <th>ProfileName</th>\n",
       "      <th>Time</th>\n",
       "      <th>Score</th>\n",
       "      <th>Text</th>\n",
       "      <th>COUNT(*)</th>\n",
       "    </tr>\n",
       "  </thead>\n",
       "  <tbody>\n",
       "    <tr>\n",
       "      <th>0</th>\n",
       "      <td>#oc-R115TNMSPFT9I7</td>\n",
       "      <td>B007Y59HVM</td>\n",
       "      <td>Breyton</td>\n",
       "      <td>1331510400</td>\n",
       "      <td>2</td>\n",
       "      <td>Overall its just OK when considering the price...</td>\n",
       "      <td>2</td>\n",
       "    </tr>\n",
       "    <tr>\n",
       "      <th>1</th>\n",
       "      <td>#oc-R11D9D7SHXIJB9</td>\n",
       "      <td>B005HG9ET0</td>\n",
       "      <td>Louis E. Emory \"hoppy\"</td>\n",
       "      <td>1342396800</td>\n",
       "      <td>5</td>\n",
       "      <td>My wife has recurring extreme muscle spasms, u...</td>\n",
       "      <td>3</td>\n",
       "    </tr>\n",
       "    <tr>\n",
       "      <th>2</th>\n",
       "      <td>#oc-R11DNU2NBKQ23Z</td>\n",
       "      <td>B007Y59HVM</td>\n",
       "      <td>Kim Cieszykowski</td>\n",
       "      <td>1348531200</td>\n",
       "      <td>1</td>\n",
       "      <td>This coffee is horrible and unfortunately not ...</td>\n",
       "      <td>2</td>\n",
       "    </tr>\n",
       "    <tr>\n",
       "      <th>3</th>\n",
       "      <td>#oc-R11O5J5ZVQE25C</td>\n",
       "      <td>B005HG9ET0</td>\n",
       "      <td>Penguin Chick</td>\n",
       "      <td>1346889600</td>\n",
       "      <td>5</td>\n",
       "      <td>This will be the bottle that you grab from the...</td>\n",
       "      <td>3</td>\n",
       "    </tr>\n",
       "    <tr>\n",
       "      <th>4</th>\n",
       "      <td>#oc-R12KPBODL2B5ZD</td>\n",
       "      <td>B007OSBE1U</td>\n",
       "      <td>Christopher P. Presta</td>\n",
       "      <td>1348617600</td>\n",
       "      <td>1</td>\n",
       "      <td>I didnt like this coffee. Instead of telling y...</td>\n",
       "      <td>2</td>\n",
       "    </tr>\n",
       "  </tbody>\n",
       "</table>\n",
       "</div>"
      ],
      "text/plain": [
       "               UserId   ProductId             ProfileName        Time  Score  \\\n",
       "0  #oc-R115TNMSPFT9I7  B007Y59HVM                 Breyton  1331510400      2   \n",
       "1  #oc-R11D9D7SHXIJB9  B005HG9ET0  Louis E. Emory \"hoppy\"  1342396800      5   \n",
       "2  #oc-R11DNU2NBKQ23Z  B007Y59HVM        Kim Cieszykowski  1348531200      1   \n",
       "3  #oc-R11O5J5ZVQE25C  B005HG9ET0           Penguin Chick  1346889600      5   \n",
       "4  #oc-R12KPBODL2B5ZD  B007OSBE1U   Christopher P. Presta  1348617600      1   \n",
       "\n",
       "                                                Text  COUNT(*)  \n",
       "0  Overall its just OK when considering the price...         2  \n",
       "1  My wife has recurring extreme muscle spasms, u...         3  \n",
       "2  This coffee is horrible and unfortunately not ...         2  \n",
       "3  This will be the bottle that you grab from the...         3  \n",
       "4  I didnt like this coffee. Instead of telling y...         2  "
      ]
     },
     "execution_count": 5,
     "metadata": {},
     "output_type": "execute_result"
    }
   ],
   "source": [
    "print(display.shape)\n",
    "display.head()"
   ]
  },
  {
   "cell_type": "code",
   "execution_count": 6,
   "metadata": {},
   "outputs": [
    {
     "data": {
      "text/html": [
       "<div>\n",
       "<style scoped>\n",
       "    .dataframe tbody tr th:only-of-type {\n",
       "        vertical-align: middle;\n",
       "    }\n",
       "\n",
       "    .dataframe tbody tr th {\n",
       "        vertical-align: top;\n",
       "    }\n",
       "\n",
       "    .dataframe thead th {\n",
       "        text-align: right;\n",
       "    }\n",
       "</style>\n",
       "<table border=\"1\" class=\"dataframe\">\n",
       "  <thead>\n",
       "    <tr style=\"text-align: right;\">\n",
       "      <th></th>\n",
       "      <th>UserId</th>\n",
       "      <th>ProductId</th>\n",
       "      <th>ProfileName</th>\n",
       "      <th>Time</th>\n",
       "      <th>Score</th>\n",
       "      <th>Text</th>\n",
       "      <th>COUNT(*)</th>\n",
       "    </tr>\n",
       "  </thead>\n",
       "  <tbody>\n",
       "    <tr>\n",
       "      <th>80638</th>\n",
       "      <td>AZY10LLTJ71NX</td>\n",
       "      <td>B006P7E5ZI</td>\n",
       "      <td>undertheshrine \"undertheshrine\"</td>\n",
       "      <td>1334707200</td>\n",
       "      <td>5</td>\n",
       "      <td>I was recommended to try green tea extract to ...</td>\n",
       "      <td>5</td>\n",
       "    </tr>\n",
       "  </tbody>\n",
       "</table>\n",
       "</div>"
      ],
      "text/plain": [
       "              UserId   ProductId                      ProfileName        Time  \\\n",
       "80638  AZY10LLTJ71NX  B006P7E5ZI  undertheshrine \"undertheshrine\"  1334707200   \n",
       "\n",
       "       Score                                               Text  COUNT(*)  \n",
       "80638      5  I was recommended to try green tea extract to ...         5  "
      ]
     },
     "execution_count": 6,
     "metadata": {},
     "output_type": "execute_result"
    }
   ],
   "source": [
    "display[display['UserId']=='AZY10LLTJ71NX']"
   ]
  },
  {
   "cell_type": "code",
   "execution_count": 7,
   "metadata": {},
   "outputs": [
    {
     "data": {
      "text/plain": [
       "393063"
      ]
     },
     "execution_count": 7,
     "metadata": {},
     "output_type": "execute_result"
    }
   ],
   "source": [
    "display['COUNT(*)'].sum()"
   ]
  },
  {
   "cell_type": "markdown",
   "metadata": {},
   "source": [
    "#  [2] Exploratory Data Analysis"
   ]
  },
  {
   "cell_type": "markdown",
   "metadata": {},
   "source": [
    "## [2.1] Data Cleaning: Deduplication\n",
    "\n",
    "It is observed (as shown in the table below) that the reviews data had many duplicate entries. Hence it was necessary to remove duplicates in order to get unbiased results for the analysis of the data.  Following is an example:"
   ]
  },
  {
   "cell_type": "code",
   "execution_count": 8,
   "metadata": {
    "scrolled": false
   },
   "outputs": [
    {
     "data": {
      "text/html": [
       "<div>\n",
       "<style scoped>\n",
       "    .dataframe tbody tr th:only-of-type {\n",
       "        vertical-align: middle;\n",
       "    }\n",
       "\n",
       "    .dataframe tbody tr th {\n",
       "        vertical-align: top;\n",
       "    }\n",
       "\n",
       "    .dataframe thead th {\n",
       "        text-align: right;\n",
       "    }\n",
       "</style>\n",
       "<table border=\"1\" class=\"dataframe\">\n",
       "  <thead>\n",
       "    <tr style=\"text-align: right;\">\n",
       "      <th></th>\n",
       "      <th>Id</th>\n",
       "      <th>ProductId</th>\n",
       "      <th>UserId</th>\n",
       "      <th>ProfileName</th>\n",
       "      <th>HelpfulnessNumerator</th>\n",
       "      <th>HelpfulnessDenominator</th>\n",
       "      <th>Score</th>\n",
       "      <th>Time</th>\n",
       "      <th>Summary</th>\n",
       "      <th>Text</th>\n",
       "    </tr>\n",
       "  </thead>\n",
       "  <tbody>\n",
       "    <tr>\n",
       "      <th>0</th>\n",
       "      <td>78445</td>\n",
       "      <td>B000HDL1RQ</td>\n",
       "      <td>AR5J8UI46CURR</td>\n",
       "      <td>Geetha Krishnan</td>\n",
       "      <td>2</td>\n",
       "      <td>2</td>\n",
       "      <td>5</td>\n",
       "      <td>1199577600</td>\n",
       "      <td>LOACKER QUADRATINI VANILLA WAFERS</td>\n",
       "      <td>DELICIOUS WAFERS. I FIND THAT EUROPEAN WAFERS ...</td>\n",
       "    </tr>\n",
       "    <tr>\n",
       "      <th>1</th>\n",
       "      <td>138317</td>\n",
       "      <td>B000HDOPYC</td>\n",
       "      <td>AR5J8UI46CURR</td>\n",
       "      <td>Geetha Krishnan</td>\n",
       "      <td>2</td>\n",
       "      <td>2</td>\n",
       "      <td>5</td>\n",
       "      <td>1199577600</td>\n",
       "      <td>LOACKER QUADRATINI VANILLA WAFERS</td>\n",
       "      <td>DELICIOUS WAFERS. I FIND THAT EUROPEAN WAFERS ...</td>\n",
       "    </tr>\n",
       "    <tr>\n",
       "      <th>2</th>\n",
       "      <td>138277</td>\n",
       "      <td>B000HDOPYM</td>\n",
       "      <td>AR5J8UI46CURR</td>\n",
       "      <td>Geetha Krishnan</td>\n",
       "      <td>2</td>\n",
       "      <td>2</td>\n",
       "      <td>5</td>\n",
       "      <td>1199577600</td>\n",
       "      <td>LOACKER QUADRATINI VANILLA WAFERS</td>\n",
       "      <td>DELICIOUS WAFERS. I FIND THAT EUROPEAN WAFERS ...</td>\n",
       "    </tr>\n",
       "    <tr>\n",
       "      <th>3</th>\n",
       "      <td>73791</td>\n",
       "      <td>B000HDOPZG</td>\n",
       "      <td>AR5J8UI46CURR</td>\n",
       "      <td>Geetha Krishnan</td>\n",
       "      <td>2</td>\n",
       "      <td>2</td>\n",
       "      <td>5</td>\n",
       "      <td>1199577600</td>\n",
       "      <td>LOACKER QUADRATINI VANILLA WAFERS</td>\n",
       "      <td>DELICIOUS WAFERS. I FIND THAT EUROPEAN WAFERS ...</td>\n",
       "    </tr>\n",
       "    <tr>\n",
       "      <th>4</th>\n",
       "      <td>155049</td>\n",
       "      <td>B000PAQ75C</td>\n",
       "      <td>AR5J8UI46CURR</td>\n",
       "      <td>Geetha Krishnan</td>\n",
       "      <td>2</td>\n",
       "      <td>2</td>\n",
       "      <td>5</td>\n",
       "      <td>1199577600</td>\n",
       "      <td>LOACKER QUADRATINI VANILLA WAFERS</td>\n",
       "      <td>DELICIOUS WAFERS. I FIND THAT EUROPEAN WAFERS ...</td>\n",
       "    </tr>\n",
       "  </tbody>\n",
       "</table>\n",
       "</div>"
      ],
      "text/plain": [
       "       Id   ProductId         UserId      ProfileName  HelpfulnessNumerator  \\\n",
       "0   78445  B000HDL1RQ  AR5J8UI46CURR  Geetha Krishnan                     2   \n",
       "1  138317  B000HDOPYC  AR5J8UI46CURR  Geetha Krishnan                     2   \n",
       "2  138277  B000HDOPYM  AR5J8UI46CURR  Geetha Krishnan                     2   \n",
       "3   73791  B000HDOPZG  AR5J8UI46CURR  Geetha Krishnan                     2   \n",
       "4  155049  B000PAQ75C  AR5J8UI46CURR  Geetha Krishnan                     2   \n",
       "\n",
       "   HelpfulnessDenominator  Score        Time  \\\n",
       "0                       2      5  1199577600   \n",
       "1                       2      5  1199577600   \n",
       "2                       2      5  1199577600   \n",
       "3                       2      5  1199577600   \n",
       "4                       2      5  1199577600   \n",
       "\n",
       "                             Summary  \\\n",
       "0  LOACKER QUADRATINI VANILLA WAFERS   \n",
       "1  LOACKER QUADRATINI VANILLA WAFERS   \n",
       "2  LOACKER QUADRATINI VANILLA WAFERS   \n",
       "3  LOACKER QUADRATINI VANILLA WAFERS   \n",
       "4  LOACKER QUADRATINI VANILLA WAFERS   \n",
       "\n",
       "                                                Text  \n",
       "0  DELICIOUS WAFERS. I FIND THAT EUROPEAN WAFERS ...  \n",
       "1  DELICIOUS WAFERS. I FIND THAT EUROPEAN WAFERS ...  \n",
       "2  DELICIOUS WAFERS. I FIND THAT EUROPEAN WAFERS ...  \n",
       "3  DELICIOUS WAFERS. I FIND THAT EUROPEAN WAFERS ...  \n",
       "4  DELICIOUS WAFERS. I FIND THAT EUROPEAN WAFERS ...  "
      ]
     },
     "execution_count": 8,
     "metadata": {},
     "output_type": "execute_result"
    }
   ],
   "source": [
    "display= pd.read_sql_query(\"\"\"\n",
    "SELECT *\n",
    "FROM Reviews\n",
    "WHERE Score != 3 AND UserId=\"AR5J8UI46CURR\"\n",
    "ORDER BY ProductID\n",
    "\"\"\", con)\n",
    "display.head()"
   ]
  },
  {
   "cell_type": "markdown",
   "metadata": {},
   "source": [
    "As it can be seen above that same user has multiple reviews with same values for HelpfulnessNumerator, HelpfulnessDenominator, Score, Time, Summary and Text and on doing analysis it was found that <br>\n",
    "<br> \n",
    "ProductId=B000HDOPZG was Loacker Quadratini Vanilla Wafer Cookies, 8.82-Ounce Packages (Pack of 8)<br>\n",
    "<br> \n",
    "ProductId=B000HDL1RQ was Loacker Quadratini Lemon Wafer Cookies, 8.82-Ounce Packages (Pack of 8) and so on<br>\n",
    "\n",
    "It was inferred after analysis that reviews with same parameters other than ProductId belonged to the same product just having different flavour or quantity. Hence in order to reduce redundancy it was decided to eliminate the rows having same parameters.<br>\n",
    "\n",
    "The method used for the same was that we first sort the data according to ProductId and then just keep the first similar product review and delelte the others. for eg. in the above just the review for ProductId=B000HDL1RQ remains. This method ensures that there is only one representative for each product and deduplication without sorting would lead to possibility of different representatives still existing for the same product."
   ]
  },
  {
   "cell_type": "code",
   "execution_count": 9,
   "metadata": {},
   "outputs": [],
   "source": [
    "#Sorting data according to ProductId in ascending order\n",
    "sorted_data=filtered_data.sort_values('ProductId', axis=0, ascending=True, inplace=False, kind='quicksort', na_position='last')"
   ]
  },
  {
   "cell_type": "code",
   "execution_count": 10,
   "metadata": {},
   "outputs": [
    {
     "data": {
      "text/plain": [
       "(393933, 10)"
      ]
     },
     "execution_count": 10,
     "metadata": {},
     "output_type": "execute_result"
    }
   ],
   "source": [
    "#Deduplication of entries\n",
    "final=sorted_data.drop_duplicates(subset={\"UserId\",\"ProfileName\",\"Time\",\"Text\"}, keep='first', inplace=False)\n",
    "final.shape"
   ]
  },
  {
   "cell_type": "code",
   "execution_count": 11,
   "metadata": {},
   "outputs": [
    {
     "data": {
      "text/plain": [
       "69.29901100176971"
      ]
     },
     "execution_count": 11,
     "metadata": {},
     "output_type": "execute_result"
    }
   ],
   "source": [
    "#Checking to see how much % of data still remains\n",
    "(final['Id'].size*1.0)/(filtered_data['Id'].size*1.0)*100"
   ]
  },
  {
   "cell_type": "markdown",
   "metadata": {},
   "source": [
    "<b>Observation:-</b> It was also seen that in two rows given below the value of HelpfulnessNumerator is greater than HelpfulnessDenominator which is not practically possible hence these two rows too are removed from calcualtions"
   ]
  },
  {
   "cell_type": "code",
   "execution_count": 12,
   "metadata": {},
   "outputs": [
    {
     "data": {
      "text/html": [
       "<div>\n",
       "<style scoped>\n",
       "    .dataframe tbody tr th:only-of-type {\n",
       "        vertical-align: middle;\n",
       "    }\n",
       "\n",
       "    .dataframe tbody tr th {\n",
       "        vertical-align: top;\n",
       "    }\n",
       "\n",
       "    .dataframe thead th {\n",
       "        text-align: right;\n",
       "    }\n",
       "</style>\n",
       "<table border=\"1\" class=\"dataframe\">\n",
       "  <thead>\n",
       "    <tr style=\"text-align: right;\">\n",
       "      <th></th>\n",
       "      <th>Id</th>\n",
       "      <th>ProductId</th>\n",
       "      <th>UserId</th>\n",
       "      <th>ProfileName</th>\n",
       "      <th>HelpfulnessNumerator</th>\n",
       "      <th>HelpfulnessDenominator</th>\n",
       "      <th>Score</th>\n",
       "      <th>Time</th>\n",
       "      <th>Summary</th>\n",
       "      <th>Text</th>\n",
       "    </tr>\n",
       "  </thead>\n",
       "  <tbody>\n",
       "    <tr>\n",
       "      <th>0</th>\n",
       "      <td>64422</td>\n",
       "      <td>B000MIDROQ</td>\n",
       "      <td>A161DK06JJMCYF</td>\n",
       "      <td>J. E. Stephens \"Jeanne\"</td>\n",
       "      <td>3</td>\n",
       "      <td>1</td>\n",
       "      <td>5</td>\n",
       "      <td>1224892800</td>\n",
       "      <td>Bought This for My Son at College</td>\n",
       "      <td>My son loves spaghetti so I didn't hesitate or...</td>\n",
       "    </tr>\n",
       "    <tr>\n",
       "      <th>1</th>\n",
       "      <td>44737</td>\n",
       "      <td>B001EQ55RW</td>\n",
       "      <td>A2V0I904FH7ABY</td>\n",
       "      <td>Ram</td>\n",
       "      <td>3</td>\n",
       "      <td>2</td>\n",
       "      <td>4</td>\n",
       "      <td>1212883200</td>\n",
       "      <td>Pure cocoa taste with crunchy almonds inside</td>\n",
       "      <td>It was almost a 'love at first bite' - the per...</td>\n",
       "    </tr>\n",
       "  </tbody>\n",
       "</table>\n",
       "</div>"
      ],
      "text/plain": [
       "      Id   ProductId          UserId              ProfileName  \\\n",
       "0  64422  B000MIDROQ  A161DK06JJMCYF  J. E. Stephens \"Jeanne\"   \n",
       "1  44737  B001EQ55RW  A2V0I904FH7ABY                      Ram   \n",
       "\n",
       "   HelpfulnessNumerator  HelpfulnessDenominator  Score        Time  \\\n",
       "0                     3                       1      5  1224892800   \n",
       "1                     3                       2      4  1212883200   \n",
       "\n",
       "                                        Summary  \\\n",
       "0             Bought This for My Son at College   \n",
       "1  Pure cocoa taste with crunchy almonds inside   \n",
       "\n",
       "                                                Text  \n",
       "0  My son loves spaghetti so I didn't hesitate or...  \n",
       "1  It was almost a 'love at first bite' - the per...  "
      ]
     },
     "execution_count": 12,
     "metadata": {},
     "output_type": "execute_result"
    }
   ],
   "source": [
    "display= pd.read_sql_query(\"\"\"\n",
    "SELECT *\n",
    "FROM Reviews\n",
    "WHERE Score != 3 AND Id=44737 OR Id=64422\n",
    "ORDER BY ProductID\n",
    "\"\"\", con)\n",
    "\n",
    "display.head()"
   ]
  },
  {
   "cell_type": "code",
   "execution_count": 13,
   "metadata": {},
   "outputs": [],
   "source": [
    "final=final[final.HelpfulnessNumerator<=final.HelpfulnessDenominator]"
   ]
  },
  {
   "cell_type": "code",
   "execution_count": 14,
   "metadata": {},
   "outputs": [
    {
     "name": "stdout",
     "output_type": "stream",
     "text": [
      "(393931, 10)\n"
     ]
    },
    {
     "data": {
      "text/plain": [
       "Positive    336824\n",
       "Negative     57107\n",
       "Name: Score, dtype: int64"
      ]
     },
     "execution_count": 14,
     "metadata": {},
     "output_type": "execute_result"
    }
   ],
   "source": [
    "#Before starting the next phase of preprocessing lets see the number of entries left\n",
    "print(final.shape)\n",
    "\n",
    "#How many positive and negative reviews are present in our dataset?\n",
    "final['Score'].value_counts()"
   ]
  },
  {
   "cell_type": "markdown",
   "metadata": {},
   "source": [
    "#  [3] Preprocessing"
   ]
  },
  {
   "cell_type": "markdown",
   "metadata": {},
   "source": [
    "## [3.1].  Preprocessing Review Text\n",
    "\n",
    "Now that we have finished deduplication our data requires some preprocessing before we go on further with analysis and making the prediction model.\n",
    "\n",
    "Hence in the Preprocessing phase we do the following in the order below:-\n",
    "\n",
    "1. Begin by removing the html tags\n",
    "2. Remove any punctuations or limited set of special characters like , or . or # etc.\n",
    "3. Check if the word is made up of english letters and is not alpha-numeric\n",
    "4. Check to see if the length of the word is greater than 2 (as it was researched that there is no adjective in 2-letters)\n",
    "5. Convert the word to lowercase\n",
    "6. Remove Stopwords\n",
    "7. Finally Snowball Stemming the word (it was obsereved to be better than Porter Stemming)<br>\n",
    "\n",
    "After which we collect the words used to describe positive and negative reviews"
   ]
  },
  {
   "cell_type": "code",
   "execution_count": 15,
   "metadata": {},
   "outputs": [
    {
     "name": "stdout",
     "output_type": "stream",
     "text": [
      "In June<br />I saw a charming group<br />of roses all begin<br />to droop<br />I pepped them up<br />with chicken soup!<br />Sprinkle once<br />sprinkle twice<br />sprinkle chicken soup<br />with rice<br /><br />This is a great book to teach children the months of the year. The repetition of the phrases and the funny little stories with accompanying pictures make for an ideal bedtime read. This isn't nearly as good as some of Sendak's other books (like Where the Wild Things are or Pierre: The Boy Who Didn't Care), but it still carries his unique brand of charm.\n",
      "==================================================\n",
      "Its a great snack for icecream lovers who have teeth sensitve to cold.<br />All the flavor u want and no mater how much or fast u eat no brain frezze.<br />I found it best when its cold out side i can still have my icecream and not fell like im frezzing.<br />Its a great value price /per product. And has a long shelf life making it a good survival snack.\n",
      "==================================================\n",
      "My cat loves these bubbles. All I have to say is \"Do you want bubbles?\" and she comes running out from wherever she may be hiding. She meows and pounces on the bubbles. I am giving them a rating of 4 though because they smell horrible. If they drip on anything white it will turn green, but can easily be cleaned with some water and a sponge!!!!\n",
      "==================================================\n",
      "WOW, this is super spicy.  I usually like a kick to my food but wow, literally 2 drops keeps my mouth on fire throughout the meal.  It's a great prank to use on people at BBQ's (as long as they can take a joke) and is a great attention grabber at the office.  Over the past few months I've owned, I barely used 20% of the bottle.  I would definitely recommend if you like the extra \"umph\" in your food or just a morning wake up!\n",
      "==================================================\n"
     ]
    }
   ],
   "source": [
    "# printing some random reviews\n",
    "sent_0 = final['Text'].values[0]\n",
    "print(sent_0)\n",
    "print(\"=\"*50)\n",
    "\n",
    "sent_1000 = final['Text'].values[1000]\n",
    "print(sent_1000)\n",
    "print(\"=\"*50)\n",
    "\n",
    "sent_1500 = final['Text'].values[1500]\n",
    "print(sent_1500)\n",
    "print(\"=\"*50)\n",
    "\n",
    "sent_4900 = final['Text'].values[4900]\n",
    "print(sent_4900)\n",
    "print(\"=\"*50)"
   ]
  },
  {
   "cell_type": "code",
   "execution_count": 16,
   "metadata": {},
   "outputs": [
    {
     "name": "stdout",
     "output_type": "stream",
     "text": [
      "In June<br />I saw a charming group<br />of roses all begin<br />to droop<br />I pepped them up<br />with chicken soup!<br />Sprinkle once<br />sprinkle twice<br />sprinkle chicken soup<br />with rice<br /><br />This is a great book to teach children the months of the year. The repetition of the phrases and the funny little stories with accompanying pictures make for an ideal bedtime read. This isn't nearly as good as some of Sendak's other books (like Where the Wild Things are or Pierre: The Boy Who Didn't Care), but it still carries his unique brand of charm.\n"
     ]
    }
   ],
   "source": [
    "# remove urls from text python: https://stackoverflow.com/a/40823105/4084039\n",
    "sent_0 = re.sub(r\"http\\S+\", \"\", sent_0)\n",
    "sent_1000 = re.sub(r\"http\\S+\", \"\", sent_1000)\n",
    "sent_150 = re.sub(r\"http\\S+\", \"\", sent_1500)\n",
    "sent_4900 = re.sub(r\"http\\S+\", \"\", sent_4900)\n",
    "\n",
    "print(sent_0)"
   ]
  },
  {
   "cell_type": "code",
   "execution_count": 17,
   "metadata": {},
   "outputs": [
    {
     "name": "stdout",
     "output_type": "stream",
     "text": [
      "In JuneI saw a charming groupof roses all beginto droopI pepped them upwith chicken soup!Sprinkle oncesprinkle twicesprinkle chicken soupwith riceThis is a great book to teach children the months of the year. The repetition of the phrases and the funny little stories with accompanying pictures make for an ideal bedtime read. This isn't nearly as good as some of Sendak's other books (like Where the Wild Things are or Pierre: The Boy Who Didn't Care), but it still carries his unique brand of charm.\n",
      "==================================================\n",
      "Its a great snack for icecream lovers who have teeth sensitve to cold.All the flavor u want and no mater how much or fast u eat no brain frezze.I found it best when its cold out side i can still have my icecream and not fell like im frezzing.Its a great value price /per product. And has a long shelf life making it a good survival snack.\n",
      "==================================================\n",
      "My cat loves these bubbles. All I have to say is \"Do you want bubbles?\" and she comes running out from wherever she may be hiding. She meows and pounces on the bubbles. I am giving them a rating of 4 though because they smell horrible. If they drip on anything white it will turn green, but can easily be cleaned with some water and a sponge!!!!\n",
      "==================================================\n",
      "WOW, this is super spicy.  I usually like a kick to my food but wow, literally 2 drops keeps my mouth on fire throughout the meal.  It's a great prank to use on people at BBQ's (as long as they can take a joke) and is a great attention grabber at the office.  Over the past few months I've owned, I barely used 20% of the bottle.  I would definitely recommend if you like the extra \"umph\" in your food or just a morning wake up!\n"
     ]
    }
   ],
   "source": [
    "# https://stackoverflow.com/questions/16206380/python-beautifulsoup-how-to-remove-all-tags-from-an-element\n",
    "from bs4 import BeautifulSoup\n",
    "\n",
    "soup = BeautifulSoup(sent_0, 'lxml')\n",
    "text = soup.get_text()\n",
    "print(text)\n",
    "print(\"=\"*50)\n",
    "\n",
    "soup = BeautifulSoup(sent_1000, 'lxml')\n",
    "text = soup.get_text()\n",
    "print(text)\n",
    "print(\"=\"*50)\n",
    "\n",
    "soup = BeautifulSoup(sent_1500, 'lxml')\n",
    "text = soup.get_text()\n",
    "print(text)\n",
    "print(\"=\"*50)\n",
    "\n",
    "soup = BeautifulSoup(sent_4900, 'lxml')\n",
    "text = soup.get_text()\n",
    "print(text)"
   ]
  },
  {
   "cell_type": "code",
   "execution_count": 18,
   "metadata": {},
   "outputs": [],
   "source": [
    "def clean_html(sentence): #function to clean the word of html-tags\n",
    "    clean = re.compile('<.*?>')\n",
    "    clean_text = clean.sub('',sentence)\n",
    "    return clean_text\n",
    "def clean_punc(sentence): #function to clean the word pf any punctuation or special characters\n",
    "    cleaned = re.compile(r'[?|!|\\'|\"|#|:|-|.|,|)|(|\\\\|/|~|%|*]')\n",
    "    cleaned_punc = cleaned.sub('',sentence)\n",
    "    return cleaned_punc"
   ]
  },
  {
   "cell_type": "code",
   "execution_count": 19,
   "metadata": {},
   "outputs": [
    {
     "name": "stdout",
     "output_type": "stream",
     "text": [
      "In JuneI saw a charming groupof roses all beginto droopI pepped them upwith chicken soup!Sprinkle oncesprinkle twicesprinkle chicken soupwith riceThis is a great book to teach children the months of the year. The repetition of the phrases and the funny little stories with accompanying pictures make for an ideal bedtime read. This isn't nearly as good as some of Sendak's other books (like Where the Wild Things are or Pierre: The Boy Who Didn't Care), but it still carries his unique brand of charm.\n",
      "====================================================================================================\n",
      "In JuneI saw a charming groupof roses all beginto droopI pepped them upwith chicken soupSprinkle oncesprinkle twicesprinkle chicken soupwith riceThis is a great book to teach children the months of the year The repetition of the phrases and the funny little stories with accompanying pictures make for an ideal bedtime read This isnt nearly as good as some of Sendaks other books like Where the Wild Things are or Pierre The Boy Who Didnt Care but it still carries his unique brand of charm\n"
     ]
    }
   ],
   "source": [
    "cl = clean_html(sent_0)\n",
    "print(cl)\n",
    "print(100 * \"=\")\n",
    "print(clean_punc(cl))"
   ]
  },
  {
   "cell_type": "code",
   "execution_count": 22,
   "metadata": {},
   "outputs": [],
   "source": [
    "# https://stackoverflow.com/a/47091490/4084039\n",
    "import re\n",
    "\n",
    "def decontracted(phrase):\n",
    "    # specific\n",
    "    phrase = re.sub(r\"won't\", \"will not\", phrase)\n",
    "    phrase = re.sub(r\"can\\'t\", \"can not\", phrase)\n",
    "\n",
    "    # general\n",
    "    phrase = re.sub(r\"n\\'t\", \" not\", phrase)\n",
    "    phrase = re.sub(r\"\\'re\", \" are\", phrase)\n",
    "    phrase = re.sub(r\"\\'s\", \" is\", phrase)\n",
    "    phrase = re.sub(r\"\\'d\", \" would\", phrase)\n",
    "    phrase = re.sub(r\"\\'ll\", \" will\", phrase)\n",
    "    phrase = re.sub(r\"\\'t\", \" not\", phrase)\n",
    "    phrase = re.sub(r\"\\'ve\", \" have\", phrase)\n",
    "    phrase = re.sub(r\"\\'m\", \" am\", phrase)\n",
    "    return phrase"
   ]
  },
  {
   "cell_type": "code",
   "execution_count": 23,
   "metadata": {},
   "outputs": [
    {
     "name": "stdout",
     "output_type": "stream",
     "text": [
      "My cat loves these bubbles. All I have to say is \"Do you want bubbles?\" and she comes running out from wherever she may be hiding. She meows and pounces on the bubbles. I am giving them a rating of 4 though because they smell horrible. If they drip on anything white it will turn green, but can easily be cleaned with some water and a sponge!!!!\n",
      "==================================================\n"
     ]
    }
   ],
   "source": [
    "sent_1500 = decontracted(sent_1500)\n",
    "print(sent_1500)\n",
    "print(\"=\"*50)"
   ]
  },
  {
   "cell_type": "code",
   "execution_count": 24,
   "metadata": {},
   "outputs": [
    {
     "name": "stdout",
     "output_type": "stream",
     "text": [
      "In June<br />I saw a charming group<br />of roses all begin<br />to droop<br />I pepped them up<br />with chicken soup!<br />Sprinkle once<br />sprinkle twice<br />sprinkle chicken soup<br />with rice<br /><br />This is a great book to teach children the months of the year. The repetition of the phrases and the funny little stories with accompanying pictures make for an ideal bedtime read. This isn't nearly as good as some of Sendak's other books (like Where the Wild Things are or Pierre: The Boy Who Didn't Care), but it still carries his unique brand of charm.\n"
     ]
    }
   ],
   "source": [
    "#remove words with numbers python: https://stackoverflow.com/a/18082370/4084039\n",
    "sent_0 = re.sub(\"\\S*\\d\\S*\", \"\", sent_0).strip()\n",
    "print(sent_0)"
   ]
  },
  {
   "cell_type": "code",
   "execution_count": 25,
   "metadata": {},
   "outputs": [
    {
     "name": "stdout",
     "output_type": "stream",
     "text": [
      "My cat loves these bubbles All I have to say is Do you want bubbles and she comes running out from wherever she may be hiding She meows and pounces on the bubbles I am giving them a rating of 4 though because they smell horrible If they drip on anything white it will turn green but can easily be cleaned with some water and a sponge \n"
     ]
    }
   ],
   "source": [
    "#remove spacial character: https://stackoverflow.com/a/5843547/4084039\n",
    "sent_1500 = re.sub('[^A-Za-z0-9]+', ' ', sent_1500)\n",
    "print(sent_1500)"
   ]
  },
  {
   "cell_type": "code",
   "execution_count": 26,
   "metadata": {},
   "outputs": [],
   "source": [
    "# https://gist.github.com/sebleier/554280\n",
    "# we are removing the words from the stop words list: 'no', 'nor', 'not'\n",
    "# <br /><br /> ==> after the above steps, we are getting \"br br\"\n",
    "# we are including them into stop words list\n",
    "# instead of <br /> if we have <br/> these tags would have revmoved in the 1st step\n",
    "\n",
    "stop = set(['br', 'the', 'i', 'me', 'my', 'myself', 'we', 'our', 'ours', 'ourselves', 'you', \"you're\", \"you've\",\\\n",
    "            \"you'll\", \"you'd\", 'your', 'yours', 'yourself', 'yourselves', 'he', 'him', 'his', 'himself', \\\n",
    "            'she', \"she's\", 'her', 'hers', 'herself', 'it', \"it's\", 'its', 'itself', 'they', 'them', 'their',\\\n",
    "            'theirs', 'themselves', 'what', 'which', 'who', 'whom', 'this', 'that', \"that'll\", 'these', 'those', \\\n",
    "            'am', 'is', 'are', 'was', 'were', 'be', 'been', 'being', 'have', 'has', 'had', 'having', 'do', 'does', \\\n",
    "            'did', 'doing', 'a', 'an', 'the', 'and', 'but', 'if', 'or', 'because', 'as', 'until', 'while', 'of', \\\n",
    "            'at', 'by', 'for', 'with', 'about', 'against', 'between', 'into', 'through', 'during', 'before', 'after',\\\n",
    "            'above', 'below', 'to', 'from', 'up', 'down', 'in', 'out', 'on', 'off', 'over', 'under', 'again', 'further',\\\n",
    "            'then', 'once', 'here', 'there', 'when', 'where', 'why', 'how', 'all', 'any', 'both', 'each', 'few', 'more',\\\n",
    "            'most', 'other', 'some', 'such', 'only', 'own', 'same', 'so', 'than', 'too', 'very', \\\n",
    "            's', 't', 'can', 'will', 'just', 'don', \"don't\", 'should', \"should've\", 'now', 'd', 'll', 'm', 'o', 're', \\\n",
    "            've', 'y', 'ain', 'aren', \"aren't\", 'couldn', \"couldn't\", 'didn', \"didn't\", 'doesn', \"doesn't\", 'hadn',\\\n",
    "            \"hadn't\", 'hasn', \"hasn't\", 'haven', \"haven't\", 'isn', \"isn't\", 'ma', 'mightn', \"mightn't\", 'mustn',\\\n",
    "            \"mustn't\", 'needn', \"needn't\", 'shan', \"shan't\", 'shouldn', \"shouldn't\", 'wasn', \"wasn't\", 'weren', \"weren't\", \\\n",
    "            'won', \"won't\", 'wouldn', \"wouldn't\"])"
   ]
  },
  {
   "cell_type": "code",
   "execution_count": 27,
   "metadata": {},
   "outputs": [
    {
     "name": "stderr",
     "output_type": "stream",
     "text": [
      "100%|█████████████████████████████████████████████████████████████████████████| 393931/393931 [07:14<00:00, 905.88it/s]\n"
     ]
    },
    {
     "name": "stdout",
     "output_type": "stream",
     "text": [
      "Processing completed in\n",
      "Wall time: 7min 15s\n"
     ]
    }
   ],
   "source": [
    "%%time\n",
    "from nltk.stem import SnowballStemmer\n",
    "snow = SnowballStemmer('english')\n",
    "str1 = ' '\n",
    "s=''\n",
    "final_string=[]\n",
    "all_positive_words=[] # store words from +ve reviews here\n",
    "all_negative_words=[] # store words from -ve reviews here.\n",
    "i=0\n",
    "for i, sent in enumerate(tqdm(final['Text'].values)):\n",
    "    filtered_sentence=[]\n",
    "    #print(sent);\n",
    "    sent = BeautifulSoup(sent, 'lxml').get_text()\n",
    "    sent = decontracted(sent)\n",
    "    sent = clean_html(sent) # remove HTMl tags\n",
    "    for w in sent.split():\n",
    "        # we have used cleanpunc(w).split(), one more split function here because consider w=\"abc.def\", cleanpunc(w) will return \"abc def\"\n",
    "        # if we dont use .split() function then we will be considring \"abc def\" as a single word, but if you use .split() function we will get \"abc\", \"def\"\n",
    "        #print(sent.split())\n",
    "        for cleaned_words in clean_punc(w).split():\n",
    "           # print(\"================================>\",cleaned_words)\n",
    "            if((cleaned_words.isalpha()) & (len(cleaned_words)>2)):    \n",
    "                    if(cleaned_words.lower() not in stop):\n",
    "                        s=(snow.stem(cleaned_words.lower())).encode('utf8')\n",
    "                       # print(\"Selected: Stem Word->\",s)\n",
    "                        filtered_sentence.append(s)\n",
    "                        if (final['Score'].values)[i] == 'Positive':\n",
    "                            all_positive_words.append(s) #list of all words used to describe positive reviews\n",
    "                        if (final['Score'].values)[i] == 'Negative':\n",
    "                            all_negative_words.append(s) #list of all words used to describe negative reviews reviews\n",
    "                    else:\n",
    "                        #print(\"Eliminated as it is a stopword\")\n",
    "                        continue\n",
    "            else:\n",
    "                #print(\"Eliminated as it is a numerical value or character of lenght less than 2\")\n",
    "                continue\n",
    "           # print(filtered_sentence)\n",
    "\n",
    "    str1 = b\" \".join(filtered_sentence) #final string of cleaned words\n",
    "    #print(\"***********************************************************************\")\n",
    "    final_string.append(str1)\n",
    "    #print(final_string)\n",
    "    i+=1\n",
    "final['Cleaned_Text']=final_string\n",
    "print(\"Processing completed in\")"
   ]
  },
  {
   "cell_type": "code",
   "execution_count": 28,
   "metadata": {},
   "outputs": [
    {
     "name": "stdout",
     "output_type": "stream",
     "text": [
      "No.of Positive words:: 13009917\n",
      "No.of Negative words:: 2387956\n",
      "Sample word from positive words:: [b'junei', b'saw', b'charm', b'groupof', b'rose', b'beginto', b'droopi', b'pep', b'upwith', b'chicken', b'soupsprinkl', b'oncesprinkl', b'twicesprinkl', b'chicken', b'soupwith', b'ricethi', b'great', b'book', b'teach', b'children']\n",
      "Sample word from negative words:: [b'give', b'five', b'star', b'mauric', b'sendak', b'stori', b'one', b'star', b'print', b'edit', b'bookmi', b'children', b'older', b'copi', b'book', b'familiar', b'previous', b'softcov', b'version', b'order']\n",
      "\n",
      "Most Common positive words [(b'not', 339960), (b'like', 159014), (b'tast', 145667), (b'good', 122861), (b'flavor', 121961), (b'use', 113317), (b'love', 112293), (b'great', 106316), (b'one', 105336), (b'product', 100471)]\n",
      "\n",
      "Most Common negative words [(b'not', 92681), (b'tast', 33839), (b'like', 32057), (b'product', 27445), (b'would', 23207), (b'one', 20179), (b'flavor', 18927), (b'tri', 17520), (b'use', 15155), (b'good', 14633)]\n"
     ]
    }
   ],
   "source": [
    "from collections import Counter\n",
    "print(\"No.of Positive words::\",len(all_positive_words))\n",
    "print(\"No.of Negative words::\",len(all_negative_words))\n",
    "print(\"Sample word from positive words::\",all_positive_words[0:20])\n",
    "print(\"Sample word from negative words::\",all_negative_words[0:20])\n",
    "positive_words = Counter(all_positive_words)\n",
    "print(\"\\nMost Common positive words\",positive_words.most_common(10))\n",
    "negative_words = Counter(all_negative_words)\n",
    "print(\"\\nMost Common negative words\",negative_words.most_common(10))"
   ]
  },
  {
   "cell_type": "code",
   "execution_count": 29,
   "metadata": {},
   "outputs": [
    {
     "name": "stderr",
     "output_type": "stream",
     "text": [
      "100%|████████████████████████████████████████████████████████████████████████| 393931/393931 [03:27<00:00, 1895.16it/s]\n"
     ]
    },
    {
     "name": "stdout",
     "output_type": "stream",
     "text": [
      "Processing completed in\n",
      "Wall time: 3min 28s\n"
     ]
    }
   ],
   "source": [
    "%%time\n",
    "from nltk.stem import SnowballStemmer\n",
    "snow = SnowballStemmer('english')\n",
    "str1 = ' '\n",
    "s=''\n",
    "final_string_nostem=[]\n",
    "all_positive_words=[] # store words from +ve reviews here\n",
    "all_negative_words=[] # store words from -ve reviews here.\n",
    "i=0\n",
    "for i, sent in enumerate(tqdm(final['Text'].values)):\n",
    "    filtered_sentence=[]\n",
    "    #print(sent);\n",
    "    sent = BeautifulSoup(sent, 'lxml').get_text()\n",
    "    sent = decontracted(sent)\n",
    "    sent = clean_html(sent) # remove HTMl tags\n",
    "    for w in sent.split():\n",
    "        # we have used cleanpunc(w).split(), one more split function here because consider w=\"abc.def\", cleanpunc(w) will return \"abc def\"\n",
    "        # if we dont use .split() function then we will be considring \"abc def\" as a single word, but if you use .split() function we will get \"abc\", \"def\"\n",
    "        #print(sent.split())\n",
    "        for cleaned_words in clean_punc(w).split():\n",
    "           # print(\"================================>\",cleaned_words)\n",
    "            if((cleaned_words.isalpha()) & (len(cleaned_words)>2)):    \n",
    "                    if(cleaned_words.lower() not in stop):\n",
    "                        s=cleaned_words.lower().encode('utf8')\n",
    "                        filtered_sentence.append(s)\n",
    "                        if (final['Score'].values)[i] == 'Positive':\n",
    "                            all_positive_words.append(s) #list of all words used to describe positive reviews\n",
    "                        if (final['Score'].values)[i] == 'Negative':\n",
    "                            all_negative_words.append(s) #list of all words used to describe negative reviews reviews\n",
    "                    else:\n",
    "                        #print(\"Eliminated as it is a stopword\")\n",
    "                        continue\n",
    "            else:\n",
    "                #print(\"Eliminated as it is a numerical value or character of lenght less than 2\")\n",
    "                continue\n",
    "           # print(filtered_sentence)\n",
    "\n",
    "    str1 = b\" \".join(filtered_sentence) #final string of cleaned words\n",
    "    #print(\"***********************************************************************\")\n",
    "    final_string_nostem.append(str1)\n",
    "    #print(final_string)\n",
    "    i+=1\n",
    "final['Cleaned_Text_nostem']=final_string_nostem\n",
    "print(\"Processing completed in\")"
   ]
  },
  {
   "cell_type": "code",
   "execution_count": 30,
   "metadata": {},
   "outputs": [
    {
     "data": {
      "text/html": [
       "<div>\n",
       "<style scoped>\n",
       "    .dataframe tbody tr th:only-of-type {\n",
       "        vertical-align: middle;\n",
       "    }\n",
       "\n",
       "    .dataframe tbody tr th {\n",
       "        vertical-align: top;\n",
       "    }\n",
       "\n",
       "    .dataframe thead th {\n",
       "        text-align: right;\n",
       "    }\n",
       "</style>\n",
       "<table border=\"1\" class=\"dataframe\">\n",
       "  <thead>\n",
       "    <tr style=\"text-align: right;\">\n",
       "      <th></th>\n",
       "      <th>Id</th>\n",
       "      <th>ProductId</th>\n",
       "      <th>UserId</th>\n",
       "      <th>ProfileName</th>\n",
       "      <th>HelpfulnessNumerator</th>\n",
       "      <th>HelpfulnessDenominator</th>\n",
       "      <th>Score</th>\n",
       "      <th>Time</th>\n",
       "      <th>Summary</th>\n",
       "      <th>Text</th>\n",
       "      <th>Cleaned_Text</th>\n",
       "      <th>Cleaned_Text_nostem</th>\n",
       "    </tr>\n",
       "  </thead>\n",
       "  <tbody>\n",
       "    <tr>\n",
       "      <th>150528</th>\n",
       "      <td>150529</td>\n",
       "      <td>0006641040</td>\n",
       "      <td>A25ACLV5KPB4W</td>\n",
       "      <td>Matt Hetling \"Matt\"</td>\n",
       "      <td>0</td>\n",
       "      <td>1</td>\n",
       "      <td>Positive</td>\n",
       "      <td>1108425600</td>\n",
       "      <td>Nice cadence, catchy rhymes</td>\n",
       "      <td>In June&lt;br /&gt;I saw a charming group&lt;br /&gt;of ro...</td>\n",
       "      <td>b'junei saw charm groupof rose beginto droopi ...</td>\n",
       "      <td>b'junei saw charming groupof roses beginto dro...</td>\n",
       "    </tr>\n",
       "    <tr>\n",
       "      <th>150506</th>\n",
       "      <td>150507</td>\n",
       "      <td>0006641040</td>\n",
       "      <td>A1S4A3IQ2MU7V4</td>\n",
       "      <td>sally sue \"sally sue\"</td>\n",
       "      <td>1</td>\n",
       "      <td>1</td>\n",
       "      <td>Positive</td>\n",
       "      <td>1191456000</td>\n",
       "      <td>chicken soup with rice months</td>\n",
       "      <td>This is a fun way for children to learn their ...</td>\n",
       "      <td>b'fun way children learn month year learn poem...</td>\n",
       "      <td>b'fun way children learn months year learn poe...</td>\n",
       "    </tr>\n",
       "    <tr>\n",
       "      <th>150505</th>\n",
       "      <td>150506</td>\n",
       "      <td>0006641040</td>\n",
       "      <td>A2IW4PEEKO2R0U</td>\n",
       "      <td>Tracy</td>\n",
       "      <td>1</td>\n",
       "      <td>1</td>\n",
       "      <td>Positive</td>\n",
       "      <td>1194739200</td>\n",
       "      <td>Love the book, miss the hard cover version</td>\n",
       "      <td>I grew up reading these Sendak books, and watc...</td>\n",
       "      <td>b'grew read sendak book watch realli rosi movi...</td>\n",
       "      <td>b'grew reading sendak books watching really ro...</td>\n",
       "    </tr>\n",
       "    <tr>\n",
       "      <th>150504</th>\n",
       "      <td>150505</td>\n",
       "      <td>0006641040</td>\n",
       "      <td>A2PTSM496CF40Z</td>\n",
       "      <td>Jason A. Teeple \"Nobody made a greater mistak...</td>\n",
       "      <td>1</td>\n",
       "      <td>1</td>\n",
       "      <td>Positive</td>\n",
       "      <td>1210809600</td>\n",
       "      <td>A classic</td>\n",
       "      <td>Get the movie or sound track and sing along wi...</td>\n",
       "      <td>b'get movi sound track sing along carol king g...</td>\n",
       "      <td>b'get movie sound track sing along carol king ...</td>\n",
       "    </tr>\n",
       "    <tr>\n",
       "      <th>150503</th>\n",
       "      <td>150504</td>\n",
       "      <td>0006641040</td>\n",
       "      <td>AQEYF1AXARWJZ</td>\n",
       "      <td>Les Sinclair \"book maven\"</td>\n",
       "      <td>1</td>\n",
       "      <td>1</td>\n",
       "      <td>Positive</td>\n",
       "      <td>1212278400</td>\n",
       "      <td>Chicken Soup with Rice</td>\n",
       "      <td>A very entertaining rhyming story--cleaver and...</td>\n",
       "      <td>b'entertain rhyme catchyth illustr imagin fit ...</td>\n",
       "      <td>b'entertaining rhyming catchythe illustrations...</td>\n",
       "    </tr>\n",
       "  </tbody>\n",
       "</table>\n",
       "</div>"
      ],
      "text/plain": [
       "            Id   ProductId          UserId  \\\n",
       "150528  150529  0006641040   A25ACLV5KPB4W   \n",
       "150506  150507  0006641040  A1S4A3IQ2MU7V4   \n",
       "150505  150506  0006641040  A2IW4PEEKO2R0U   \n",
       "150504  150505  0006641040  A2PTSM496CF40Z   \n",
       "150503  150504  0006641040   AQEYF1AXARWJZ   \n",
       "\n",
       "                                             ProfileName  \\\n",
       "150528                               Matt Hetling \"Matt\"   \n",
       "150506                             sally sue \"sally sue\"   \n",
       "150505                                             Tracy   \n",
       "150504  Jason A. Teeple \"Nobody made a greater mistak...   \n",
       "150503                         Les Sinclair \"book maven\"   \n",
       "\n",
       "        HelpfulnessNumerator  HelpfulnessDenominator     Score        Time  \\\n",
       "150528                     0                       1  Positive  1108425600   \n",
       "150506                     1                       1  Positive  1191456000   \n",
       "150505                     1                       1  Positive  1194739200   \n",
       "150504                     1                       1  Positive  1210809600   \n",
       "150503                     1                       1  Positive  1212278400   \n",
       "\n",
       "                                           Summary  \\\n",
       "150528                 Nice cadence, catchy rhymes   \n",
       "150506               chicken soup with rice months   \n",
       "150505  Love the book, miss the hard cover version   \n",
       "150504                                   A classic   \n",
       "150503                      Chicken Soup with Rice   \n",
       "\n",
       "                                                     Text  \\\n",
       "150528  In June<br />I saw a charming group<br />of ro...   \n",
       "150506  This is a fun way for children to learn their ...   \n",
       "150505  I grew up reading these Sendak books, and watc...   \n",
       "150504  Get the movie or sound track and sing along wi...   \n",
       "150503  A very entertaining rhyming story--cleaver and...   \n",
       "\n",
       "                                             Cleaned_Text  \\\n",
       "150528  b'junei saw charm groupof rose beginto droopi ...   \n",
       "150506  b'fun way children learn month year learn poem...   \n",
       "150505  b'grew read sendak book watch realli rosi movi...   \n",
       "150504  b'get movi sound track sing along carol king g...   \n",
       "150503  b'entertain rhyme catchyth illustr imagin fit ...   \n",
       "\n",
       "                                      Cleaned_Text_nostem  \n",
       "150528  b'junei saw charming groupof roses beginto dro...  \n",
       "150506  b'fun way children learn months year learn poe...  \n",
       "150505  b'grew reading sendak books watching really ro...  \n",
       "150504  b'get movie sound track sing along carol king ...  \n",
       "150503  b'entertaining rhyming catchythe illustrations...  "
      ]
     },
     "execution_count": 30,
     "metadata": {},
     "output_type": "execute_result"
    }
   ],
   "source": [
    "final.head()"
   ]
  },
  {
   "cell_type": "code",
   "execution_count": 31,
   "metadata": {},
   "outputs": [],
   "source": [
    "# Saving preprocessed reviews into sql DB\n",
    "import sqlite3 # importing sqlite3\n",
    "\n",
    "# Creating final_reviews.sqlite file to store preprocessed reviews\n",
    "con = sqlite3.connect('final_reviews.sqlite') \n",
    "con.text_factory = str\n",
    "final.to_sql('Reviews', con, if_exists='replace')"
   ]
  },
  {
   "cell_type": "code",
   "execution_count": 32,
   "metadata": {},
   "outputs": [
    {
     "data": {
      "text/html": [
       "<div>\n",
       "<style scoped>\n",
       "    .dataframe tbody tr th:only-of-type {\n",
       "        vertical-align: middle;\n",
       "    }\n",
       "\n",
       "    .dataframe tbody tr th {\n",
       "        vertical-align: top;\n",
       "    }\n",
       "\n",
       "    .dataframe thead th {\n",
       "        text-align: right;\n",
       "    }\n",
       "</style>\n",
       "<table border=\"1\" class=\"dataframe\">\n",
       "  <thead>\n",
       "    <tr style=\"text-align: right;\">\n",
       "      <th></th>\n",
       "      <th>index</th>\n",
       "      <th>Id</th>\n",
       "      <th>ProductId</th>\n",
       "      <th>UserId</th>\n",
       "      <th>ProfileName</th>\n",
       "      <th>HelpfulnessNumerator</th>\n",
       "      <th>HelpfulnessDenominator</th>\n",
       "      <th>Score</th>\n",
       "      <th>Time</th>\n",
       "      <th>Summary</th>\n",
       "      <th>Text</th>\n",
       "      <th>Cleaned_Text</th>\n",
       "      <th>Cleaned_Text_nostem</th>\n",
       "    </tr>\n",
       "  </thead>\n",
       "  <tbody>\n",
       "    <tr>\n",
       "      <th>0</th>\n",
       "      <td>150528</td>\n",
       "      <td>150529</td>\n",
       "      <td>0006641040</td>\n",
       "      <td>A25ACLV5KPB4W</td>\n",
       "      <td>Matt Hetling \"Matt\"</td>\n",
       "      <td>0</td>\n",
       "      <td>1</td>\n",
       "      <td>Positive</td>\n",
       "      <td>1108425600</td>\n",
       "      <td>Nice cadence, catchy rhymes</td>\n",
       "      <td>In June&lt;br /&gt;I saw a charming group&lt;br /&gt;of ro...</td>\n",
       "      <td>b'junei saw charm groupof rose beginto droopi ...</td>\n",
       "      <td>b'junei saw charming groupof roses beginto dro...</td>\n",
       "    </tr>\n",
       "    <tr>\n",
       "      <th>1</th>\n",
       "      <td>150506</td>\n",
       "      <td>150507</td>\n",
       "      <td>0006641040</td>\n",
       "      <td>A1S4A3IQ2MU7V4</td>\n",
       "      <td>sally sue \"sally sue\"</td>\n",
       "      <td>1</td>\n",
       "      <td>1</td>\n",
       "      <td>Positive</td>\n",
       "      <td>1191456000</td>\n",
       "      <td>chicken soup with rice months</td>\n",
       "      <td>This is a fun way for children to learn their ...</td>\n",
       "      <td>b'fun way children learn month year learn poem...</td>\n",
       "      <td>b'fun way children learn months year learn poe...</td>\n",
       "    </tr>\n",
       "    <tr>\n",
       "      <th>2</th>\n",
       "      <td>150505</td>\n",
       "      <td>150506</td>\n",
       "      <td>0006641040</td>\n",
       "      <td>A2IW4PEEKO2R0U</td>\n",
       "      <td>Tracy</td>\n",
       "      <td>1</td>\n",
       "      <td>1</td>\n",
       "      <td>Positive</td>\n",
       "      <td>1194739200</td>\n",
       "      <td>Love the book, miss the hard cover version</td>\n",
       "      <td>I grew up reading these Sendak books, and watc...</td>\n",
       "      <td>b'grew read sendak book watch realli rosi movi...</td>\n",
       "      <td>b'grew reading sendak books watching really ro...</td>\n",
       "    </tr>\n",
       "    <tr>\n",
       "      <th>3</th>\n",
       "      <td>150504</td>\n",
       "      <td>150505</td>\n",
       "      <td>0006641040</td>\n",
       "      <td>A2PTSM496CF40Z</td>\n",
       "      <td>Jason A. Teeple \"Nobody made a greater mistak...</td>\n",
       "      <td>1</td>\n",
       "      <td>1</td>\n",
       "      <td>Positive</td>\n",
       "      <td>1210809600</td>\n",
       "      <td>A classic</td>\n",
       "      <td>Get the movie or sound track and sing along wi...</td>\n",
       "      <td>b'get movi sound track sing along carol king g...</td>\n",
       "      <td>b'get movie sound track sing along carol king ...</td>\n",
       "    </tr>\n",
       "    <tr>\n",
       "      <th>4</th>\n",
       "      <td>150503</td>\n",
       "      <td>150504</td>\n",
       "      <td>0006641040</td>\n",
       "      <td>AQEYF1AXARWJZ</td>\n",
       "      <td>Les Sinclair \"book maven\"</td>\n",
       "      <td>1</td>\n",
       "      <td>1</td>\n",
       "      <td>Positive</td>\n",
       "      <td>1212278400</td>\n",
       "      <td>Chicken Soup with Rice</td>\n",
       "      <td>A very entertaining rhyming story--cleaver and...</td>\n",
       "      <td>b'entertain rhyme catchyth illustr imagin fit ...</td>\n",
       "      <td>b'entertaining rhyming catchythe illustrations...</td>\n",
       "    </tr>\n",
       "  </tbody>\n",
       "</table>\n",
       "</div>"
      ],
      "text/plain": [
       "    index      Id   ProductId          UserId  \\\n",
       "0  150528  150529  0006641040   A25ACLV5KPB4W   \n",
       "1  150506  150507  0006641040  A1S4A3IQ2MU7V4   \n",
       "2  150505  150506  0006641040  A2IW4PEEKO2R0U   \n",
       "3  150504  150505  0006641040  A2PTSM496CF40Z   \n",
       "4  150503  150504  0006641040   AQEYF1AXARWJZ   \n",
       "\n",
       "                                        ProfileName  HelpfulnessNumerator  \\\n",
       "0                               Matt Hetling \"Matt\"                     0   \n",
       "1                             sally sue \"sally sue\"                     1   \n",
       "2                                             Tracy                     1   \n",
       "3  Jason A. Teeple \"Nobody made a greater mistak...                     1   \n",
       "4                         Les Sinclair \"book maven\"                     1   \n",
       "\n",
       "   HelpfulnessDenominator     Score        Time  \\\n",
       "0                       1  Positive  1108425600   \n",
       "1                       1  Positive  1191456000   \n",
       "2                       1  Positive  1194739200   \n",
       "3                       1  Positive  1210809600   \n",
       "4                       1  Positive  1212278400   \n",
       "\n",
       "                                      Summary  \\\n",
       "0                 Nice cadence, catchy rhymes   \n",
       "1               chicken soup with rice months   \n",
       "2  Love the book, miss the hard cover version   \n",
       "3                                   A classic   \n",
       "4                      Chicken Soup with Rice   \n",
       "\n",
       "                                                Text  \\\n",
       "0  In June<br />I saw a charming group<br />of ro...   \n",
       "1  This is a fun way for children to learn their ...   \n",
       "2  I grew up reading these Sendak books, and watc...   \n",
       "3  Get the movie or sound track and sing along wi...   \n",
       "4  A very entertaining rhyming story--cleaver and...   \n",
       "\n",
       "                                        Cleaned_Text  \\\n",
       "0  b'junei saw charm groupof rose beginto droopi ...   \n",
       "1  b'fun way children learn month year learn poem...   \n",
       "2  b'grew read sendak book watch realli rosi movi...   \n",
       "3  b'get movi sound track sing along carol king g...   \n",
       "4  b'entertain rhyme catchyth illustr imagin fit ...   \n",
       "\n",
       "                                 Cleaned_Text_nostem  \n",
       "0  b'junei saw charming groupof roses beginto dro...  \n",
       "1  b'fun way children learn months year learn poe...  \n",
       "2  b'grew reading sendak books watching really ro...  \n",
       "3  b'get movie sound track sing along carol king ...  \n",
       "4  b'entertaining rhyming catchythe illustrations...  "
      ]
     },
     "execution_count": 32,
     "metadata": {},
     "output_type": "execute_result"
    }
   ],
   "source": [
    "# connecting to final_reviews.sqlite\n",
    "con = sqlite3.connect(\"final_reviews.sqlite\")\n",
    "\n",
    "final = pd.read_sql_query(\"\"\"SELECT * FROM Reviews \"\"\", con)\n",
    "final.head(5)\n"
   ]
  },
  {
   "cell_type": "code",
   "execution_count": 33,
   "metadata": {},
   "outputs": [
    {
     "data": {
      "text/plain": [
       "(393931, 13)"
      ]
     },
     "execution_count": 33,
     "metadata": {},
     "output_type": "execute_result"
    }
   ],
   "source": [
    "final.shape"
   ]
  },
  {
   "cell_type": "code",
   "execution_count": 34,
   "metadata": {},
   "outputs": [],
   "source": [
    "def polarity(x):\n",
    "    if x == \"Positive\":\n",
    "        return 0\n",
    "    else:\n",
    "        return 1\n",
    "final[\"Score\"] = final[\"Score\"].map(polarity)"
   ]
  },
  {
   "cell_type": "code",
   "execution_count": 35,
   "metadata": {},
   "outputs": [
    {
     "data": {
      "text/html": [
       "<div>\n",
       "<style scoped>\n",
       "    .dataframe tbody tr th:only-of-type {\n",
       "        vertical-align: middle;\n",
       "    }\n",
       "\n",
       "    .dataframe tbody tr th {\n",
       "        vertical-align: top;\n",
       "    }\n",
       "\n",
       "    .dataframe thead th {\n",
       "        text-align: right;\n",
       "    }\n",
       "</style>\n",
       "<table border=\"1\" class=\"dataframe\">\n",
       "  <thead>\n",
       "    <tr style=\"text-align: right;\">\n",
       "      <th></th>\n",
       "      <th>index</th>\n",
       "      <th>Id</th>\n",
       "      <th>ProductId</th>\n",
       "      <th>UserId</th>\n",
       "      <th>ProfileName</th>\n",
       "      <th>HelpfulnessNumerator</th>\n",
       "      <th>HelpfulnessDenominator</th>\n",
       "      <th>Score</th>\n",
       "      <th>Time</th>\n",
       "      <th>Summary</th>\n",
       "      <th>Text</th>\n",
       "      <th>Cleaned_Text</th>\n",
       "      <th>Cleaned_Text_nostem</th>\n",
       "    </tr>\n",
       "  </thead>\n",
       "  <tbody>\n",
       "    <tr>\n",
       "      <th>205912</th>\n",
       "      <td>449276</td>\n",
       "      <td>449277</td>\n",
       "      <td>B001F1SAO6</td>\n",
       "      <td>A30LRW7D32ENR6</td>\n",
       "      <td>Josie</td>\n",
       "      <td>0</td>\n",
       "      <td>0</td>\n",
       "      <td>0</td>\n",
       "      <td>1337299200</td>\n",
       "      <td>Love this flavor!</td>\n",
       "      <td>This is an awesome alternative to coffee. I LO...</td>\n",
       "      <td>b'awesom altern coffe love coffe current cut d...</td>\n",
       "      <td>b'awesome alternative coffee love coffee curre...</td>\n",
       "    </tr>\n",
       "    <tr>\n",
       "      <th>96488</th>\n",
       "      <td>163952</td>\n",
       "      <td>163953</td>\n",
       "      <td>B000JMAVPS</td>\n",
       "      <td>A1LK3VZ7AXZ52C</td>\n",
       "      <td>MightyFavog</td>\n",
       "      <td>1</td>\n",
       "      <td>1</td>\n",
       "      <td>0</td>\n",
       "      <td>1208736000</td>\n",
       "      <td>Very Good - and very spicy!</td>\n",
       "      <td>While I am not Indian, I do cook Indian food f...</td>\n",
       "      <td>b'not indian cook indian food scratch quit oft...</td>\n",
       "      <td>b'not indian cook indian food scratch quite of...</td>\n",
       "    </tr>\n",
       "    <tr>\n",
       "      <th>183553</th>\n",
       "      <td>245857</td>\n",
       "      <td>245858</td>\n",
       "      <td>B001E5E3EO</td>\n",
       "      <td>A3OI5EP7O0FFGN</td>\n",
       "      <td>E. Gomez</td>\n",
       "      <td>4</td>\n",
       "      <td>5</td>\n",
       "      <td>0</td>\n",
       "      <td>1174003200</td>\n",
       "      <td>Erewhon Corn Flakes</td>\n",
       "      <td>You can't compare these organic corn flakes to...</td>\n",
       "      <td>b'not compar organ corn flake gmo version find...</td>\n",
       "      <td>b'not compare organic corn flakes gmo version ...</td>\n",
       "    </tr>\n",
       "    <tr>\n",
       "      <th>331041</th>\n",
       "      <td>189330</td>\n",
       "      <td>189331</td>\n",
       "      <td>B004DKQNMC</td>\n",
       "      <td>A1QSU0KYYI0OEB</td>\n",
       "      <td>Kenneth S. Wiggins</td>\n",
       "      <td>0</td>\n",
       "      <td>0</td>\n",
       "      <td>0</td>\n",
       "      <td>1349568000</td>\n",
       "      <td>good coffee</td>\n",
       "      <td>There's so much bad coffee in fancy packs. The...</td>\n",
       "      <td>b'much bad coffe fanci pack packag good enough...</td>\n",
       "      <td>b'much bad coffee fancy packs package good eno...</td>\n",
       "    </tr>\n",
       "    <tr>\n",
       "      <th>28873</th>\n",
       "      <td>456718</td>\n",
       "      <td>456719</td>\n",
       "      <td>B0009ETA6W</td>\n",
       "      <td>A34V9OZ3I80QHF</td>\n",
       "      <td>M. Varahram \"annattasiaaa\"</td>\n",
       "      <td>0</td>\n",
       "      <td>0</td>\n",
       "      <td>0</td>\n",
       "      <td>1304294400</td>\n",
       "      <td>BE CAREFUL</td>\n",
       "      <td>I took the pill (3x3)two days only but had to ...</td>\n",
       "      <td>b'took pill day stop babi start runni stool li...</td>\n",
       "      <td>b'took pill days stop baby started runny stool...</td>\n",
       "    </tr>\n",
       "  </tbody>\n",
       "</table>\n",
       "</div>"
      ],
      "text/plain": [
       "         index      Id   ProductId          UserId  \\\n",
       "205912  449276  449277  B001F1SAO6  A30LRW7D32ENR6   \n",
       "96488   163952  163953  B000JMAVPS  A1LK3VZ7AXZ52C   \n",
       "183553  245857  245858  B001E5E3EO  A3OI5EP7O0FFGN   \n",
       "331041  189330  189331  B004DKQNMC  A1QSU0KYYI0OEB   \n",
       "28873   456718  456719  B0009ETA6W  A34V9OZ3I80QHF   \n",
       "\n",
       "                       ProfileName  HelpfulnessNumerator  \\\n",
       "205912                       Josie                     0   \n",
       "96488                  MightyFavog                     1   \n",
       "183553                    E. Gomez                     4   \n",
       "331041          Kenneth S. Wiggins                     0   \n",
       "28873   M. Varahram \"annattasiaaa\"                     0   \n",
       "\n",
       "        HelpfulnessDenominator  Score        Time  \\\n",
       "205912                       0      0  1337299200   \n",
       "96488                        1      0  1208736000   \n",
       "183553                       5      0  1174003200   \n",
       "331041                       0      0  1349568000   \n",
       "28873                        0      0  1304294400   \n",
       "\n",
       "                            Summary  \\\n",
       "205912            Love this flavor!   \n",
       "96488   Very Good - and very spicy!   \n",
       "183553          Erewhon Corn Flakes   \n",
       "331041                  good coffee   \n",
       "28873                    BE CAREFUL   \n",
       "\n",
       "                                                     Text  \\\n",
       "205912  This is an awesome alternative to coffee. I LO...   \n",
       "96488   While I am not Indian, I do cook Indian food f...   \n",
       "183553  You can't compare these organic corn flakes to...   \n",
       "331041  There's so much bad coffee in fancy packs. The...   \n",
       "28873   I took the pill (3x3)two days only but had to ...   \n",
       "\n",
       "                                             Cleaned_Text  \\\n",
       "205912  b'awesom altern coffe love coffe current cut d...   \n",
       "96488   b'not indian cook indian food scratch quit oft...   \n",
       "183553  b'not compar organ corn flake gmo version find...   \n",
       "331041  b'much bad coffe fanci pack packag good enough...   \n",
       "28873   b'took pill day stop babi start runni stool li...   \n",
       "\n",
       "                                      Cleaned_Text_nostem  \n",
       "205912  b'awesome alternative coffee love coffee curre...  \n",
       "96488   b'not indian cook indian food scratch quite of...  \n",
       "183553  b'not compare organic corn flakes gmo version ...  \n",
       "331041  b'much bad coffee fancy packs package good eno...  \n",
       "28873   b'took pill days stop baby started runny stool...  "
      ]
     },
     "execution_count": 35,
     "metadata": {},
     "output_type": "execute_result"
    }
   ],
   "source": [
    "# Taking 100000 reviews for analysis\n",
    "n_samples = 100000\n",
    "final_sample = final.sample(n_samples)\n",
    "\n",
    "final_sample.head(5)"
   ]
  },
  {
   "cell_type": "code",
   "execution_count": 36,
   "metadata": {},
   "outputs": [],
   "source": [
    "# Save to file\n",
    "pickle.dump(final_sample,open(\"sample_100000_knn.pkl\",\"wb\"))\n",
    "\n",
    "# Load from file\n",
    "sample = pickle.load(open(\"sample_100000_knn.pkl\",\"rb\"))"
   ]
  },
  {
   "cell_type": "markdown",
   "metadata": {},
   "source": [
    "<h2><font color='red'>[3.2] Preprocessing Review Summary</font></h2>"
   ]
  },
  {
   "cell_type": "code",
   "execution_count": 37,
   "metadata": {},
   "outputs": [
    {
     "name": "stdout",
     "output_type": "stream",
     "text": [
      "Yep, it kills golphers\n",
      "==================================================\n",
      "Long time favorite\n",
      "==================================================\n",
      "Very pleased, dogs love the food\n",
      "==================================================\n",
      "Hard to find filter for only coffe pot that keeps working\n",
      "==================================================\n",
      "THE BEST DRINK EVER!!\n",
      "==================================================\n",
      "Soups on basket\n",
      "==================================================\n"
     ]
    }
   ],
   "source": [
    "## Similartly you can do preprocessing for review summary also.\n",
    "## Similartly you can do preprocessing for review summary also.\n",
    "# printing some random reviews\n",
    "sent_500 = final['Summary'].values[500]\n",
    "print(sent_500)\n",
    "print(\"=\"*50)\n",
    "\n",
    "sent_1000 = final['Summary'].values[1000]\n",
    "print(sent_1000)\n",
    "print(\"=\"*50)\n",
    "\n",
    "sent_2000 = final['Summary'].values[2000]\n",
    "print(sent_2000)\n",
    "print(\"=\"*50)\n",
    "\n",
    "sent_3000 = final['Summary'].values[3000]\n",
    "print(sent_3000)\n",
    "print(\"=\"*50)\n",
    "\n",
    "sent_6000 = final['Summary'].values[6000]\n",
    "print(sent_6000)\n",
    "print(\"=\"*50)\n",
    "\n",
    "sent_8000 = final['Summary'].values[8000]\n",
    "print(sent_8000)\n",
    "print(\"=\"*50)\n"
   ]
  },
  {
   "cell_type": "code",
   "execution_count": 38,
   "metadata": {},
   "outputs": [
    {
     "name": "stdout",
     "output_type": "stream",
     "text": [
      "In JuneI saw a charming groupof roses all beginto droopI pepped them upwith chicken soup!Sprinkle oncesprinkle twicesprinkle chicken soupwith riceThis is a great book to teach children the months of the year. The repetition of the phrases and the funny little stories with accompanying pictures make for an ideal bedtime read. This isn't nearly as good as some of Sendak's other books (like Where the Wild Things are or Pierre: The Boy Who Didn't Care), but it still carries his unique brand of charm.\n",
      "==================================================\n",
      "Long time favorite\n",
      "==================================================\n",
      "Very pleased, dogs love the food\n",
      "==================================================\n",
      "Hard to find filter for only coffe pot that keeps working\n"
     ]
    }
   ],
   "source": [
    "# https://stackoverflow.com/questions/16206380/python-beautifulsoup-how-to-remove-all-tags-from-an-element\n",
    "from bs4 import BeautifulSoup\n",
    "\n",
    "soup = BeautifulSoup(sent_0, 'lxml')\n",
    "text = soup.get_text()\n",
    "print(text)\n",
    "print(\"=\"*50)\n",
    "\n",
    "soup = BeautifulSoup(sent_1000, 'lxml')\n",
    "text = soup.get_text()\n",
    "print(text)\n",
    "print(\"=\"*50)\n",
    "\n",
    "soup = BeautifulSoup(sent_2000, 'lxml')\n",
    "text = soup.get_text()\n",
    "print(text)\n",
    "print(\"=\"*50)\n",
    "\n",
    "soup = BeautifulSoup(sent_3000, 'lxml')\n",
    "text = soup.get_text()\n",
    "print(text)"
   ]
  },
  {
   "cell_type": "code",
   "execution_count": 39,
   "metadata": {},
   "outputs": [],
   "source": [
    "# https://stackoverflow.com/a/47091490/4084039\n",
    "import re\n",
    "\n",
    "def decontracted(phrase):\n",
    "    # specific\n",
    "    phrase = re.sub(r\"won't\", \"will not\", phrase)\n",
    "    phrase = re.sub(r\"can\\'t\", \"can not\", phrase)\n",
    "\n",
    "    # general\n",
    "    phrase = re.sub(r\"n\\'t\", \" not\", phrase)\n",
    "    phrase = re.sub(r\"\\'re\", \" are\", phrase)\n",
    "    phrase = re.sub(r\"\\'s\", \" is\", phrase)\n",
    "    phrase = re.sub(r\"\\'S\", \" is\", phrase)\n",
    "    phrase = re.sub(r\"\\'d\", \" would\", phrase)\n",
    "    phrase = re.sub(r\"\\'ll\", \" will\", phrase)\n",
    "    phrase = re.sub(r\"\\'t\", \" not\", phrase)\n",
    "    phrase = re.sub(r\"\\'ve\", \" have\", phrase)\n",
    "    phrase = re.sub(r\"\\'m\", \" am\", phrase)\n",
    "    return phrase"
   ]
  },
  {
   "cell_type": "code",
   "execution_count": 40,
   "metadata": {},
   "outputs": [
    {
     "name": "stdout",
     "output_type": "stream",
     "text": [
      "Yep, it kills golphers\n",
      "==================================================\n"
     ]
    }
   ],
   "source": [
    "sent_500 = decontracted(sent_500)\n",
    "print(sent_500)\n",
    "print(\"=\"*50)"
   ]
  },
  {
   "cell_type": "code",
   "execution_count": 41,
   "metadata": {},
   "outputs": [
    {
     "name": "stdout",
     "output_type": "stream",
     "text": [
      "Yep it kills golphers\n",
      "--------------------------------------------------\n",
      "Long time favorite\n",
      "--------------------------------------------------\n",
      "Very pleased dogs love the food\n",
      "--------------------------------------------------\n",
      "Hard to find filter for only coffe pot that keeps working\n",
      "--------------------------------------------------\n",
      "THE BEST DRINK EVER \n",
      "--------------------------------------------------\n",
      "Soups on basket\n",
      "--------------------------------------------------\n"
     ]
    }
   ],
   "source": [
    "#remove spacial character: https://stackoverflow.com/a/5843547/4084039\n",
    "sent_500 = re.sub('[^A-Za-z0-9]+', ' ', sent_500)\n",
    "print(sent_500)\n",
    "print('-'*50)\n",
    "\n",
    "sent_1000 = re.sub('[^A-Za-z0-9]+', ' ', sent_1000)\n",
    "print(sent_1000)\n",
    "print('-'*50)\n",
    "\n",
    "sent_2000 = re.sub('[^A-Za-z0-9]+', ' ', sent_2000)\n",
    "print(sent_2000)\n",
    "print('-'*50)\n",
    "\n",
    "sent_3000 = re.sub('[^A-Za-z0-9]+', ' ', sent_3000)\n",
    "print(sent_3000)\n",
    "print('-'*50)\n",
    "\n",
    "sent_6000 = re.sub('[^A-Za-z0-9]+', ' ', sent_6000)\n",
    "print(sent_6000)\n",
    "print('-'*50)\n",
    "\n",
    "sent_8000 = re.sub('[^A-Za-z0-9]+', ' ', sent_8000)\n",
    "print(sent_8000)\n",
    "print('-'*50)"
   ]
  },
  {
   "cell_type": "code",
   "execution_count": 42,
   "metadata": {},
   "outputs": [
    {
     "name": "stderr",
     "output_type": "stream",
     "text": [
      "  0%|                                                                           | 237/393931 [00:00<02:58, 2211.15it/s]c:\\users\\shiva_kv\\appdata\\local\\programs\\python\\python37\\lib\\site-packages\\bs4\\__init__.py:272: UserWarning: \"b'...'\" looks like a filename, not markup. You should probably open this file and pass the filehandle into Beautiful Soup.\n",
      "  ' Beautiful Soup.' % markup)\n",
      "  6%|████▍                                                                    | 23898/393931 [00:07<01:59, 3103.52it/s]c:\\users\\shiva_kv\\appdata\\local\\programs\\python\\python37\\lib\\site-packages\\bs4\\__init__.py:272: UserWarning: \"b'.'\" looks like a filename, not markup. You should probably open this file and pass the filehandle into Beautiful Soup.\n",
      "  ' Beautiful Soup.' % markup)\n",
      " 10%|███████                                                                  | 38270/393931 [00:12<01:52, 3169.84it/s]c:\\users\\shiva_kv\\appdata\\local\\programs\\python\\python37\\lib\\site-packages\\bs4\\__init__.py:272: UserWarning: \"b'...'\" looks like a filename, not markup. You should probably open this file and pass the filehandle into Beautiful Soup.\n",
      "  ' Beautiful Soup.' % markup)\n",
      " 10%|███████▎                                                                 | 39209/393931 [00:12<01:58, 2990.81it/s]c:\\users\\shiva_kv\\appdata\\local\\programs\\python\\python37\\lib\\site-packages\\bs4\\__init__.py:272: UserWarning: \"b'...'\" looks like a filename, not markup. You should probably open this file and pass the filehandle into Beautiful Soup.\n",
      "  ' Beautiful Soup.' % markup)\n",
      " 14%|██████████▏                                                              | 55171/393931 [00:17<01:48, 3111.72it/s]c:\\users\\shiva_kv\\appdata\\local\\programs\\python\\python37\\lib\\site-packages\\bs4\\__init__.py:272: UserWarning: \"b'...'\" looks like a filename, not markup. You should probably open this file and pass the filehandle into Beautiful Soup.\n",
      "  ' Beautiful Soup.' % markup)\n",
      " 14%|██████████▍                                                              | 56125/393931 [00:18<01:55, 2920.06it/s]c:\\users\\shiva_kv\\appdata\\local\\programs\\python\\python37\\lib\\site-packages\\bs4\\__init__.py:272: UserWarning: \"b'...'\" looks like a filename, not markup. You should probably open this file and pass the filehandle into Beautiful Soup.\n",
      "  ' Beautiful Soup.' % markup)\n",
      " 16%|███████████▍                                                             | 61735/393931 [00:19<01:44, 3178.84it/s]c:\\users\\shiva_kv\\appdata\\local\\programs\\python\\python37\\lib\\site-packages\\bs4\\__init__.py:335: UserWarning: \"http://www.amazon.com/gp/product/B000EYOBRU/ref=cm_cr_rev_prod_title\" looks like a URL. Beautiful Soup is not an HTTP client. You should probably use an HTTP client like requests to get the document behind the URL, and feed that document to Beautiful Soup.\n",
      "  ' that document to Beautiful Soup.' % decoded_markup\n",
      " 16%|███████████▊                                                             | 64025/393931 [00:20<01:45, 3125.58it/s]c:\\users\\shiva_kv\\appdata\\local\\programs\\python\\python37\\lib\\site-packages\\bs4\\__init__.py:272: UserWarning: \"b'.'\" looks like a filename, not markup. You should probably open this file and pass the filehandle into Beautiful Soup.\n",
      "  ' Beautiful Soup.' % markup)\n",
      " 27%|███████████████████▏                                                    | 104984/393931 [00:33<01:31, 3162.45it/s]c:\\users\\shiva_kv\\appdata\\local\\programs\\python\\python37\\lib\\site-packages\\bs4\\__init__.py:272: UserWarning: \"b'.'\" looks like a filename, not markup. You should probably open this file and pass the filehandle into Beautiful Soup.\n",
      "  ' Beautiful Soup.' % markup)\n",
      " 27%|███████████████████▏                                                    | 105301/393931 [00:33<01:34, 3047.00it/s]c:\\users\\shiva_kv\\appdata\\local\\programs\\python\\python37\\lib\\site-packages\\bs4\\__init__.py:272: UserWarning: \"b'.'\" looks like a filename, not markup. You should probably open this file and pass the filehandle into Beautiful Soup.\n",
      "  ' Beautiful Soup.' % markup)\n",
      " 31%|██████████████████████▌                                                 | 123289/393931 [00:39<01:28, 3069.23it/s]c:\\users\\shiva_kv\\appdata\\local\\programs\\python\\python37\\lib\\site-packages\\bs4\\__init__.py:272: UserWarning: \"b'...'\" looks like a filename, not markup. You should probably open this file and pass the filehandle into Beautiful Soup.\n",
      "  ' Beautiful Soup.' % markup)\n",
      " 34%|████████████████████████▌                                               | 134167/393931 [00:43<01:26, 3018.73it/s]c:\\users\\shiva_kv\\appdata\\local\\programs\\python\\python37\\lib\\site-packages\\bs4\\__init__.py:335: UserWarning: \"http://www.amazon.com/gp/product/B000V9LQ30/ref=cm_cr_rev_prod_title\" looks like a URL. Beautiful Soup is not an HTTP client. You should probably use an HTTP client like requests to get the document behind the URL, and feed that document to Beautiful Soup.\n",
      "  ' that document to Beautiful Soup.' % decoded_markup\n",
      " 39%|████████████████████████████▎                                           | 154879/393931 [00:49<01:23, 2856.70it/s]c:\\users\\shiva_kv\\appdata\\local\\programs\\python\\python37\\lib\\site-packages\\bs4\\__init__.py:272: UserWarning: \"b'...'\" looks like a filename, not markup. You should probably open this file and pass the filehandle into Beautiful Soup.\n",
      "  ' Beautiful Soup.' % markup)\n",
      " 41%|█████████████████████████████▎                                          | 160348/393931 [00:51<01:14, 3131.01it/s]c:\\users\\shiva_kv\\appdata\\local\\programs\\python\\python37\\lib\\site-packages\\bs4\\__init__.py:272: UserWarning: \"b'...'\" looks like a filename, not markup. You should probably open this file and pass the filehandle into Beautiful Soup.\n",
      "  ' Beautiful Soup.' % markup)\n",
      " 51%|████████████████████████████████████▊                                   | 201410/393931 [01:05<01:01, 3112.26it/s]c:\\users\\shiva_kv\\appdata\\local\\programs\\python\\python37\\lib\\site-packages\\bs4\\__init__.py:335: UserWarning: \"http://www.amazon.com/gp/product/B001EQ58FQ/ref=cm_cr_rev_prod_title\" looks like a URL. Beautiful Soup is not an HTTP client. You should probably use an HTTP client like requests to get the document behind the URL, and feed that document to Beautiful Soup.\n",
      "  ' that document to Beautiful Soup.' % decoded_markup\n",
      " 59%|██████████████████████████████████████████▌                             | 232699/393931 [01:15<00:50, 3161.75it/s]c:\\users\\shiva_kv\\appdata\\local\\programs\\python\\python37\\lib\\site-packages\\bs4\\__init__.py:272: UserWarning: \"b'.'\" looks like a filename, not markup. You should probably open this file and pass the filehandle into Beautiful Soup.\n",
      "  ' Beautiful Soup.' % markup)\n",
      " 67%|████████████████████████████████████████████████▍                       | 264901/393931 [01:25<00:41, 3099.24it/s]c:\\users\\shiva_kv\\appdata\\local\\programs\\python\\python37\\lib\\site-packages\\bs4\\__init__.py:272: UserWarning: \"b'.'\" looks like a filename, not markup. You should probably open this file and pass the filehandle into Beautiful Soup.\n",
      "  ' Beautiful Soup.' % markup)\n",
      " 68%|████████████████████████████████████████████████▊                       | 266900/393931 [01:25<00:41, 3083.69it/s]c:\\users\\shiva_kv\\appdata\\local\\programs\\python\\python37\\lib\\site-packages\\bs4\\__init__.py:272: UserWarning: \"b'...'\" looks like a filename, not markup. You should probably open this file and pass the filehandle into Beautiful Soup.\n",
      "  ' Beautiful Soup.' % markup)\n",
      " 77%|███████████████████████████████████████████████████████▌                | 303806/393931 [01:37<00:29, 3072.71it/s]c:\\users\\shiva_kv\\appdata\\local\\programs\\python\\python37\\lib\\site-packages\\bs4\\__init__.py:272: UserWarning: \"b'...'\" looks like a filename, not markup. You should probably open this file and pass the filehandle into Beautiful Soup.\n",
      "  ' Beautiful Soup.' % markup)\n",
      " 89%|███████████████████████████████████████████████████████████████▊        | 349281/393931 [01:52<00:14, 3101.46it/s]c:\\users\\shiva_kv\\appdata\\local\\programs\\python\\python37\\lib\\site-packages\\bs4\\__init__.py:272: UserWarning: \"b'...'\" looks like a filename, not markup. You should probably open this file and pass the filehandle into Beautiful Soup.\n",
      "  ' Beautiful Soup.' % markup)\n"
     ]
    },
    {
     "name": "stderr",
     "output_type": "stream",
     "text": [
      " 90%|█████████████████████████████████████████████████████████████████       | 355835/393931 [01:54<00:12, 3119.37it/s]c:\\users\\shiva_kv\\appdata\\local\\programs\\python\\python37\\lib\\site-packages\\bs4\\__init__.py:272: UserWarning: \"b'...'\" looks like a filename, not markup. You should probably open this file and pass the filehandle into Beautiful Soup.\n",
      "  ' Beautiful Soup.' % markup)\n",
      " 92%|██████████████████████████████████████████████████████████████████▏     | 361942/393931 [01:56<00:10, 3063.13it/s]c:\\users\\shiva_kv\\appdata\\local\\programs\\python\\python37\\lib\\site-packages\\bs4\\__init__.py:272: UserWarning: \"b'...'\" looks like a filename, not markup. You should probably open this file and pass the filehandle into Beautiful Soup.\n",
      "  ' Beautiful Soup.' % markup)\n",
      " 96%|█████████████████████████████████████████████████████████████████████   | 377536/393931 [02:01<00:05, 3106.26it/s]c:\\users\\shiva_kv\\appdata\\local\\programs\\python\\python37\\lib\\site-packages\\bs4\\__init__.py:272: UserWarning: \"b'...'\" looks like a filename, not markup. You should probably open this file and pass the filehandle into Beautiful Soup.\n",
      "  ' Beautiful Soup.' % markup)\n",
      " 97%|██████████████████████████████████████████████████████████████████████  | 383552/393931 [02:03<00:03, 3206.39it/s]c:\\users\\shiva_kv\\appdata\\local\\programs\\python\\python37\\lib\\site-packages\\bs4\\__init__.py:272: UserWarning: \"b'.'\" looks like a filename, not markup. You should probably open this file and pass the filehandle into Beautiful Soup.\n",
      "  ' Beautiful Soup.' % markup)\n",
      " 98%|██████████████████████████████████████████████████████████████████████▏ | 384186/393931 [02:03<00:03, 3037.06it/s]c:\\users\\shiva_kv\\appdata\\local\\programs\\python\\python37\\lib\\site-packages\\bs4\\__init__.py:335: UserWarning: \"http://www.amazon.com/gp/product/B007I7YYGY/ref=cm_cr_rev_prod_title\" looks like a URL. Beautiful Soup is not an HTTP client. You should probably use an HTTP client like requests to get the document behind the URL, and feed that document to Beautiful Soup.\n",
      "  ' that document to Beautiful Soup.' % decoded_markup\n",
      " 99%|██████████████████████████████████████████████████████████████████████▉ | 388202/393931 [02:05<00:01, 3119.88it/s]c:\\users\\shiva_kv\\appdata\\local\\programs\\python\\python37\\lib\\site-packages\\bs4\\__init__.py:272: UserWarning: \"b'...'\" looks like a filename, not markup. You should probably open this file and pass the filehandle into Beautiful Soup.\n",
      "  ' Beautiful Soup.' % markup)\n",
      " 99%|███████████████████████████████████████████████████████████████████████ | 388515/393931 [02:05<00:01, 3073.75it/s]c:\\users\\shiva_kv\\appdata\\local\\programs\\python\\python37\\lib\\site-packages\\bs4\\__init__.py:272: UserWarning: \"b'...'\" looks like a filename, not markup. You should probably open this file and pass the filehandle into Beautiful Soup.\n",
      "  ' Beautiful Soup.' % markup)\n",
      "100%|████████████████████████████████████████████████████████████████████████| 393931/393931 [02:06<00:00, 3104.30it/s]\n"
     ]
    },
    {
     "name": "stdout",
     "output_type": "stream",
     "text": [
      "Processing completed in\n",
      "Wall time: 2min 7s\n"
     ]
    }
   ],
   "source": [
    "%%time\n",
    "from nltk.stem import SnowballStemmer\n",
    "snow = SnowballStemmer('english')\n",
    "str1 = ' '\n",
    "s=''\n",
    "final_string=[]\n",
    "all_positive_words=[] # store words from +ve reviews here\n",
    "all_negative_words=[] # store words from -ve reviews here.\n",
    "i=0\n",
    "for i, sent in enumerate(tqdm(final['Summary'].values)):\n",
    "    filtered_sentence=[]\n",
    "    #print(sent);\n",
    "    sent = BeautifulSoup(sent, 'lxml').get_text()\n",
    "    sent = decontracted(sent)\n",
    "    sent = clean_html(sent) # remove HTMl tags\n",
    "    for w in sent.split():\n",
    "        # we have used cleanpunc(w).split(), one more split function here because consider w=\"abc.def\", cleanpunc(w) will return \"abc def\"\n",
    "        # if we dont use .split() function then we will be considring \"abc def\" as a single word, but if you use .split() function we will get \"abc\", \"def\"\n",
    "        #print(sent.split())\n",
    "        for cleaned_words in clean_punc(w).split():\n",
    "           # print(\"================================>\",cleaned_words)\n",
    "            if((cleaned_words.isalpha()) & (len(cleaned_words)>2)):    \n",
    "                    if(cleaned_words.lower() not in stop):\n",
    "                        s=(snow.stem(cleaned_words.lower())).encode('utf8')\n",
    "                       # print(\"Selected: Stem Word->\",s)\n",
    "                        filtered_sentence.append(s)\n",
    "                        if (final['Score'].values)[i] == 'Positive':\n",
    "                            all_positive_words.append(s) #list of all words used to describe positive reviews\n",
    "                        if (final['Score'].values)[i] == 'Negative':\n",
    "                            all_negative_words.append(s) #list of all words used to describe negative reviews reviews\n",
    "                    else:\n",
    "                        #print(\"Eliminated as it is a stopword\")\n",
    "                        continue\n",
    "            else:\n",
    "                #print(\"Eliminated as it is a numerical value or character of lenght less than 2\")\n",
    "                continue\n",
    "           # print(filtered_sentence)\n",
    "\n",
    "    str1 = b\" \".join(filtered_sentence) #final string of cleaned words\n",
    "    #print(\"***********************************************************************\")\n",
    "    final_string.append(str1)\n",
    "    #print(final_string)\n",
    "    i+=1\n",
    "final['Cleaned_Summary']=final_string\n",
    "print(\"Processing completed in\")"
   ]
  },
  {
   "cell_type": "code",
   "execution_count": 43,
   "metadata": {},
   "outputs": [
    {
     "data": {
      "text/html": [
       "<div>\n",
       "<style scoped>\n",
       "    .dataframe tbody tr th:only-of-type {\n",
       "        vertical-align: middle;\n",
       "    }\n",
       "\n",
       "    .dataframe tbody tr th {\n",
       "        vertical-align: top;\n",
       "    }\n",
       "\n",
       "    .dataframe thead th {\n",
       "        text-align: right;\n",
       "    }\n",
       "</style>\n",
       "<table border=\"1\" class=\"dataframe\">\n",
       "  <thead>\n",
       "    <tr style=\"text-align: right;\">\n",
       "      <th></th>\n",
       "      <th>index</th>\n",
       "      <th>Id</th>\n",
       "      <th>ProductId</th>\n",
       "      <th>UserId</th>\n",
       "      <th>ProfileName</th>\n",
       "      <th>HelpfulnessNumerator</th>\n",
       "      <th>HelpfulnessDenominator</th>\n",
       "      <th>Score</th>\n",
       "      <th>Time</th>\n",
       "      <th>Summary</th>\n",
       "      <th>Text</th>\n",
       "      <th>Cleaned_Text</th>\n",
       "      <th>Cleaned_Text_nostem</th>\n",
       "      <th>Cleaned_Summary</th>\n",
       "    </tr>\n",
       "  </thead>\n",
       "  <tbody>\n",
       "    <tr>\n",
       "      <th>0</th>\n",
       "      <td>150528</td>\n",
       "      <td>150529</td>\n",
       "      <td>0006641040</td>\n",
       "      <td>A25ACLV5KPB4W</td>\n",
       "      <td>Matt Hetling \"Matt\"</td>\n",
       "      <td>0</td>\n",
       "      <td>1</td>\n",
       "      <td>0</td>\n",
       "      <td>1108425600</td>\n",
       "      <td>Nice cadence, catchy rhymes</td>\n",
       "      <td>In June&lt;br /&gt;I saw a charming group&lt;br /&gt;of ro...</td>\n",
       "      <td>b'junei saw charm groupof rose beginto droopi ...</td>\n",
       "      <td>b'junei saw charming groupof roses beginto dro...</td>\n",
       "      <td>b'nice cadenc catchi rhyme'</td>\n",
       "    </tr>\n",
       "    <tr>\n",
       "      <th>1</th>\n",
       "      <td>150506</td>\n",
       "      <td>150507</td>\n",
       "      <td>0006641040</td>\n",
       "      <td>A1S4A3IQ2MU7V4</td>\n",
       "      <td>sally sue \"sally sue\"</td>\n",
       "      <td>1</td>\n",
       "      <td>1</td>\n",
       "      <td>0</td>\n",
       "      <td>1191456000</td>\n",
       "      <td>chicken soup with rice months</td>\n",
       "      <td>This is a fun way for children to learn their ...</td>\n",
       "      <td>b'fun way children learn month year learn poem...</td>\n",
       "      <td>b'fun way children learn months year learn poe...</td>\n",
       "      <td>b'chicken soup rice month'</td>\n",
       "    </tr>\n",
       "    <tr>\n",
       "      <th>2</th>\n",
       "      <td>150505</td>\n",
       "      <td>150506</td>\n",
       "      <td>0006641040</td>\n",
       "      <td>A2IW4PEEKO2R0U</td>\n",
       "      <td>Tracy</td>\n",
       "      <td>1</td>\n",
       "      <td>1</td>\n",
       "      <td>0</td>\n",
       "      <td>1194739200</td>\n",
       "      <td>Love the book, miss the hard cover version</td>\n",
       "      <td>I grew up reading these Sendak books, and watc...</td>\n",
       "      <td>b'grew read sendak book watch realli rosi movi...</td>\n",
       "      <td>b'grew reading sendak books watching really ro...</td>\n",
       "      <td>b'love book miss hard cover version'</td>\n",
       "    </tr>\n",
       "  </tbody>\n",
       "</table>\n",
       "</div>"
      ],
      "text/plain": [
       "    index      Id   ProductId          UserId            ProfileName  \\\n",
       "0  150528  150529  0006641040   A25ACLV5KPB4W    Matt Hetling \"Matt\"   \n",
       "1  150506  150507  0006641040  A1S4A3IQ2MU7V4  sally sue \"sally sue\"   \n",
       "2  150505  150506  0006641040  A2IW4PEEKO2R0U                  Tracy   \n",
       "\n",
       "   HelpfulnessNumerator  HelpfulnessDenominator  Score        Time  \\\n",
       "0                     0                       1      0  1108425600   \n",
       "1                     1                       1      0  1191456000   \n",
       "2                     1                       1      0  1194739200   \n",
       "\n",
       "                                      Summary  \\\n",
       "0                 Nice cadence, catchy rhymes   \n",
       "1               chicken soup with rice months   \n",
       "2  Love the book, miss the hard cover version   \n",
       "\n",
       "                                                Text  \\\n",
       "0  In June<br />I saw a charming group<br />of ro...   \n",
       "1  This is a fun way for children to learn their ...   \n",
       "2  I grew up reading these Sendak books, and watc...   \n",
       "\n",
       "                                        Cleaned_Text  \\\n",
       "0  b'junei saw charm groupof rose beginto droopi ...   \n",
       "1  b'fun way children learn month year learn poem...   \n",
       "2  b'grew read sendak book watch realli rosi movi...   \n",
       "\n",
       "                                 Cleaned_Text_nostem  \\\n",
       "0  b'junei saw charming groupof roses beginto dro...   \n",
       "1  b'fun way children learn months year learn poe...   \n",
       "2  b'grew reading sendak books watching really ro...   \n",
       "\n",
       "                        Cleaned_Summary  \n",
       "0           b'nice cadenc catchi rhyme'  \n",
       "1            b'chicken soup rice month'  \n",
       "2  b'love book miss hard cover version'  "
      ]
     },
     "execution_count": 43,
     "metadata": {},
     "output_type": "execute_result"
    }
   ],
   "source": [
    "final.head(3)"
   ]
  },
  {
   "cell_type": "markdown",
   "metadata": {},
   "source": [
    "# [4] Featurization"
   ]
  },
  {
   "cell_type": "markdown",
   "metadata": {},
   "source": [
    "## [4.1] BAG OF WORDS"
   ]
  },
  {
   "cell_type": "code",
   "execution_count": 44,
   "metadata": {},
   "outputs": [
    {
     "name": "stdout",
     "output_type": "stream",
     "text": [
      "some feature names  ['aaa', 'aaaaaaaaaaaaaaaaaaaargh', 'aaaaaaaaagghh', 'aaaaaaahhhhhh', 'aaaaaaarrrrrggghhh', 'aaaaaawwwwwwwwww', 'aaaaah', 'aaaaahhhhhhhhhhhhhhhhth', 'aaaahhhhhh', 'aaaannnndddgolazo']\n",
      "==================================================\n",
      "the type of count vectorizer  <class 'scipy.sparse.csr.csr_matrix'>\n",
      "the shape of out text BOW vectorizer  (100000, 88198)\n",
      "the number of unique words  88198\n"
     ]
    }
   ],
   "source": [
    "#BoW\n",
    "count_vect = CountVectorizer() #in scikit-learn\n",
    "count_vect.fit(sample['Cleaned_Text'].values)\n",
    "print(\"some feature names \", count_vect.get_feature_names()[:10])\n",
    "print('='*50)\n",
    "\n",
    "final_counts = count_vect.transform(sample['Cleaned_Text'].values)\n",
    "print(\"the type of count vectorizer \",type(final_counts))\n",
    "print(\"the shape of out text BOW vectorizer \",final_counts.get_shape())\n",
    "print(\"the number of unique words \", final_counts.get_shape()[1])"
   ]
  },
  {
   "cell_type": "markdown",
   "metadata": {},
   "source": [
    "## [4.2] Bi-Grams and n-Grams."
   ]
  },
  {
   "cell_type": "code",
   "execution_count": 45,
   "metadata": {},
   "outputs": [
    {
     "name": "stdout",
     "output_type": "stream",
     "text": [
      "the type of count vectorizer  <class 'scipy.sparse.csr.csr_matrix'>\n",
      "the shape of out text BOW vectorizer  (100000, 5000)\n",
      "the number of unique words including both unigrams and bigrams  5000\n"
     ]
    }
   ],
   "source": [
    "#bi-gram, tri-gram and n-gram\n",
    "\n",
    "# removing stop words like \"not\" should be avoided before building n-grams\n",
    "# count_vect = CountVectorizer(ngram_range=(1,2))\n",
    "# please do read the CountVectorizer documentation http://scikit-learn.org/stable/modules/generated/sklearn.feature_extraction.text.CountVectorizer.html\n",
    "\n",
    "# you can choose these numebrs min_df=10, max_features=5000, of your choice\n",
    "count_vect = CountVectorizer(ngram_range=(1,2), min_df=10, max_features=5000)\n",
    "final_bigram_counts = count_vect.fit_transform(sample['Cleaned_Text'].values)\n",
    "print(\"the type of count vectorizer \",type(final_bigram_counts))\n",
    "print(\"the shape of out text BOW vectorizer \",final_bigram_counts.get_shape())\n",
    "print(\"the number of unique words including both unigrams and bigrams \", final_bigram_counts.get_shape()[1])"
   ]
  },
  {
   "cell_type": "markdown",
   "metadata": {},
   "source": [
    "## [4.3] TF-IDF"
   ]
  },
  {
   "cell_type": "code",
   "execution_count": 46,
   "metadata": {},
   "outputs": [
    {
     "name": "stdout",
     "output_type": "stream",
     "text": [
      "some sample features(unique words in the corpus) ['aafco', 'aback', 'abandon', 'abc', 'abdomin', 'abil', 'abl', 'abl add', 'abl break', 'abl buy']\n",
      "==================================================\n",
      "the type of count vectorizer  <class 'scipy.sparse.csr.csr_matrix'>\n",
      "the shape of out text TFIDF vectorizer  (100000, 59394)\n",
      "the number of unique words including both unigrams and bigrams  59394\n"
     ]
    }
   ],
   "source": [
    "tf_idf_vect = TfidfVectorizer(ngram_range=(1,2), min_df=10)\n",
    "tf_idf_vect.fit(sample['Cleaned_Text'].values)\n",
    "print(\"some sample features(unique words in the corpus)\",tf_idf_vect.get_feature_names()[0:10])\n",
    "print('='*50)\n",
    "\n",
    "final_tf_idf = tf_idf_vect.transform(sample['Cleaned_Text'].values)\n",
    "print(\"the type of count vectorizer \",type(final_tf_idf))\n",
    "print(\"the shape of out text TFIDF vectorizer \",final_tf_idf.get_shape())\n",
    "print(\"the number of unique words including both unigrams and bigrams \", final_tf_idf.get_shape()[1])"
   ]
  },
  {
   "cell_type": "markdown",
   "metadata": {},
   "source": [
    "## [4.4] Word2Vec"
   ]
  },
  {
   "cell_type": "code",
   "execution_count": 47,
   "metadata": {},
   "outputs": [
    {
     "name": "stdout",
     "output_type": "stream",
     "text": [
      "Wall time: 532 ms\n"
     ]
    }
   ],
   "source": [
    "%%time\n",
    "# Train your own Word2Vec model using your own text corpus\n",
    "i=0\n",
    "list_of_sentance=[]\n",
    "for sentance in sample['Cleaned_Text_nostem']:\n",
    "    list_of_sentance.append(sentance.split())"
   ]
  },
  {
   "cell_type": "code",
   "execution_count": 48,
   "metadata": {
    "scrolled": true
   },
   "outputs": [
    {
     "name": "stdout",
     "output_type": "stream",
     "text": [
      "[('terrific', 0.7989331483840942), ('fantastic', 0.7935211658477783), ('tremendous', 0.7748856544494629), ('wonderful', 0.7647868394851685), ('good', 0.7291510105133057), ('incredible', 0.7032873630523682), ('marvelous', 0.6971102952957153), ('phenomenal', 0.6841565370559692), ('amazing', 0.6634128093719482), ('awesome', 0.6510506868362427)]\n",
      "[('Worst', 0.6146092414855957), ('weakest', 0.6143776774406433), ('scariest', 0.5957258343696594), ('ugliest', 0.5931180715560913), ('best', 0.5835110545158386), ('bleakest', 0.5718506574630737), ('strongest', 0.567145586013794), ('nastiest', 0.5644308924674988), ('lousiest', 0.5631451606750488), ('toughest', 0.5624395608901978)]\n",
      "Wall time: 1min 6s\n"
     ]
    }
   ],
   "source": [
    "%%time\n",
    "# Using Google News Word2Vectors\n",
    "\n",
    "# in this project we are using a pretrained model by google\n",
    "# its 3.3G file, once you load this into your memory \n",
    "# it occupies ~9Gb, so please do this step only if you have >12G of ram\n",
    "# we will provide a pickle file wich contains a dict , \n",
    "# and it contains all our courpus words as keys and  model[word] as values\n",
    "# To use this code-snippet, download \"GoogleNews-vectors-negative300.bin\" \n",
    "# from https://drive.google.com/file/d/0B7XkCwpI5KDYNlNUTTlSS21pQmM/edit\n",
    "# it's 1.9GB in size.\n",
    "\n",
    "\n",
    "# http://kavita-ganesan.com/gensim-word2vec-tutorial-starter-code/#.W17SRFAzZPY\n",
    "# you can comment this whole cell\n",
    "# or change these varible according to your need\n",
    "\n",
    "is_your_ram_gt_16g=True\n",
    "want_to_use_google_w2v = True\n",
    "want_to_train_w2v = False\n",
    "\n",
    "if want_to_train_w2v:\n",
    "    # min_count = 5 considers only words that occured atleast 5 times\n",
    "    w2v_model=Word2Vec(list_of_sentance,min_count=5,size=50, workers=4)\n",
    "    print(w2v_model.wv.most_similar('great'))\n",
    "    print('='*50)\n",
    "    print(w2v_model.wv.most_similar('worst'))\n",
    "    \n",
    "elif want_to_use_google_w2v and is_your_ram_gt_16g:\n",
    "    if os.path.isfile('GoogleNews-vectors-negative300.bin'):\n",
    "        w2v_model=KeyedVectors.load_word2vec_format('GoogleNews-vectors-negative300.bin', binary=True)\n",
    "        print(w2v_model.wv.most_similar('great'))\n",
    "        print(w2v_model.wv.most_similar('worst'))\n",
    "    else:\n",
    "        print(\"you don't have gogole's word2vec file, keep want_to_train_w2v = True, to train your own w2v \")"
   ]
  },
  {
   "cell_type": "code",
   "execution_count": 49,
   "metadata": {},
   "outputs": [
    {
     "name": "stdout",
     "output_type": "stream",
     "text": [
      "number of words that occured minimum 5 times  3000000\n",
      "sample words  ['</s>', 'in', 'for', 'that', 'is', 'on', '##', 'The', 'with', 'said', 'was', 'the', 'at', 'not', 'as', 'it', 'be', 'from', 'by', 'are', 'I', 'have', 'he', 'will', 'has', '####', 'his', 'an', 'this', 'or', 'their', 'who', 'they', 'but', '$', 'had', 'year', 'were', 'we', 'more', '###', 'up', 'been', 'you', 'its', 'one', 'about', 'would', 'which', 'out']\n",
      "Wall time: 3.05 s\n"
     ]
    }
   ],
   "source": [
    "%%time\n",
    "w2v_words = list(w2v_model.wv.vocab)\n",
    "print(\"number of words that occured minimum 5 times \",len(w2v_words))\n",
    "print(\"sample words \", w2v_words[0:50])"
   ]
  },
  {
   "cell_type": "markdown",
   "metadata": {},
   "source": [
    "## [4.4.1] Converting text into vectors using Avg W2V, TFIDF-W2V"
   ]
  },
  {
   "cell_type": "markdown",
   "metadata": {},
   "source": [
    "#### [4.4.1.1] Avg W2v"
   ]
  },
  {
   "cell_type": "code",
   "execution_count": 50,
   "metadata": {},
   "outputs": [
    {
     "name": "stderr",
     "output_type": "stream",
     "text": [
      "100%|████████████████████████████████████████████████████████████████████████| 100000/100000 [3:04:38<00:00,  9.03it/s]\n"
     ]
    },
    {
     "name": "stdout",
     "output_type": "stream",
     "text": [
      "100000\n",
      "300\n",
      "Wall time: 3h 4min 38s\n"
     ]
    }
   ],
   "source": [
    "%%time\n",
    "# average Word2Vec\n",
    "# compute average word2vec for each review.\n",
    "avg_w2v_vectors = []; # the avg-w2v for each sentence/review is stored in this list\n",
    "for sent in tqdm(sample['Cleaned_Text_nostem']): # for each review/sentence\n",
    "    sent_vec = np.zeros(300) # as word vectors are of zero length 50, you might need to change this to 300 if you use google's w2v\n",
    "    cnt_words = 0; # num of words with a valid vector in the sentence/review\n",
    "    sent = sent.decode(\"utf-8\")\n",
    "    for word in sent.split(): # for each word in a review/sentence\n",
    "        if word in w2v_words:\n",
    "            vec = w2v_model.wv[word]\n",
    "            sent_vec += vec\n",
    "            cnt_words += 1\n",
    "    if cnt_words != 0:\n",
    "        sent_vec /= cnt_words\n",
    "    avg_w2v_vectors.append(sent_vec)\n",
    "avg_w2v_vectors = np.array(avg_w2v_vectors)\n",
    "print(len(avg_w2v_vectors))\n",
    "print(len(avg_w2v_vectors[0]))"
   ]
  },
  {
   "cell_type": "code",
   "execution_count": 51,
   "metadata": {},
   "outputs": [
    {
     "data": {
      "text/plain": [
       "False"
      ]
     },
     "execution_count": 51,
     "metadata": {},
     "output_type": "execute_result"
    }
   ],
   "source": [
    "np.isnan(avg_w2v_vectors).any()"
   ]
  },
  {
   "cell_type": "code",
   "execution_count": 52,
   "metadata": {},
   "outputs": [
    {
     "data": {
      "text/plain": [
       "(100000, 300)"
      ]
     },
     "execution_count": 52,
     "metadata": {},
     "output_type": "execute_result"
    }
   ],
   "source": [
    "avg_w2v_vectors.shape"
   ]
  },
  {
   "cell_type": "code",
   "execution_count": 53,
   "metadata": {},
   "outputs": [
    {
     "data": {
      "text/plain": [
       "0.646484375"
      ]
     },
     "execution_count": 53,
     "metadata": {},
     "output_type": "execute_result"
    }
   ],
   "source": [
    "avg_w2v_vectors.max()"
   ]
  },
  {
   "cell_type": "code",
   "execution_count": 54,
   "metadata": {},
   "outputs": [],
   "source": [
    "from sklearn import preprocessing\n",
    "avg_w2v_vectors_norm = preprocessing.normalize(avg_w2v_vectors)"
   ]
  },
  {
   "cell_type": "markdown",
   "metadata": {},
   "source": [
    "#### [4.4.1.2] TFIDF weighted W2v"
   ]
  },
  {
   "cell_type": "code",
   "execution_count": 55,
   "metadata": {},
   "outputs": [],
   "source": [
    "# S = [\"abc def pqr\", \"def def def abc\", \"pqr pqr def\"]\n",
    "model = TfidfVectorizer()\n",
    "tf_idf_matrix = model.fit_transform(sample['Cleaned_Text'].values)\n",
    "# we are converting a dictionary with word as a key, and the idf as a value\n",
    "dictionary = dict(zip(model.get_feature_names(), list(model.idf_)))"
   ]
  },
  {
   "cell_type": "code",
   "execution_count": 56,
   "metadata": {
    "scrolled": true
   },
   "outputs": [
    {
     "name": "stderr",
     "output_type": "stream",
     "text": [
      "100%|███████████████████████████████████████████████████████████████████████| 100000/100000 [25:47:43<00:00,  1.79it/s]\n"
     ]
    },
    {
     "name": "stdout",
     "output_type": "stream",
     "text": [
      "Wall time: 1d 1h 47min 45s\n"
     ]
    }
   ],
   "source": [
    "%%time\n",
    "# TF-IDF weighted Word2Vec\n",
    "tfidf_feat = model.get_feature_names() # tfidf words/col-names\n",
    "# final_tf_idf is the sparse matrix with row= sentence, col=word and cell_val = tfidf\n",
    "\n",
    "tfidf_sent_vectors = []; # the tfidf-w2v for each sentence/review is stored in this list\n",
    "row=0;\n",
    "for sent in tqdm(sample['Cleaned_Text']): # for each review/sentence \n",
    "    sent_vec = np.zeros(300) # as word vectors are of zero length\n",
    "    weight_sum =0; # num of words with a valid vector in the sentence/review\n",
    "    sent = sent.decode(\"utf-8\")\n",
    "    for word in sent.split(): # for each word in a review/sentence\n",
    "        if word in w2v_words and word in tfidf_feat:\n",
    "            vec = w2v_model.wv[word]\n",
    "#             tf_idf = tf_idf_matrix[row, tfidf_feat.index(word)]\n",
    "            # to reduce the computation we are \n",
    "            # dictionary[word] = idf value of word in whole courpus\n",
    "            # sent.count(word) = tf valeus of word in this review\n",
    "            tf_idf = dictionary[word]*(sent.count(word)/len(sent))\n",
    "            sent_vec += (vec * tf_idf)\n",
    "            weight_sum += tf_idf\n",
    "    if weight_sum != 0:\n",
    "        sent_vec /= weight_sum\n",
    "    tfidf_sent_vectors.append(sent_vec)\n",
    "    row += 1\n",
    "tfidf_sent_vectors = np.array(tfidf_sent_vectors)"
   ]
  },
  {
   "cell_type": "markdown",
   "metadata": {},
   "source": [
    "# [5] Assignment 3: KNN"
   ]
  },
  {
   "cell_type": "markdown",
   "metadata": {},
   "source": [
    "<ol>\n",
    "    <li><strong>Apply Knn(brute force version) on these feature sets</strong>\n",
    "        <ul>\n",
    "            <li><font color='red'>SET 1:</font>Review text, preprocessed one converted into vectors using (BOW)</li>\n",
    "            <li><font color='red'>SET 2:</font>Review text, preprocessed one converted into vectors using (TFIDF)</li>\n",
    "            <li><font color='red'>SET 3:</font>Review text, preprocessed one converted into vectors using (AVG W2v)</li>\n",
    "            <li><font color='red'>SET 4:</font>Review text, preprocessed one converted into vectors using (TFIDF W2v)</li>\n",
    "        </ul>\n",
    "    </li>\n",
    "    <br>\n",
    "    <li><strong>Apply Knn(kd tree version) on these feature sets</strong>\n",
    "        <br><font color='red'>NOTE: </font>sklearn implementation of kd-tree accepts only dense matrices, you need to convert the sparse matrices of CountVectorizer/TfidfVectorizer into dense matices. You can convert sparse matrices to dense using .toarray() attribute. For more information please visit this <a href='https://docs.scipy.org/doc/scipy-0.18.1/reference/generated/scipy.sparse.csr_matrix.toarray.html'>link</a>\n",
    "        <ul>\n",
    "            <li><font color='red'>SET 5:</font>Review text, preprocessed one converted into vectors using (BOW) but with restriction on maximum features generated.\n",
    "            <pre>\n",
    "            count_vect = CountVectorizer(min_df=10, max_features=500) \n",
    "            count_vect.fit(preprocessed_reviews)\n",
    "            </pre>\n",
    "            </li>\n",
    "            <li><font color='red'>SET 6:</font>Review text, preprocessed one converted into vectors using (TFIDF) but with restriction on maximum features generated.\n",
    "            <pre>\n",
    "                tf_idf_vect = TfidfVectorizer(min_df=10, max_features=500)\n",
    "                tf_idf_vect.fit(preprocessed_reviews)\n",
    "            </pre>\n",
    "            </li>\n",
    "            <li><font color='red'>SET 3:</font>Review text, preprocessed one converted into vectors using (AVG W2v)</li>\n",
    "            <li><font color='red'>SET 4:</font>Review text, preprocessed one converted into vectors using (TFIDF W2v)</li>\n",
    "        </ul>\n",
    "    </li>\n",
    "    <br>\n",
    "    <li><strong>The hyper paramter tuning(find best K)</strong>\n",
    "        <ul>\n",
    "    <li>Find the best hyper parameter which will give the maximum <a href='https://www.appliedaicourse.com/course/applied-ai-course-online/lessons/receiver-operating-characteristic-curve-roc-curve-and-auc-1/'>AUC</a> value</li>\n",
    "    <li>Find the best hyper paramter using k-fold cross validation or simple cross validation data</li>\n",
    "    <li>Use gridsearch cv or randomsearch cv or you can also write your own for loops to do this task of hyperparameter tuning</li>\n",
    "        </ul>\n",
    "    </li>\n",
    "    <br>\n",
    "    <li>\n",
    "    <strong>Representation of results</strong>\n",
    "        <ul>\n",
    "    <li>You need to plot the performance of model both on train data and cross validation data for each hyper parameter, like shown in the figure\n",
    "    <img src='train_cv_auc.JPG' width=300px></li>\n",
    "    <li>Once after you found the best hyper parameter, you need to train your model with it, and find the AUC on test data and plot the ROC curve on both train and test.\n",
    "    <img src='train_test_auc.JPG' width=300px></li>\n",
    "    <li>Along with plotting ROC curve, you need to print the <a href='https://www.appliedaicourse.com/course/applied-ai-course-online/lessons/confusion-matrix-tpr-fpr-fnr-tnr-1/'>confusion matrix</a> with predicted and original labels of test data points\n",
    "    <img src='confusion_matrix.png' width=300px></li>\n",
    "        </ul>\n",
    "    </li>\n",
    "    <br>\n",
    "    <li><strong>Conclusion</strong>\n",
    "        <ul>\n",
    "    <li>You need to summarize the results at the end of the notebook, summarize it in the table format. To print out a table please refer to this prettytable library<a href='http://zetcode.com/python/prettytable/'> link</a> \n",
    "        <img src='summary.JPG' width=400px>\n",
    "    </li>\n",
    "        </ul>\n",
    "</ol>"
   ]
  },
  {
   "cell_type": "markdown",
   "metadata": {},
   "source": [
    "<h4><font color='red'>Note: Data Leakage</font></h4>\n",
    "\n",
    "1. There will be an issue of data-leakage if you vectorize the entire data and then split it into train/cv/test.\n",
    "2. To avoid the issue of data-leakag, make sure to split your data first and then vectorize it. \n",
    "3. While vectorizing your data, apply the method fit_transform() on you train data, and apply the method transform() on cv/test data.\n",
    "4. For more details please go through this <a href='https://soundcloud.com/applied-ai-course/leakage-bow-and-tfidf'>link.</a>"
   ]
  },
  {
   "cell_type": "markdown",
   "metadata": {},
   "source": [
    "## [5.1] Applying KNN brute force"
   ]
  },
  {
   "cell_type": "markdown",
   "metadata": {},
   "source": [
    "### [5.1.1] Applying KNN brute force on BOW,<font color='red'> SET 1</font>"
   ]
  },
  {
   "cell_type": "markdown",
   "metadata": {},
   "source": [
    "The below code is used to generate confusion matrix on train and test data with best_k as a best hyperparameter\n",
    "using heatmap from seaborn"
   ]
  },
  {
   "cell_type": "markdown",
   "metadata": {},
   "source": [
    "## BOW Kfold Cross validation"
   ]
  },
  {
   "cell_type": "code",
   "execution_count": 68,
   "metadata": {},
   "outputs": [
    {
     "name": "stdout",
     "output_type": "stream",
     "text": [
      "(75000, 72424) (75000,)\n",
      "(25000, 72424) (25000,)\n"
     ]
    },
    {
     "name": "stderr",
     "output_type": "stream",
     "text": [
      "\n",
      "  0%|                                                                                           | 0/25 [00:00<?, ?it/s]\n",
      "  4%|███▏                                                                            | 1/25 [06:25<2:34:12, 385.54s/it]\n",
      "  8%|██████▍                                                                         | 2/25 [14:01<2:35:53, 406.66s/it]\n",
      " 12%|█████████▌                                                                      | 3/25 [22:00<2:37:06, 428.50s/it]\n",
      " 16%|████████████▊                                                                   | 4/25 [30:06<2:35:55, 445.51s/it]\n",
      " 20%|████████████████                                                                | 5/25 [37:23<2:27:42, 443.13s/it]\n",
      " 24%|███████████████████▏                                                            | 6/25 [44:46<2:20:16, 442.96s/it]\n",
      " 28%|██████████████████████▍                                                         | 7/25 [51:48<2:11:02, 436.80s/it]\n",
      " 32%|█████████████████████████▌                                                      | 8/25 [58:44<2:01:55, 430.35s/it]\n",
      " 36%|████████████████████████████                                                  | 9/25 [1:05:19<1:51:59, 419.99s/it]\n",
      " 40%|██████████████████████████████▊                                              | 10/25 [1:12:01<1:43:37, 414.49s/it]\n",
      " 44%|█████████████████████████████████▉                                           | 11/25 [1:18:43<1:35:52, 410.86s/it]\n",
      " 48%|████████████████████████████████████▉                                        | 12/25 [1:25:19<1:28:01, 406.29s/it]\n",
      " 52%|████████████████████████████████████████                                     | 13/25 [1:31:20<1:18:32, 392.73s/it]\n",
      " 56%|███████████████████████████████████████████                                  | 14/25 [1:37:20<1:10:11, 382.84s/it]\n",
      " 60%|██████████████████████████████████████████████▏                              | 15/25 [1:43:33<1:03:19, 379.95s/it]\n",
      " 64%|██████████████████████████████████████████████████▌                            | 16/25 [1:50:38<59:00, 393.40s/it]\n",
      " 68%|█████████████████████████████████████████████████████▋                         | 17/25 [1:57:37<53:28, 401.11s/it]\n",
      " 72%|████████████████████████████████████████████████████████▉                      | 18/25 [2:04:58<48:12, 413.15s/it]\n",
      " 76%|████████████████████████████████████████████████████████████                   | 19/25 [2:12:33<42:34, 425.68s/it]\n",
      " 80%|███████████████████████████████████████████████████████████████▏               | 20/25 [2:19:33<35:19, 423.91s/it]\n",
      " 84%|██████████████████████████████████████████████████████████████████▎            | 21/25 [2:25:40<27:08, 407.00s/it]\n",
      " 88%|█████████████████████████████████████████████████████████████████████▌         | 22/25 [2:32:20<20:14, 404.83s/it]\n",
      " 92%|████████████████████████████████████████████████████████████████████████▋      | 23/25 [2:38:32<13:09, 394.84s/it]\n",
      " 96%|███████████████████████████████████████████████████████████████████████████▊   | 24/25 [2:45:28<06:41, 401.23s/it]\n",
      "100%|███████████████████████████████████████████████████████████████████████████████| 25/25 [2:51:52<00:00, 396.12s/it]\n"
     ]
    },
    {
     "name": "stdout",
     "output_type": "stream",
     "text": [
      "[0.5022852745812015, 0.5045674528793085, 0.5034753419781728, 0.5040860886198474, 0.5041804985805324, 0.5025775628517728, 0.5013591978599584, 0.5007612204519422, 0.50101663499965, 0.5008175275656684, 0.5021403104904034, 0.5006936506351328, 0.4998265761382628, 0.5012111374860657, 0.5022602653200929, 0.5023286630885498, 0.5014105351299031, 0.5021935063837633, 0.5028900633852467, 0.5016135305223948, 0.5025775521822927, 0.5023083868087671, 0.5018269905408658, 0.5014403926027214, 0.5010535876766653]\n",
      "[0.49991297972115956, 0.5010834287896142, 0.5010478425173372, 0.5021893772950052, 0.5030275076265442, 0.5021588341302723, 0.5025240148655732, 0.5032462817573515, 0.5015299180754649, 0.5014206768262877, 0.5002013046355618, 0.49956467810321115, 0.49984364232716444, 0.5005171923732851, 0.5013480745714142, 0.5018420714951896, 0.5016827405939287, 0.5019236574522192, 0.5008257892996781, 0.4993665956506078, 0.49881910195413665, 0.4997028620951217, 0.4996732293926818, 0.5000526574402694, 0.4990312823463069]\n"
     ]
    },
    {
     "data": {
      "image/png": "[encoded data removed]",
      "text/plain": [
       "<Figure size 432x288 with 1 Axes>"
      ]
     },
     "metadata": {},
     "output_type": "display_data"
    },
    {
     "name": "stdout",
     "output_type": "stream",
     "text": [
      "15\n"
     ]
    }
   ],
   "source": [
    "import numpy as np\n",
    "import pandas as pd\n",
    "import matplotlib.pyplot as plt\n",
    "from sklearn.model_selection import train_test_split\n",
    "from sklearn.neighbors import KNeighborsClassifier\n",
    "from sklearn.model_selection import cross_val_score\n",
    "from sklearn.metrics import roc_auc_score\n",
    "from sklearn.metrics import auc\n",
    "\n",
    "X = sample['Cleaned_Text'].values\n",
    "Y = sample['Score'].values\n",
    "# split the data set into train and test\n",
    "X_train_bow, X_test_bow, y_train_bow, y_test_bow = train_test_split(X, Y, test_size=0.25)\n",
    "\n",
    "count_vect = CountVectorizer() # converts text document into matrix token counts\n",
    "\n",
    "X_train_bow = count_vect.fit_transform(X_train) #fitting and transforming the model\n",
    "X_test_bow = count_vect.transform(X_test) \n",
    "\n",
    "print(X_train_bow.shape, y_train.shape)\n",
    "print(X_test_bow.shape, y_test.shape)\n",
    "\n",
    "# creating odd list of K for KNN\n",
    "my_list = list(range(0,50))\n",
    "neighbors = list(filter(lambda x: x % 2 != 0, my_list))\n",
    "auc_scores_train = []\n",
    "auc_scores_cv = []\n",
    "\n",
    "for k in tqdm(neighbors):\n",
    "    # classifier with brute force method\n",
    "    knn = KNeighborsClassifier(n_neighbors=k,algorithm='brute') \n",
    "    # fitting the model\n",
    "    knn.fit(X_train_bow, y_train_bow) \n",
    "    \n",
    "    # obtaining AUC Values on train data with scoring parameter as roc_auc using cross_val_score\n",
    "    scores = cross_val_score(knn, X_train_bow, y_train_bow, scoring='roc_auc') \n",
    "    auc_scores_train.append(scores.mean()) \n",
    "    # applying crossvalidation\n",
    "    scores = cross_val_score(knn, X_train_bow, y_train_bow, cv=10, scoring='roc_auc') \n",
    "    auc_scores_cv.append(scores.mean()) \n",
    "        \n",
    "print(auc_scores_train)\n",
    "print(auc_scores_cv)\n",
    "\n",
    "#Ploting AUC of Train and Test data\n",
    "plt.plot(neighbors,auc_scores_train,'b',label='Train AUC')\n",
    "plt.scatter(neighbors, auc_scores_train, label='Train AUC')\n",
    "plt.plot(neighbors,auc_scores_cv,'r',label = 'Validation AUC')\n",
    "plt.scatter(neighbors, auc_scores_cv, label='Validation AUC')\n",
    "plt.legend(loc='lower right')\n",
    "plt.xlabel('K: hyperparameter')\n",
    "plt.ylabel('AUC')\n",
    "plt.grid(True)\n",
    "plt.show()\n",
    "\n",
    "print(neighbors[auc_scores_cv.index(max(auc_scores_cv))])"
   ]
  },
  {
   "cell_type": "code",
   "execution_count": 70,
   "metadata": {},
   "outputs": [
    {
     "name": "stdout",
     "output_type": "stream",
     "text": [
      "ROC AUC Curve\n"
     ]
    },
    {
     "data": {
      "image/png": "[encoded data removed]",
      "text/plain": [
       "<Figure size 432x288 with 1 Axes>"
      ]
     },
     "metadata": {},
     "output_type": "display_data"
    },
    {
     "name": "stdout",
     "output_type": "stream",
     "text": [
      "Accuracy on test data:0.85%\n",
      "F1-Score on test data:0.00\n",
      "Precision on test data:0.14\n",
      "Recall on test data:0.00\n"
     ]
    }
   ],
   "source": [
    "from sklearn.metrics import f1_score\n",
    "from sklearn.metrics import accuracy_score\n",
    "from sklearn.metrics import precision_score\n",
    "from sklearn.metrics import recall_score\n",
    "#Testing AUC on Test data with best_k\n",
    "best_k_bow = neighbors[auc_scores_cv.index(max(auc_scores_cv))]# Optimal k with maximum AUC Value\n",
    "\n",
    "neigh = KNeighborsClassifier(n_neighbors=best_k_bow,algorithm='brute') # applying best k parameter on classifier\n",
    "neigh.fit(X_train_bow, y_train_bow) #fitting the model\n",
    "\n",
    "# roc_auc_score(y_true, y_score) the 2nd parameter should be probability estimates of the positive class\n",
    "# not the predicted outputs\n",
    "train_fpr, train_tpr, thresholds = roc_curve(y_train_bow, neigh.predict_proba(X_train_bow)[:,1])\n",
    "test_fpr, test_tpr, thresholds = roc_curve(y_test_bow, neigh.predict_proba(X_test_bow)[:,1])\n",
    "\n",
    "# Plotting ROC AUC Curve\n",
    "print(\"ROC AUC Curve\")\n",
    "plt.plot(train_fpr, train_tpr, label=\"train AUC =\"+str(auc(train_fpr, train_tpr)))\n",
    "plt.plot(test_fpr, test_tpr, label=\"test AUC =\"+str(auc(test_fpr, test_tpr)))\n",
    "plt.legend()\n",
    "plt.xlabel(\"K: hyperparameter\")\n",
    "plt.ylabel(\"AUC\")\n",
    "plt.title(\"ERROR PLOTS\")\n",
    "plt.show()\n",
    "\n",
    "print(\"Accuracy on test data:%0.2f%%\"%(accuracy_score(y_test_bow,neigh.predict(X_test_bow)*100)))\n",
    "print(\"F1-Score on test data:%0.2f\"%(f1_score(y_test_bow,neigh.predict(X_test_bow))))\n",
    "print(\"Precision on test data:%0.2f\"%(precision_score(y_test_bow,neigh.predict(X_test_bow))))\n",
    "print(\"Recall on test data:%0.2f\"%(recall_score(y_test_bow,neigh.predict(X_test_bow))))"
   ]
  },
  {
   "cell_type": "code",
   "execution_count": 71,
   "metadata": {},
   "outputs": [
    {
     "name": "stdout",
     "output_type": "stream",
     "text": [
      "confusion matrix:\n",
      " [[TN FP]\n",
      " [FN TP] ]\n",
      "\n"
     ]
    },
    {
     "data": {
      "text/plain": [
       "<matplotlib.axes._subplots.AxesSubplot at 0x14b733d6ef0>"
      ]
     },
     "execution_count": 71,
     "metadata": {},
     "output_type": "execute_result"
    },
    {
     "data": {
      "image/png": "[encoded data removed]",
      "text/plain": [
       "<Figure size 432x288 with 2 Axes>"
      ]
     },
     "metadata": {},
     "output_type": "display_data"
    },
    {
     "data": {
      "image/png": "[encoded data removed]",
      "text/plain": [
       "<Figure size 432x288 with 2 Axes>"
      ]
     },
     "metadata": {},
     "output_type": "display_data"
    }
   ],
   "source": [
    "#Plotting Confusion matrix for Train and Test data \n",
    "print(\"confusion matrix:\\n [[TN FP]\\n [FN TP] ]\\n\")\n",
    "classes = ['NO','YES']\n",
    "plt.figure(1)\n",
    "plt.title('confusion matrix for Train data')\n",
    "plt.ylabel('True label')\n",
    "plt.xlabel('Predicted label')\n",
    "df_cm = pd.DataFrame(confusion_matrix(y_train, neigh.predict(X_train_bow)),classes,classes)\n",
    "sns.set(font_scale=1.4)\n",
    "sns.heatmap(df_cm, annot=True,annot_kws={\"size\":16},fmt='g')\n",
    "\n",
    "plt.figure(2)\n",
    "plt.title('confusion matrix for test data')\n",
    "plt.ylabel('True label')\n",
    "plt.xlabel('Predicted label')\n",
    "df_cm1 = pd.DataFrame(confusion_matrix(y_test, neigh.predict(X_test_bow)),classes,classes)\n",
    "sns.set(font_scale=1.4)\n",
    "sns.heatmap(df_cm1, annot=True,annot_kws={\"size\":16},fmt='g')"
   ]
  },
  {
   "cell_type": "code",
   "execution_count": null,
   "metadata": {},
   "outputs": [],
   "source": []
  },
  {
   "cell_type": "markdown",
   "metadata": {},
   "source": [
    "## BOW GridSearchCv"
   ]
  },
  {
   "cell_type": "code",
   "execution_count": 77,
   "metadata": {},
   "outputs": [
    {
     "name": "stdout",
     "output_type": "stream",
     "text": [
      "Best Hyperparameter:  {'n_neighbors': 45}\n",
      "Best AUC: 76.24%\n"
     ]
    },
    {
     "ename": "ValueError",
     "evalue": "x and y must have same first dimension, but have shapes (1,) and (8,)",
     "output_type": "error",
     "traceback": [
      "\u001b[1;31m---------------------------------------------------------------------------\u001b[0m",
      "\u001b[1;31mValueError\u001b[0m                                Traceback (most recent call last)",
      "\u001b[1;32m<ipython-input-77-972cae243bec>\u001b[0m in \u001b[0;36m<module>\u001b[1;34m\u001b[0m\n\u001b[0;32m     29\u001b[0m \u001b[0mGscv_cv_auc_std\u001b[0m \u001b[1;33m=\u001b[0m \u001b[0mGscv_knn\u001b[0m\u001b[1;33m.\u001b[0m\u001b[0mcv_results_\u001b[0m\u001b[1;33m[\u001b[0m\u001b[1;34m'std_test_score'\u001b[0m\u001b[1;33m]\u001b[0m\u001b[1;33m\u001b[0m\u001b[1;33m\u001b[0m\u001b[0m\n\u001b[0;32m     30\u001b[0m \u001b[1;33m\u001b[0m\u001b[0m\n\u001b[1;32m---> 31\u001b[1;33m \u001b[0mplt\u001b[0m\u001b[1;33m.\u001b[0m\u001b[0mplot\u001b[0m\u001b[1;33m(\u001b[0m\u001b[0mparameters\u001b[0m\u001b[1;33m,\u001b[0m \u001b[0mGscv_train_auc\u001b[0m\u001b[1;33m,\u001b[0m \u001b[0mlabel\u001b[0m\u001b[1;33m=\u001b[0m\u001b[1;34m'Train AUC'\u001b[0m\u001b[1;33m)\u001b[0m\u001b[1;33m\u001b[0m\u001b[1;33m\u001b[0m\u001b[0m\n\u001b[0m\u001b[0;32m     32\u001b[0m \u001b[1;31m# this code is copied from here: https://stackoverflow.com/a/48803361/4084039\u001b[0m\u001b[1;33m\u001b[0m\u001b[1;33m\u001b[0m\u001b[1;33m\u001b[0m\u001b[0m\n\u001b[0;32m     33\u001b[0m \u001b[0mplt\u001b[0m\u001b[1;33m.\u001b[0m\u001b[0mgca\u001b[0m\u001b[1;33m(\u001b[0m\u001b[1;33m)\u001b[0m\u001b[1;33m.\u001b[0m\u001b[0mfill_between\u001b[0m\u001b[1;33m(\u001b[0m\u001b[0mmy_list\u001b[0m\u001b[1;33m,\u001b[0m\u001b[0mGscv_train_auc\u001b[0m \u001b[1;33m-\u001b[0m \u001b[0mGscv_train_auc_std\u001b[0m\u001b[1;33m,\u001b[0m\u001b[0mGscv_train_auc\u001b[0m \u001b[1;33m+\u001b[0m \u001b[0mGscv_train_auc_std\u001b[0m\u001b[1;33m,\u001b[0m\u001b[0malpha\u001b[0m\u001b[1;33m=\u001b[0m\u001b[1;36m0.2\u001b[0m\u001b[1;33m,\u001b[0m\u001b[0mcolor\u001b[0m\u001b[1;33m=\u001b[0m\u001b[1;34m'darkblue'\u001b[0m\u001b[1;33m)\u001b[0m\u001b[1;33m\u001b[0m\u001b[1;33m\u001b[0m\u001b[0m\n",
      "\u001b[1;32mc:\\users\\shiva_kv\\appdata\\local\\programs\\python\\python37\\lib\\site-packages\\matplotlib\\pyplot.py\u001b[0m in \u001b[0;36mplot\u001b[1;34m(*args, **kwargs)\u001b[0m\n\u001b[0;32m   3361\u001b[0m                       mplDeprecation)\n\u001b[0;32m   3362\u001b[0m     \u001b[1;32mtry\u001b[0m\u001b[1;33m:\u001b[0m\u001b[1;33m\u001b[0m\u001b[1;33m\u001b[0m\u001b[0m\n\u001b[1;32m-> 3363\u001b[1;33m         \u001b[0mret\u001b[0m \u001b[1;33m=\u001b[0m \u001b[0max\u001b[0m\u001b[1;33m.\u001b[0m\u001b[0mplot\u001b[0m\u001b[1;33m(\u001b[0m\u001b[1;33m*\u001b[0m\u001b[0margs\u001b[0m\u001b[1;33m,\u001b[0m \u001b[1;33m**\u001b[0m\u001b[0mkwargs\u001b[0m\u001b[1;33m)\u001b[0m\u001b[1;33m\u001b[0m\u001b[1;33m\u001b[0m\u001b[0m\n\u001b[0m\u001b[0;32m   3364\u001b[0m     \u001b[1;32mfinally\u001b[0m\u001b[1;33m:\u001b[0m\u001b[1;33m\u001b[0m\u001b[1;33m\u001b[0m\u001b[0m\n\u001b[0;32m   3365\u001b[0m         \u001b[0max\u001b[0m\u001b[1;33m.\u001b[0m\u001b[0m_hold\u001b[0m \u001b[1;33m=\u001b[0m \u001b[0mwashold\u001b[0m\u001b[1;33m\u001b[0m\u001b[1;33m\u001b[0m\u001b[0m\n",
      "\u001b[1;32mc:\\users\\shiva_kv\\appdata\\local\\programs\\python\\python37\\lib\\site-packages\\matplotlib\\__init__.py\u001b[0m in \u001b[0;36minner\u001b[1;34m(ax, *args, **kwargs)\u001b[0m\n\u001b[0;32m   1865\u001b[0m                         \u001b[1;34m\"the Matplotlib list!)\"\u001b[0m \u001b[1;33m%\u001b[0m \u001b[1;33m(\u001b[0m\u001b[0mlabel_namer\u001b[0m\u001b[1;33m,\u001b[0m \u001b[0mfunc\u001b[0m\u001b[1;33m.\u001b[0m\u001b[0m__name__\u001b[0m\u001b[1;33m)\u001b[0m\u001b[1;33m,\u001b[0m\u001b[1;33m\u001b[0m\u001b[1;33m\u001b[0m\u001b[0m\n\u001b[0;32m   1866\u001b[0m                         RuntimeWarning, stacklevel=2)\n\u001b[1;32m-> 1867\u001b[1;33m             \u001b[1;32mreturn\u001b[0m \u001b[0mfunc\u001b[0m\u001b[1;33m(\u001b[0m\u001b[0max\u001b[0m\u001b[1;33m,\u001b[0m \u001b[1;33m*\u001b[0m\u001b[0margs\u001b[0m\u001b[1;33m,\u001b[0m \u001b[1;33m**\u001b[0m\u001b[0mkwargs\u001b[0m\u001b[1;33m)\u001b[0m\u001b[1;33m\u001b[0m\u001b[1;33m\u001b[0m\u001b[0m\n\u001b[0m\u001b[0;32m   1868\u001b[0m \u001b[1;33m\u001b[0m\u001b[0m\n\u001b[0;32m   1869\u001b[0m         inner.__doc__ = _add_data_doc(inner.__doc__,\n",
      "\u001b[1;32mc:\\users\\shiva_kv\\appdata\\local\\programs\\python\\python37\\lib\\site-packages\\matplotlib\\axes\\_axes.py\u001b[0m in \u001b[0;36mplot\u001b[1;34m(self, *args, **kwargs)\u001b[0m\n\u001b[0;32m   1526\u001b[0m         \u001b[0mkwargs\u001b[0m \u001b[1;33m=\u001b[0m \u001b[0mcbook\u001b[0m\u001b[1;33m.\u001b[0m\u001b[0mnormalize_kwargs\u001b[0m\u001b[1;33m(\u001b[0m\u001b[0mkwargs\u001b[0m\u001b[1;33m,\u001b[0m \u001b[0m_alias_map\u001b[0m\u001b[1;33m)\u001b[0m\u001b[1;33m\u001b[0m\u001b[1;33m\u001b[0m\u001b[0m\n\u001b[0;32m   1527\u001b[0m \u001b[1;33m\u001b[0m\u001b[0m\n\u001b[1;32m-> 1528\u001b[1;33m         \u001b[1;32mfor\u001b[0m \u001b[0mline\u001b[0m \u001b[1;32min\u001b[0m \u001b[0mself\u001b[0m\u001b[1;33m.\u001b[0m\u001b[0m_get_lines\u001b[0m\u001b[1;33m(\u001b[0m\u001b[1;33m*\u001b[0m\u001b[0margs\u001b[0m\u001b[1;33m,\u001b[0m \u001b[1;33m**\u001b[0m\u001b[0mkwargs\u001b[0m\u001b[1;33m)\u001b[0m\u001b[1;33m:\u001b[0m\u001b[1;33m\u001b[0m\u001b[1;33m\u001b[0m\u001b[0m\n\u001b[0m\u001b[0;32m   1529\u001b[0m             \u001b[0mself\u001b[0m\u001b[1;33m.\u001b[0m\u001b[0madd_line\u001b[0m\u001b[1;33m(\u001b[0m\u001b[0mline\u001b[0m\u001b[1;33m)\u001b[0m\u001b[1;33m\u001b[0m\u001b[1;33m\u001b[0m\u001b[0m\n\u001b[0;32m   1530\u001b[0m             \u001b[0mlines\u001b[0m\u001b[1;33m.\u001b[0m\u001b[0mappend\u001b[0m\u001b[1;33m(\u001b[0m\u001b[0mline\u001b[0m\u001b[1;33m)\u001b[0m\u001b[1;33m\u001b[0m\u001b[1;33m\u001b[0m\u001b[0m\n",
      "\u001b[1;32mc:\\users\\shiva_kv\\appdata\\local\\programs\\python\\python37\\lib\\site-packages\\matplotlib\\axes\\_base.py\u001b[0m in \u001b[0;36m_grab_next_args\u001b[1;34m(self, *args, **kwargs)\u001b[0m\n\u001b[0;32m    404\u001b[0m                 \u001b[0mthis\u001b[0m \u001b[1;33m+=\u001b[0m \u001b[0margs\u001b[0m\u001b[1;33m[\u001b[0m\u001b[1;36m0\u001b[0m\u001b[1;33m]\u001b[0m\u001b[1;33m,\u001b[0m\u001b[1;33m\u001b[0m\u001b[1;33m\u001b[0m\u001b[0m\n\u001b[0;32m    405\u001b[0m                 \u001b[0margs\u001b[0m \u001b[1;33m=\u001b[0m \u001b[0margs\u001b[0m\u001b[1;33m[\u001b[0m\u001b[1;36m1\u001b[0m\u001b[1;33m:\u001b[0m\u001b[1;33m]\u001b[0m\u001b[1;33m\u001b[0m\u001b[1;33m\u001b[0m\u001b[0m\n\u001b[1;32m--> 406\u001b[1;33m             \u001b[1;32mfor\u001b[0m \u001b[0mseg\u001b[0m \u001b[1;32min\u001b[0m \u001b[0mself\u001b[0m\u001b[1;33m.\u001b[0m\u001b[0m_plot_args\u001b[0m\u001b[1;33m(\u001b[0m\u001b[0mthis\u001b[0m\u001b[1;33m,\u001b[0m \u001b[0mkwargs\u001b[0m\u001b[1;33m)\u001b[0m\u001b[1;33m:\u001b[0m\u001b[1;33m\u001b[0m\u001b[1;33m\u001b[0m\u001b[0m\n\u001b[0m\u001b[0;32m    407\u001b[0m                 \u001b[1;32myield\u001b[0m \u001b[0mseg\u001b[0m\u001b[1;33m\u001b[0m\u001b[1;33m\u001b[0m\u001b[0m\n\u001b[0;32m    408\u001b[0m \u001b[1;33m\u001b[0m\u001b[0m\n",
      "\u001b[1;32mc:\\users\\shiva_kv\\appdata\\local\\programs\\python\\python37\\lib\\site-packages\\matplotlib\\axes\\_base.py\u001b[0m in \u001b[0;36m_plot_args\u001b[1;34m(self, tup, kwargs)\u001b[0m\n\u001b[0;32m    381\u001b[0m             \u001b[0mx\u001b[0m\u001b[1;33m,\u001b[0m \u001b[0my\u001b[0m \u001b[1;33m=\u001b[0m \u001b[0mindex_of\u001b[0m\u001b[1;33m(\u001b[0m\u001b[0mtup\u001b[0m\u001b[1;33m[\u001b[0m\u001b[1;33m-\u001b[0m\u001b[1;36m1\u001b[0m\u001b[1;33m]\u001b[0m\u001b[1;33m)\u001b[0m\u001b[1;33m\u001b[0m\u001b[1;33m\u001b[0m\u001b[0m\n\u001b[0;32m    382\u001b[0m \u001b[1;33m\u001b[0m\u001b[0m\n\u001b[1;32m--> 383\u001b[1;33m         \u001b[0mx\u001b[0m\u001b[1;33m,\u001b[0m \u001b[0my\u001b[0m \u001b[1;33m=\u001b[0m \u001b[0mself\u001b[0m\u001b[1;33m.\u001b[0m\u001b[0m_xy_from_xy\u001b[0m\u001b[1;33m(\u001b[0m\u001b[0mx\u001b[0m\u001b[1;33m,\u001b[0m \u001b[0my\u001b[0m\u001b[1;33m)\u001b[0m\u001b[1;33m\u001b[0m\u001b[1;33m\u001b[0m\u001b[0m\n\u001b[0m\u001b[0;32m    384\u001b[0m \u001b[1;33m\u001b[0m\u001b[0m\n\u001b[0;32m    385\u001b[0m         \u001b[1;32mif\u001b[0m \u001b[0mself\u001b[0m\u001b[1;33m.\u001b[0m\u001b[0mcommand\u001b[0m \u001b[1;33m==\u001b[0m \u001b[1;34m'plot'\u001b[0m\u001b[1;33m:\u001b[0m\u001b[1;33m\u001b[0m\u001b[1;33m\u001b[0m\u001b[0m\n",
      "\u001b[1;32mc:\\users\\shiva_kv\\appdata\\local\\programs\\python\\python37\\lib\\site-packages\\matplotlib\\axes\\_base.py\u001b[0m in \u001b[0;36m_xy_from_xy\u001b[1;34m(self, x, y)\u001b[0m\n\u001b[0;32m    240\u001b[0m         \u001b[1;32mif\u001b[0m \u001b[0mx\u001b[0m\u001b[1;33m.\u001b[0m\u001b[0mshape\u001b[0m\u001b[1;33m[\u001b[0m\u001b[1;36m0\u001b[0m\u001b[1;33m]\u001b[0m \u001b[1;33m!=\u001b[0m \u001b[0my\u001b[0m\u001b[1;33m.\u001b[0m\u001b[0mshape\u001b[0m\u001b[1;33m[\u001b[0m\u001b[1;36m0\u001b[0m\u001b[1;33m]\u001b[0m\u001b[1;33m:\u001b[0m\u001b[1;33m\u001b[0m\u001b[1;33m\u001b[0m\u001b[0m\n\u001b[0;32m    241\u001b[0m             raise ValueError(\"x and y must have same first dimension, but \"\n\u001b[1;32m--> 242\u001b[1;33m                              \"have shapes {} and {}\".format(x.shape, y.shape))\n\u001b[0m\u001b[0;32m    243\u001b[0m         \u001b[1;32mif\u001b[0m \u001b[0mx\u001b[0m\u001b[1;33m.\u001b[0m\u001b[0mndim\u001b[0m \u001b[1;33m>\u001b[0m \u001b[1;36m2\u001b[0m \u001b[1;32mor\u001b[0m \u001b[0my\u001b[0m\u001b[1;33m.\u001b[0m\u001b[0mndim\u001b[0m \u001b[1;33m>\u001b[0m \u001b[1;36m2\u001b[0m\u001b[1;33m:\u001b[0m\u001b[1;33m\u001b[0m\u001b[1;33m\u001b[0m\u001b[0m\n\u001b[0;32m    244\u001b[0m             raise ValueError(\"x and y can be no greater than 2-D, but have \"\n",
      "\u001b[1;31mValueError\u001b[0m: x and y must have same first dimension, but have shapes (1,) and (8,)"
     ]
    },
    {
     "data": {
      "image/png": "[encoded data removed]",
      "text/plain": [
       "<Figure size 432x288 with 1 Axes>"
      ]
     },
     "metadata": {},
     "output_type": "display_data"
    }
   ],
   "source": [
    "# https://scikit-learn.org/stable/modules/generated/sklearn.model_selection.GridSearchCV.html\n",
    "from sklearn.model_selection import GridSearchCV  #importing GridSearchCV from sklearn\n",
    "from sklearn.model_selection import TimeSeriesSplit #importing TimeSeriesSplit from sklearn\n",
    "\n",
    "X = sample['Cleaned_Text'].values\n",
    "Y = sample['Score'].values\n",
    "# split the data set into train and test\n",
    "X_train_bow, X_test_bow, y_train_bow, y_test_bow = train_test_split(X, Y, test_size=0.25,shuffle=False)#for time based splitting\n",
    "\n",
    "count_vect = CountVectorizer() # converts text document into matrix token counts\n",
    "\n",
    "X_train_bow = count_vect.fit_transform(X_train_bow) #fitting and transforming the model\n",
    "X_test_bow = count_vect.transform(X_test_bow) \n",
    "\n",
    "neigh = KNeighborsClassifier(algorithm='brute')#instantiate Knn Model with brute force method\n",
    "my_list = [1, 5, 10, 15, 21, 31, 41,45]\n",
    "parameters = {'n_neighbors':my_list} # list of k neighbors\n",
    "ts = TimeSeriesSplit(n_splits = 10) #using Time series split\n",
    "Gscv_knn = GridSearchCV(neigh, parameters, cv=ts, scoring='roc_auc') #instantiate GridSearchCV with scoring parameter\n",
    "                                                  # as roc_auc using TimeSeriesSplit\n",
    "Gscv_knn.fit(X_train_bow, y_train_bow) #fitting the model\n",
    "\n",
    "print(\"Best Hyperparameter: \",Gscv_knn.best_params_)\n",
    "print(\"Best AUC: %.2f%%\" %(Gscv_knn.best_score_*100))\n",
    "\n",
    "Gscv_train_auc = Gscv_knn.cv_results_['mean_train_score']\n",
    "Gscv_train_auc_std= Gscv_knn.cv_results_['std_train_score']\n",
    "Gscv_cv_auc = Gscv_knn.cv_results_['mean_test_score']\n",
    "Gscv_cv_auc_std = Gscv_knn.cv_results_['std_test_score']\n",
    "\n",
    "plt.plot(parameters, Gscv_train_auc, label='Train AUC')\n",
    "# this code is copied from here: https://stackoverflow.com/a/48803361/4084039\n",
    "plt.gca().fill_between(my_list,Gscv_train_auc - Gscv_train_auc_std,Gscv_train_auc + Gscv_train_auc_std,alpha=0.2,color='darkblue')\n",
    "\n",
    "plt.plot(my_list, Gscv_cv_auc, label='CV AUC')\n",
    "# this code is copied from here: https://stackoverflow.com/a/48803361/4084039\n",
    "plt.gca().fill_between(my_list,Gscv_cv_auc - Gscv_cv_auc_std,Gscv_cv_auc + Gscv_cv_auc_std,alpha=0.2,color='darkorange')\n",
    "plt.legend()\n",
    "plt.xlabel(\"K: hyperparameter\")\n",
    "plt.ylabel(\"AUC\")\n",
    "plt.title(\"ERROR PLOTS\")\n",
    "plt.show()"
   ]
  },
  {
   "cell_type": "code",
   "execution_count": null,
   "metadata": {},
   "outputs": [],
   "source": [
    "#Testing AUC on Test data with best_k\n",
    "best_k_bow_Gscv = list(Gscv_knn.best_params_.values())# Optimal k with maximum AUC Value\n",
    "\n",
    "neigh = KNeighborsClassifier(n_neighbors=best_k_bow_Gscv,algorithm='brute') # applying best k parameter on classifier\n",
    "neigh.fit(X_train_bow, y_train_bow) #fitting the model\n",
    "\n",
    "# roc_auc_score(y_true, y_score) the 2nd parameter should be probability estimates of the positive class\n",
    "# not the predicted outputs\n",
    "train_fpr, train_tpr, thresholds = roc_curve(y_train_bow, neigh.predict_proba(X_train_bow)[:,1])\n",
    "test_fpr, test_tpr, thresholds = roc_curve(y_test_bow, neigh.predict_proba(X_test_bow)[:,1])\n",
    "\n",
    "# Plotting ROC AUC Curve\n",
    "print(\"ROC AUC Curve\")\n",
    "plt.plot(train_fpr, train_tpr, label=\"train AUC =\"+str(auc(train_fpr, train_tpr)))\n",
    "plt.plot(test_fpr, test_tpr, label=\"test AUC =\"+str(auc(test_fpr, test_tpr)))\n",
    "plt.legend()\n",
    "plt.xlabel(\"K: hyperparameter\")\n",
    "plt.ylabel(\"AUC\")\n",
    "plt.title(\"ERROR PLOTS\")\n",
    "plt.show()\n",
    "\n",
    "print(\"Accuracy on test data:%0.2f%%\"%(accuracy_score(y_test_bow,neigh.predict(X_test_bow)*100)))\n",
    "print(\"F1-Score on test data:%0.2f\"%(fl_score(y_test_bow,neigh.predict(X_test_bow))))\n",
    "print(\"Precision on test data:%0.2f\"%(precision_score(y_test_bow,neigh.predict(X_test_bow))))\n",
    "print(\"Recall on test data:%0.2f\"%(recall_score(y_test_bow,neigh.predict(X_test_bow))))"
   ]
  },
  {
   "cell_type": "code",
   "execution_count": null,
   "metadata": {},
   "outputs": [],
   "source": [
    "#Plotting Confusion matrix for Train and Test data \n",
    "print(\"confusion matrix:\\n [[TN FP]\\n [FN TP] ]\\n\")\n",
    "classes = ['NO','YES']\n",
    "plt.figure(1)\n",
    "plt.title('confusion matrix for Train data')\n",
    "plt.ylabel('True label')\n",
    "plt.xlabel('Predicted label')\n",
    "df_cm = pd.DataFrame(confusion_matrix(y_train_bow, neigh.predict(X_train_bow)),classes,classes)\n",
    "sns.set(font_scale=1.4)\n",
    "sns.heatmap(df_cm, annot=True,annot_kws={\"size\":16},fmt='g')\n",
    "\n",
    "plt.figure(2)\n",
    "plt.title('confusion matrix for test data')\n",
    "plt.ylabel('True label')\n",
    "plt.xlabel('Predicted label')\n",
    "df_cm1 = pd.DataFrame(confusion_matrix(y_test_bow, neigh.predict(X_test_bow)),classes,classes)\n",
    "sns.set(font_scale=1.4)\n",
    "sns.heatmap(df_cm1, annot=True,annot_kws={\"size\":16},fmt='g')"
   ]
  },
  {
   "cell_type": "markdown",
   "metadata": {},
   "source": [
    "### [5.1.2] Applying KNN brute force on TFIDF,<font color='red'> SET 2</font>"
   ]
  },
  {
   "cell_type": "markdown",
   "metadata": {},
   "source": [
    "## TFIDF Kfold Cross validation"
   ]
  },
  {
   "cell_type": "code",
   "execution_count": null,
   "metadata": {
    "scrolled": false
   },
   "outputs": [],
   "source": [
    "import numpy as np\n",
    "import pandas as pd\n",
    "import matplotlib.pyplot as plt\n",
    "from sklearn.model_selection import train_test_split\n",
    "from sklearn.neighbors import KNeighborsClassifier\n",
    "from sklearn.model_selection import cross_val_score\n",
    "from sklearn.metrics import roc_auc_score\n",
    "from sklearn.metrics import auc\n",
    "\n",
    "X = sample['Cleaned_Text'].values\n",
    "Y = sample['Score'].values\n",
    "# split the data set into train and test\n",
    "X_train_tfidf, X_test_tfidf, y_train_tfidf, y_test_tfidf = train_test_split(X, Y, test_size=0.25)\n",
    "\n",
    "tfidf_vect = TfidfVectorizer()\n",
    "\n",
    "X_train_tfidf = tfidf_vect.fit_transform(X_train_tfidf)\n",
    "X_test_tfidf = tfidf_vect.transform(X_test_tfidf)\n",
    "\n",
    "# creating odd list of K for KNN\n",
    "neighbors = [1, 5, 10, 15, 21, 31, 41, 51]\n",
    "auc_scores_train = []\n",
    "auc_scores_cv = []\n",
    "\n",
    "for k in tqdm(neighbors):\n",
    "    knn = KNeighborsClassifier(n_neighbors=k,algorithm='brute')\n",
    "    knn.fit(X_train_tfidf, y_train)\n",
    "    \n",
    "    scores = cross_val_score(knn, X_train_tfidf, y_train, scoring='roc_auc')\n",
    "    auc_scores_train.append(scores.mean())\n",
    "    \n",
    "    scores = cross_val_score(knn, X_train_tfidf, y_train, cv=10, scoring='roc_auc')\n",
    "    auc_scores_cv.append(scores.mean())\n",
    "        \n",
    "print(auc_scores_train)\n",
    "print(auc_scores_cv)\n",
    "\n",
    "plt.plot(neighbors,auc_scores_train,'b',label='Train AUC')\n",
    "plt.scatter(neighbors, auc_scores_train, label='Train AUC')\n",
    "plt.plot(neighbors,auc_scores_cv,'r',label = 'Validation AUC')\n",
    "plt.scatter(neighbors, auc_scores_cv, label='Validation AUC')\n",
    "plt.legend(loc='lower right')\n",
    "plt.xlabel('K: hyperparameter')\n",
    "plt.ylabel('AUC')\n",
    "plt.grid(True)\n",
    "plt.show()\n",
    "\n",
    "print(neighbors[auc_scores_cv.index(max(auc_scores_cv))])\n"
   ]
  },
  {
   "cell_type": "code",
   "execution_count": null,
   "metadata": {},
   "outputs": [],
   "source": [
    "# Determining Optimal k\n",
    "best_k_Tfidf = neighbors[auc_scores_cv.index(max(auc_scores_cv))]\n",
    "# Testing AUC on Test data with best_k \n",
    "Confusion_matrix_best_k(best_k_Tfidf,X_train_tfidf,X_test_tfidf,y_train_tfidf,y_test_tfidf)"
   ]
  },
  {
   "cell_type": "code",
   "execution_count": null,
   "metadata": {},
   "outputs": [],
   "source": [
    "# https://scikit-learn.org/stable/modules/generated/sklearn.model_selection.GridSearchCV.html\n",
    "from sklearn.model_selection import GridSearchCV  #importing GridSearchCV from sklearn\n",
    "from sklearn.model_selection import TimeSeriesSplit #importing TimeSeriesSplit from sklearn\n",
    "\n",
    "neigh = KNeighborsClassifier(algorithm='brute')#instantiate Knn Model with brute force method\n",
    "parameters = {'n_neighbors':[1, 5, 10, 15, 21, 31, 41, 51]} # list of k neighbors\n",
    "ts = TimeSeriesSplit(n_splits = 10) #using Time series split\n",
    "Gscv_knn = GridSearchCV(neigh, parameters, cv=ts, scoring='roc_auc') #instantiate GridSearchCV with scoring parameter\n",
    "                                                  # as roc_auc using TimeSeriesSplit\n",
    "Gscv_knn.fit(X_train_tfidf, y_train) #fitting the model\n",
    "\n",
    "print(\"Best Hyperparameter: \",Gscv_knn.best_param_)\n",
    "print(\"Best AUC: %.2f%%\" %(Gscv_knn.best_score_*100))\n",
    "\n",
    "Gscv_train_auc = Gscv_knn.cv_results_['mean_train_score']\n",
    "Gscv_train_auc_std= Gscv_knn.cv_results_['std_train_score']\n",
    "Gscv_cv_auc = Gscv_knn.cv_results_['mean_test_score']\n",
    "Gscv_cv_auc_std = Gscv_knn.cv_results_['std_test_score']\n",
    "\n",
    "plt.plot(parameters, Gscv_train_auc, label='Train AUC')\n",
    "# this code is copied from here: https://stackoverflow.com/a/48803361/4084039\n",
    "plt.gca().fill_between(parameters,Gscv_train_auc - Gscv_train_auc_std,Gscv_train_auc + Gscv_train_auc_std,alpha=0.2,color='darkblue')\n",
    "\n",
    "plt.plot(parameters, Gscv_cv_auc, label='CV AUC')\n",
    "# this code is copied from here: https://stackoverflow.com/a/48803361/4084039\n",
    "plt.gca().fill_between(parameters,Gscv_cv_auc - Gscv_cv_auc_std,Gscv_cv_auc + Gscv_cv_auc_std,alpha=0.2,color='darkorange')\n",
    "plt.legend()\n",
    "plt.xlabel(\"K: hyperparameter\")\n",
    "plt.ylabel(\"AUC\")\n",
    "plt.title(\"ERROR PLOTS\")\n",
    "plt.show()"
   ]
  },
  {
   "cell_type": "code",
   "execution_count": null,
   "metadata": {},
   "outputs": [],
   "source": [
    "# Testing AUC on Test data with best_k \n",
    "best_k_tfidf_gscv = gscv.best_param_\n",
    "Confusion_matrix_best_k(best_k_tfidf_gscv,X_train_tfidf,X_test_tfidf,y_train_tfidf,y_test_tfidf)"
   ]
  },
  {
   "cell_type": "markdown",
   "metadata": {},
   "source": [
    "### [5.1.3] Applying KNN brute force on AVG W2V,<font color='red'> SET 3</font>"
   ]
  },
  {
   "cell_type": "code",
   "execution_count": null,
   "metadata": {},
   "outputs": [],
   "source": [
    "import numpy as np\n",
    "import pandas as pd\n",
    "import matplotlib.pyplot as plt\n",
    "from sklearn.model_selection import train_test_split\n",
    "from sklearn.neighbors import KNeighborsClassifier\n",
    "from sklearn.model_selection import cross_val_score\n",
    "from sklearn.metrics import roc_auc_score\n",
    "from sklearn.metrics import auc\n",
    "\n",
    "X = avg_w2v_vectors_norm\n",
    "Y = sample['Score'].values\n",
    "# split the data set into train and test\n",
    "X_train_Avg_w2v, X_test_Avg_w2v, y_train_Avg_w2v, y_test_Avg_w2v = train_test_split(X, Y, test_size=0.25)\n",
    "\n",
    "# creating odd list of K for KNN\n",
    "neighbors = [1, 5, 10, 15, 21, 31, 41, 51]\n",
    "auc_scores_train = []\n",
    "auc_scores_cv = []\n",
    "\n",
    "for k in tqdm(neighbors):\n",
    "    knn = KNeighborsClassifier(n_neighbors=k,algorithm='brute')\n",
    "    knn.fit(X_train_Avg_w2v, y_train)\n",
    "    \n",
    "    scores = cross_val_score(knn, X_train_Avg_w2v, y_train, scoring='roc_auc')\n",
    "    auc_scores_train.append(scores.mean())\n",
    "    \n",
    "    scores = cross_val_score(knn, X_train_Avg_w2v, y_train, cv=10, scoring='roc_auc')\n",
    "    auc_scores_cv.append(scores.mean())\n",
    "        \n",
    "print(auc_scores_train)\n",
    "print(auc_scores_cv)\n",
    "\n",
    "plt.plot(neighbors,auc_scores_train,'b',label='Train AUC')\n",
    "plt.scatter(neighbors, auc_scores_train, label='Train AUC')\n",
    "plt.plot(neighbors,auc_scores_cv,'r',label = 'Validation AUC')\n",
    "plt.scatter(neighbors, auc_scores_cv, label='Validation AUC')\n",
    "plt.legend(loc='lower right')\n",
    "plt.xlabel('K: hyperparameter')\n",
    "plt.ylabel('AUC')\n",
    "plt.grid(True)\n",
    "plt.show()\n",
    "\n",
    "print(neighbors[auc_scores_cv.index(max(auc_scores_cv))])"
   ]
  },
  {
   "cell_type": "code",
   "execution_count": null,
   "metadata": {},
   "outputs": [],
   "source": [
    "best_k_Avg_w2v = neighbors[auc_scores_cv.index(max(auc_scores_cv))]\n",
    "Confusion_matrix_best_k(best_k_Avg_w2v,X_train_Avg_w2v,X_test_Avg_w2v,y_train_Avg_w2v,y_test_Avg_w2v)"
   ]
  },
  {
   "cell_type": "markdown",
   "metadata": {},
   "source": [
    "## Avg_w2v GridSearchCV"
   ]
  },
  {
   "cell_type": "code",
   "execution_count": null,
   "metadata": {},
   "outputs": [],
   "source": [
    "# https://scikit-learn.org/stable/modules/generated/sklearn.model_selection.GridSearchCV.html\n",
    "from sklearn.model_selection import GridSearchCV  #importing GridSearchCV from sklearn\n",
    "from sklearn.model_selection import TimeSeriesSplit #importing TimeSeriesSplit from sklearn\n",
    "\n",
    "neigh = KNeighborsClassifier(algorithm='brute')#instantiate Knn Model with brute force method\n",
    "parameters = {'n_neighbors':[1, 5, 10, 15, 21, 31, 41, 51]} # list of k neighbors\n",
    "ts = TimeSeriesSplit(n_splits = 10) #using Time series split\n",
    "Gscv_knn = GridSearchCV(neigh, parameters, cv=ts, scoring='roc_auc') #instantiate GridSearchCV with scoring parameter\n",
    "                                                  # as roc_auc using TimeSeriesSplit\n",
    "Gscv_knn.fit(X_train_Avg_w2v, y_train) #fitting the model\n",
    "\n",
    "print(\"Best Hyperparameter: \",Gscv_knn.best_param_)\n",
    "print(\"Best AUC: %.2f%%\" %(Gscv_knn.best_score_*100))\n",
    "\n",
    "Gscv_train_auc = Gscv_knn.cv_results_['mean_train_score']\n",
    "Gscv_train_auc_std= Gscv_knn.cv_results_['std_train_score']\n",
    "Gscv_cv_auc = Gscv_knn.cv_results_['mean_test_score']\n",
    "Gscv_cv_auc_std = Gscv_knn.cv_results_['std_test_score']\n",
    "\n",
    "plt.plot(parameters, Gscv_train_auc, label='Train AUC')\n",
    "# this code is copied from here: https://stackoverflow.com/a/48803361/4084039\n",
    "plt.gca().fill_between(parameters,Gscv_train_auc - Gscv_train_auc_std,Gscv_train_auc + Gscv_train_auc_std,alpha=0.2,color='darkblue')\n",
    "\n",
    "plt.plot(parameters, Gscv_cv_auc, label='CV AUC')\n",
    "# this code is copied from here: https://stackoverflow.com/a/48803361/4084039\n",
    "plt.gca().fill_between(parameters,Gscv_cv_auc - Gscv_cv_auc_std,Gscv_cv_auc + Gscv_cv_auc_std,alpha=0.2,color='darkorange')\n",
    "plt.legend()\n",
    "plt.xlabel(\"K: hyperparameter\")\n",
    "plt.ylabel(\"AUC\")\n",
    "plt.title(\"ERROR PLOTS\")\n",
    "plt.show()"
   ]
  },
  {
   "cell_type": "code",
   "execution_count": null,
   "metadata": {},
   "outputs": [],
   "source": [
    "best_k_Avg_w2v_gscv = neighbors[auc_scores_cv.index(max(auc_scores_cv))]\n",
    "Confusion_matrix_best_k(best_k_Avg_w2v_gscv,X_train_Avg_w2v,X_test_Avg_w2v,y_train_Avg_w2v,y_test_Avg_w2v)"
   ]
  },
  {
   "cell_type": "markdown",
   "metadata": {},
   "source": [
    "### [5.1.4] Applying KNN brute force on TFIDF W2V,<font color='red'> SET 4</font>"
   ]
  },
  {
   "cell_type": "code",
   "execution_count": null,
   "metadata": {},
   "outputs": [],
   "source": [
    "import numpy as np\n",
    "import pandas as pd\n",
    "import matplotlib.pyplot as plt\n",
    "from sklearn.model_selection import train_test_split\n",
    "from sklearn.neighbors import KNeighborsClassifier\n",
    "from sklearn.model_selection import cross_val_score\n",
    "from sklearn.metrics import roc_auc_score\n",
    "from sklearn.metrics import auc\n",
    "\n",
    "tfidf_sent_vectors_norm = preprocessing.normalize(tfidf_sent_vectors)\n",
    "X = tfidf_sent_vectors_norm\n",
    "Y = sample['Score'].values\n",
    "# split the data set into train and test\n",
    "X_train_Tfidf_w2v, X_test_Tfidf_w2v, y_train_Tfidf_w2v, y_test_Tfidf_w2v = train_test_split(X, Y, test_size=0.25)\n",
    "\n",
    "# creating odd list of K for KNN\n",
    "neighbors = [1, 5, 10, 15, 21, 31, 41, 51]\n",
    "auc_scores_train = []\n",
    "auc_scores_cv = []\n",
    "\n",
    "for k in tqdm(neighbors):\n",
    "    knn = KNeighborsClassifier(n_neighbors=k,algorithm='brute')\n",
    "    knn.fit(X_train_Tfidf_w2v, y_train_Tfidf_w2v)\n",
    "    \n",
    "    scores = cross_val_score(knn, X_train_Tfidf_w2v, y_train_Tfidf_w2v, scoring='roc_auc')\n",
    "    auc_scores_train.append(scores.mean())\n",
    "    \n",
    "    scores = cross_val_score(knn, X_train_Tfidf_w2v, y_train_Tfidf_w2v, cv=10, scoring='roc_auc')\n",
    "    auc_scores_cv.append(scores.mean())\n",
    "        \n",
    "print(auc_scores_train)\n",
    "print(auc_scores_cv)\n",
    "\n",
    "plt.plot(neighbors,auc_scores_train,'b',label='Train AUC')\n",
    "plt.scatter(neighbors, auc_scores_train, label='Train AUC')\n",
    "plt.plot(neighbors,auc_scores_cv,'r',label = 'Validation AUC')\n",
    "plt.scatter(neighbors, auc_scores_cv, label='Validation AUC')\n",
    "plt.legend(loc='lower right')\n",
    "plt.xlabel('K: hyperparameter')\n",
    "plt.ylabel('AUC')\n",
    "plt.grid(True)\n",
    "plt.show()\n",
    "\n",
    "print(neighbors[auc_scores_cv.index(max(auc_scores_cv))])\n"
   ]
  },
  {
   "cell_type": "code",
   "execution_count": null,
   "metadata": {},
   "outputs": [],
   "source": [
    "best_k_Tfidf_w2v = neighbors[auc_scores_cv.index(max(auc_scores_cv))]\n",
    "Confusion_matrix_best_k(best_k_Tfidf_w2v,X_train_Tfidf_w2v,X_test_Tfidf_w2v,y_train_Tfidf_w2v, y_test_Tfidf_w2v)"
   ]
  },
  {
   "cell_type": "markdown",
   "metadata": {},
   "source": [
    "## TFIDF W2V GridSearchCV"
   ]
  },
  {
   "cell_type": "code",
   "execution_count": null,
   "metadata": {},
   "outputs": [],
   "source": [
    "# https://scikit-learn.org/stable/modules/generated/sklearn.model_selection.GridSearchCV.html\n",
    "from sklearn.model_selection import GridSearchCV  #importing GridSearchCV from sklearn\n",
    "from sklearn.model_selection import TimeSeriesSplit #importing TimeSeriesSplit from sklearn\n",
    "\n",
    "neigh = KNeighborsClassifier(algorithm='brute')#instantiate Knn Model with brute force method\n",
    "parameters = {'n_neighbors':[1, 5, 10, 15, 21, 31, 41, 51]} # list of k neighbors\n",
    "ts = TimeSeriesSplit(n_splits = 10) #using Time series split\n",
    "Gscv_knn = GridSearchCV(neigh, parameters, cv=ts, scoring='roc_auc') #instantiate GridSearchCV with scoring parameter\n",
    "                                                  # as roc_auc using TimeSeriesSplit\n",
    "Gscv_knn.fit(X_train_Tfidf_w2v, y_train_Tfidf_w2v) #fitting the model\n",
    "\n",
    "print(\"Best Hyperparameter: \",Gscv_knn.best_param_)\n",
    "print(\"Best AUC: %.2f%%\" %(Gscv_knn.best_score_*100))\n",
    "\n",
    "Gscv_train_auc = Gscv_knn.cv_results_['mean_train_score']\n",
    "Gscv_train_auc_std= Gscv_knn.cv_results_['std_train_score']\n",
    "Gscv_cv_auc = Gscv_knn.cv_results_['mean_test_score']\n",
    "Gscv_cv_auc_std = Gscv_knn.cv_results_['std_test_score']\n",
    "\n",
    "plt.plot(parameters, Gscv_train_auc, label='Train AUC')\n",
    "# this code is copied from here: https://stackoverflow.com/a/48803361/4084039\n",
    "plt.gca().fill_between(parameters,Gscv_train_auc - Gscv_train_auc_std,Gscv_train_auc + Gscv_train_auc_std,alpha=0.2,color='darkblue')\n",
    "\n",
    "plt.plot(parameters, Gscv_cv_auc, label='CV AUC')\n",
    "# this code is copied from here: https://stackoverflow.com/a/48803361/4084039\n",
    "plt.gca().fill_between(parameters,Gscv_cv_auc - Gscv_cv_auc_std,Gscv_cv_auc + Gscv_cv_auc_std,alpha=0.2,color='darkorange')\n",
    "plt.legend()\n",
    "plt.xlabel(\"K: hyperparameter\")\n",
    "plt.ylabel(\"AUC\")\n",
    "plt.title(\"ERROR PLOTS\")\n",
    "plt.show()"
   ]
  },
  {
   "cell_type": "code",
   "execution_count": null,
   "metadata": {},
   "outputs": [],
   "source": [
    "best_k_Tfidf_w2v_gscv = neighbors[auc_scores_cv.index(max(auc_scores_cv))]\n",
    "Confusion_matrix_best_k(best_k_Tfidf_w2v_gscv,X_train_Tfidf_w2v,X_test_Tfidf_w2v,y_train_Tfidf_w2v, y_test_Tfidf_w2v)"
   ]
  },
  {
   "cell_type": "markdown",
   "metadata": {},
   "source": [
    "## [5.2] Applying KNN kd-tree"
   ]
  },
  {
   "cell_type": "markdown",
   "metadata": {},
   "source": [
    "### [5.2.1] Applying KNN kd-tree on BOW,<font color='red'> SET 5</font>"
   ]
  },
  {
   "cell_type": "code",
   "execution_count": null,
   "metadata": {},
   "outputs": [],
   "source": [
    "# Taking 100000 reviews for analysis\n",
    "n_samples = 25000\n",
    "final_sample = final.sample(n_samples)\n",
    "\n",
    "final_sample.head(5)"
   ]
  },
  {
   "cell_type": "code",
   "execution_count": null,
   "metadata": {},
   "outputs": [],
   "source": [
    "# Save to file\n",
    "pickle.dump(final_sample,open(\"sample_25000_knn.pkl\",\"wb\"))\n",
    "\n",
    "# Load from file\n",
    "sample1 = pickle.load(open(\"sample_25000_knn.pkl\",\"rb\"))"
   ]
  },
  {
   "cell_type": "code",
   "execution_count": null,
   "metadata": {},
   "outputs": [],
   "source": [
    "def Confusion_matrix_best_k_kdtree(best_k,X_train,X_test,y_train,y_test):\n",
    "        \n",
    "    # https://scikit-learn.org/stable/modules/generated/sklearn.metrics.roc_curve.html#sklearn.metrics.roc_curve\n",
    "    from sklearn.metrics import roc_curve, auc\n",
    "    \n",
    "    neigh = KNeighborsClassifier(n_neighbors=best_k,algorithm='kd_tree') # applying best k parameter on classifier\n",
    "    neigh.fit(X_train, y_train) #fitting the model\n",
    "    \n",
    "    # roc_auc_score(y_true, y_score) the 2nd parameter should be probability estimates of the positive class\n",
    "    # not the predicted outputs\n",
    "    train_fpr, train_tpr, thresholds = roc_curve(y_train, neigh.predict_proba(X_train)[:,1])\n",
    "    test_fpr, test_tpr, thresholds = roc_curve(y_test, neigh.predict_proba(X_test)[:,1])\n",
    "    \n",
    "    # ploting ROC AUC Curve\n",
    "    plt.plot(train_fpr, train_tpr, label=\"train AUC =\"+str(auc(train_fpr, train_tpr)))\n",
    "    plt.plot(test_fpr, test_tpr, label=\"test AUC =\"+str(auc(test_fpr, test_tpr)))\n",
    "    plt.legend()\n",
    "    plt.xlabel(\"K: hyperparameter\")\n",
    "    plt.ylabel(\"AUC\")\n",
    "    plt.title(\"ERROR PLOTS\")\n",
    "    plt.show()\n",
    "    \n",
    "    print(\"=\"*100)\n",
    "    \n",
    "    from sklearn.metrics import confusion_matrix\n",
    "    print(\"Train confusion matrix\")\n",
    "    print(confusion_matrix(y_train, neigh.predict(X_train))) \n",
    "    print(\"Test confusion matrix\")\n",
    "    print(confusion_matrix(y_test, neigh.predict(X_test)))\n",
    "    \n",
    "    #Ploting Confusion matrix for Train and Test data \n",
    "    classes = ['NO','YES']\n",
    "    plt.figure(1)\n",
    "    plt.title('confusion matrix for Train data')\n",
    "    plt.ylabel('True label')\n",
    "    plt.xlabel('Predicted label')\n",
    "    df_cm = pd.DataFrame(confusion_matrix(y_train, neigh.predict(X_train)),classes,classes)\n",
    "    sns.set(font_scale=1.4)\n",
    "    sns.heatmap(df_cm, annot=True,annot_kws={\"size\":16},fmt='g')\n",
    "    \n",
    "    plt.figure(2)\n",
    "    plt.title('confusion matrix for test data')\n",
    "    plt.ylabel('True label')\n",
    "    plt.xlabel('Predicted label')\n",
    "    df_cm1 = pd.DataFrame(confusion_matrix(y_test, neigh.predict(X_test)),classes,classes)\n",
    "    sns.set(font_scale=1.4)\n",
    "    sns.heatmap(df_cm1, annot=True,annot_kws={\"size\":16},fmt='g')"
   ]
  },
  {
   "cell_type": "markdown",
   "metadata": {},
   "source": [
    "## BOW Kd Tree Kfold Cross validation"
   ]
  },
  {
   "cell_type": "code",
   "execution_count": null,
   "metadata": {},
   "outputs": [],
   "source": [
    "import numpy as np\n",
    "import pandas as pd\n",
    "import matplotlib.pyplot as plt\n",
    "from sklearn.model_selection import train_test_split\n",
    "from sklearn.neighbors import KNeighborsClassifier\n",
    "from sklearn.model_selection import cross_val_score\n",
    "from sklearn.metrics import roc_auc_score\n",
    "from sklearn.metrics import auc\n",
    "\n",
    "X = sample1['Cleaned_Text'].values\n",
    "Y = sample1['Score'].values\n",
    "# split the data set into train and test\n",
    "X_train, X_test, y_train, y_test = train_test_split(X, Y, test_size=0.25)\n",
    "\n",
    "count_vect = CountVectorizer(min_df=10, max_features=500)\n",
    "\n",
    "X_train_bow = count_vect.fit_transform(X_train)\n",
    "X_test_bow = count_vect.transform(X_test)\n",
    "\n",
    "# creating odd list of K for KNN\n",
    "neighbors = [1, 5, 10, 15, 21, 31, 41, 51]\n",
    "auc_scores_train = []\n",
    "auc_scores_cv = []\n",
    "\n",
    "for k in tqdm(neighbors):\n",
    "    knn = KNeighborsClassifier(n_neighbors=k,algorithm='kd_tree')\n",
    "    knn.fit(X_train_bow, y_train)\n",
    "    \n",
    "    scores = cross_val_score(knn, X_train_bow, y_train, cv=10, scoring='roc_auc')\n",
    "    auc_scores_cv.append(scores.mean())\n",
    "        \n",
    "print(auc_scores_train)\n",
    "print(auc_scores_cv)\n",
    "\n",
    "plt.plot(neighbors,auc_scores_train,'b',label='Train AUC')\n",
    "plt.scatter(neighbors, auc_scores_train, label='Train AUC')\n",
    "plt.plot(neighbors,auc_scores_cv,'r',label = 'Validation AUC')\n",
    "plt.scatter(neighbors, auc_scores_cv, label='Validation AUC')\n",
    "plt.legend(loc='lower right')\n",
    "plt.xlabel('K: hyperparameter')\n",
    "plt.ylabel('AUC')\n",
    "plt.grid(True)\n",
    "plt.show()\n",
    "\n",
    "print(neighbors[auc_scores_cv.index(max(auc_scores_cv))])\n"
   ]
  },
  {
   "cell_type": "code",
   "execution_count": null,
   "metadata": {},
   "outputs": [],
   "source": [
    "#Testing AUC on Test data with best_k\n",
    "best_k_bow_kdtree = neighbors[auc_scores_cv.index(max(auc_scores_cv))]# Optimal k with maximum AUC Value\n",
    "Confusion_matrix_best_k_kdtree(best_k_bow_kdtree,X_train_bow,X_test_bow,y_train,y_test)"
   ]
  },
  {
   "cell_type": "code",
   "execution_count": null,
   "metadata": {},
   "outputs": [],
   "source": [
    "# https://scikit-learn.org/stable/modules/generated/sklearn.model_selection.GridSearchCV.html\n",
    "from sklearn.model_selection import GridSearchCV  #importing GridSearchCV from sklearn\n",
    "from sklearn.model_selection import TimeSeriesSplit #importing TimeSeriesSplit from sklearn\n",
    "\n",
    "neigh = KNeighborsClassifier(algorithm='kd_tree')#instantiate Knn Model with brute force method\n",
    "parameters = {'n_neighbors':[1, 5, 10, 15, 21, 31, 41, 51]} # list of k neighbors\n",
    "ts = TimeSeriesSplit(n_splits = 10) #using Time series split\n",
    "Gscv_knn = GridSearchCV(neigh, parameters, cv=ts, scoring='roc_auc') #instantiate GridSearchCV with scoring parameter\n",
    "                                                  # as roc_auc using TimeSeriesSplit\n",
    "Gscv_knn.fit(X_train_bow, y_train) #fitting the model\n",
    "\n",
    "print(\"Best Hyperparameter: \",Gscv_knn.best_param_)\n",
    "print(\"Best AUC: %.2f%%\" %(Gscv_knn.best_score_*100))\n",
    "\n",
    "Gscv_train_auc = Gscv_knn.cv_results_['mean_train_score']\n",
    "Gscv_train_auc_std= Gscv_knn.cv_results_['std_train_score']\n",
    "Gscv_cv_auc = Gscv_knn.cv_results_['mean_test_score']\n",
    "Gscv_cv_auc_std = Gscv_knn.cv_results_['std_test_score']\n",
    "\n",
    "plt.plot(parameters, Gscv_train_auc, label='Train AUC')\n",
    "# this code is copied from here: https://stackoverflow.com/a/48803361/4084039\n",
    "plt.gca().fill_between(parameters,Gscv_train_auc - Gscv_train_auc_std,Gscv_train_auc + Gscv_train_auc_std,alpha=0.2,color='darkblue')\n",
    "\n",
    "plt.plot(parameters, Gscv_cv_auc, label='CV AUC')\n",
    "# this code is copied from here: https://stackoverflow.com/a/48803361/4084039\n",
    "plt.gca().fill_between(parameters,Gscv_cv_auc - Gscv_cv_auc_std,Gscv_cv_auc + Gscv_cv_auc_std,alpha=0.2,color='darkorange')\n",
    "plt.legend()\n",
    "plt.xlabel(\"K: hyperparameter\")\n",
    "plt.ylabel(\"AUC\")\n",
    "plt.title(\"ERROR PLOTS\")\n",
    "plt.show()"
   ]
  },
  {
   "cell_type": "code",
   "execution_count": null,
   "metadata": {},
   "outputs": [],
   "source": [
    "# Testing AUC on Test data with best_k \n",
    "best_k_bow_kdtree_gscv = gscv.best_param_\n",
    "Confusion_matrix_best_k_kdtree(best_k_bow_kdtree_gscv,X_train_bow,X_test_bow,y_train,y_test)"
   ]
  },
  {
   "cell_type": "markdown",
   "metadata": {},
   "source": [
    "### [5.2.2] Applying KNN kd-tree on TFIDF,<font color='red'> SET 6</font>"
   ]
  },
  {
   "cell_type": "code",
   "execution_count": null,
   "metadata": {},
   "outputs": [],
   "source": [
    "import numpy as np\n",
    "import pandas as pd\n",
    "import matplotlib.pyplot as plt\n",
    "from sklearn.model_selection import train_test_split\n",
    "from sklearn.neighbors import KNeighborsClassifier\n",
    "from sklearn.model_selection import cross_val_score\n",
    "from sklearn.metrics import roc_auc_score\n",
    "from sklearn.metrics import auc\n",
    "\n",
    "X = sample1['Cleaned_Text'].values\n",
    "Y = sample1['Score'].values\n",
    "# split the data set into train and test\n",
    "X_train, X_test, y_train, y_test = train_test_split(X, Y, test_size=0.25)\n",
    "\n",
    "tfidf_vect = TfidfVectorizer(min_df=10, max_features=500)\n",
    "\n",
    "X_train_tfidf = tfidf_vect.fit_transform(X_train)\n",
    "X_test_tfidf = tfidf_vect.transform(X_test)\n",
    "\n",
    "X_train_tfidf = X_train_tfidf.toarray()\n",
    "# creating odd list of K for KNN\n",
    "neighbors = [1, 5, 10, 15, 21, 31, 41, 51]\n",
    "auc_scores_train = []\n",
    "auc_scores_cv = []\n",
    "\n",
    "for k in tqdm(neighbors):\n",
    "    knn = KNeighborsClassifier(n_neighbors=k,algorithm='kd_tree')\n",
    "    knn.fit(X_train_tfidf, y_train)\n",
    "    \n",
    "    scores = cross_val_score(knn, X_train_tfidf, y_train, scoring='roc_auc')\n",
    "    auc_scores_train.append(scores.mean())\n",
    "    \n",
    "    scores = cross_val_score(knn, X_train_tfidf, y_train, cv=10, scoring='roc_auc')\n",
    "    auc_scores_cv.append(scores.mean())\n",
    "        \n",
    "print(auc_scores_train)\n",
    "print(auc_scores_cv)\n",
    "\n",
    "plt.plot(neighbors,auc_scores_train,'b',label='Train AUC')\n",
    "plt.scatter(neighbors, auc_scores_train, label='Train AUC')\n",
    "plt.plot(neighbors,auc_scores_cv,'r',label = 'Validation AUC')\n",
    "plt.scatter(neighbors, auc_scores_cv, label='Validation AUC')\n",
    "plt.legend(loc='lower right')\n",
    "plt.xlabel('K: hyperparameter')\n",
    "plt.ylabel('AUC')\n",
    "plt.grid(True)\n",
    "plt.show()\n",
    "\n",
    "print(neighbors[auc_scores_cv.index(max(auc_scores_cv))])"
   ]
  },
  {
   "cell_type": "code",
   "execution_count": null,
   "metadata": {},
   "outputs": [],
   "source": [
    "# Determining Optimal k\n",
    "best_k_Tfidf_kdtree = neighbors[auc_scores_cv.index(max(auc_scores_cv))]\n",
    "# Testing AUC on Test data with best_k \n",
    "Confusion_matrix_best_k_kdtree(best_k_Tfidf_kdtree,X_train_tfidf,X_test_tfidf,y_train_tfidf,y_test_tfidf)"
   ]
  },
  {
   "cell_type": "code",
   "execution_count": null,
   "metadata": {},
   "outputs": [],
   "source": [
    "# https://scikit-learn.org/stable/modules/generated/sklearn.model_selection.GridSearchCV.html\n",
    "from sklearn.model_selection import GridSearchCV  #importing GridSearchCV from sklearn\n",
    "from sklearn.model_selection import TimeSeriesSplit #importing TimeSeriesSplit from sklearn\n",
    "\n",
    "neigh = KNeighborsClassifier(algorithm='kd_tree')#instantiate Knn Model with brute force method\n",
    "parameters = {'n_neighbors':[1, 5, 10, 15, 21, 31, 41, 51]} # list of k neighbors\n",
    "ts = TimeSeriesSplit(n_splits = 10) #using Time series split\n",
    "Gscv_knn = GridSearchCV(neigh, parameters, cv=ts, scoring='roc_auc') #instantiate GridSearchCV with scoring parameter\n",
    "                                                  # as roc_auc using TimeSeriesSplit\n",
    "Gscv_knn.fit(X_train_tfidf, y_train) #fitting the model\n",
    "\n",
    "print(\"Best Hyperparameter: \",Gscv_knn.best_param_)\n",
    "print(\"Best AUC: %.2f%%\" %(Gscv_knn.best_score_*100))\n",
    "\n",
    "Gscv_train_auc = Gscv_knn.cv_results_['mean_train_score']\n",
    "Gscv_train_auc_std= Gscv_knn.cv_results_['std_train_score']\n",
    "Gscv_cv_auc = Gscv_knn.cv_results_['mean_test_score']\n",
    "Gscv_cv_auc_std = Gscv_knn.cv_results_['std_test_score']\n",
    "\n",
    "plt.plot(parameters, Gscv_train_auc, label='Train AUC')\n",
    "# this code is copied from here: https://stackoverflow.com/a/48803361/4084039\n",
    "plt.gca().fill_between(parameters,Gscv_train_auc - Gscv_train_auc_std,Gscv_train_auc + Gscv_train_auc_std,alpha=0.2,color='darkblue')\n",
    "\n",
    "plt.plot(parameters, Gscv_cv_auc, label='CV AUC')\n",
    "# this code is copied from here: https://stackoverflow.com/a/48803361/4084039\n",
    "plt.gca().fill_between(parameters,Gscv_cv_auc - Gscv_cv_auc_std,Gscv_cv_auc + Gscv_cv_auc_std,alpha=0.2,color='darkorange')\n",
    "plt.legend()\n",
    "plt.xlabel(\"K: hyperparameter\")\n",
    "plt.ylabel(\"AUC\")\n",
    "plt.title(\"ERROR PLOTS\")\n",
    "plt.show()"
   ]
  },
  {
   "cell_type": "code",
   "execution_count": null,
   "metadata": {},
   "outputs": [],
   "source": [
    "# Testing AUC on Test data with best_k \n",
    "best_k_tfidf_kdtree_gscv = gscv.best_param_\n",
    "Confusion_matrix_best_k_kdtree(best_k_tfidf_kdtree_gscv,X_train_tfidf,X_test_tfidf,y_train_tfidf,y_test_tfidf)"
   ]
  },
  {
   "cell_type": "markdown",
   "metadata": {},
   "source": [
    "### [5.2.3] Applying KNN kd-tree on AVG W2V,<font color='red'> SET 3</font>"
   ]
  },
  {
   "cell_type": "markdown",
   "metadata": {},
   "source": [
    "## Kfold Cross validation kd-tree on AVG W2V"
   ]
  },
  {
   "cell_type": "code",
   "execution_count": null,
   "metadata": {},
   "outputs": [],
   "source": [
    "import numpy as np\n",
    "import pandas as pd\n",
    "import matplotlib.pyplot as plt\n",
    "from sklearn.model_selection import train_test_split\n",
    "from sklearn.neighbors import KNeighborsClassifier\n",
    "from sklearn.model_selection import cross_val_score\n",
    "from sklearn.metrics import roc_auc_score\n",
    "from sklearn.metrics import auc\n",
    "\n",
    "X = avg_w2v_vectors\n",
    "Y = sample1['Score'].values\n",
    "# split the data set into train and test\n",
    "X_train, X_test, y_train, y_test = train_test_split(X, Y, test_size=0.25)\n",
    "\n",
    "Avg_w2v_vect = TfidfVectorizer()\n",
    "\n",
    "X_train_Avg_w2v = Avg_w2v_vect.fit_transform(X_train)\n",
    "X_test_Avg_w2v = Avg_w2v_vect.transform(X_test)\n",
    "\n",
    "# creating odd list of K for KNN\n",
    "neighbors = [1, 5, 10, 15, 21, 31, 41, 51]\n",
    "auc_scores_train = []\n",
    "auc_scores_cv = []\n",
    "\n",
    "for k in tqdm(neighbors):\n",
    "    knn = KNeighborsClassifier(n_neighbors=k,algorithm='kd_tree')\n",
    "    knn.fit(X_train_Avg_w2v, y_train)\n",
    "    \n",
    "    scores = cross_val_score(knn, X_train_Avg_w2v, y_train, scoring='roc_auc')\n",
    "    auc_scores_train.append(scores.mean())\n",
    "    \n",
    "    scores = cross_val_score(knn, X_train_Avg_w2v, y_train, cv=10, scoring='roc_auc')\n",
    "    auc_scores_cv.append(scores.mean())\n",
    "        \n",
    "print(auc_scores_train)\n",
    "print(auc_scores_cv)\n",
    "\n",
    "plt.plot(neighbors,auc_scores_train,'b',label='Train AUC')\n",
    "plt.scatter(neighbors, auc_scores_train, label='Train AUC')\n",
    "plt.plot(neighbors,auc_scores_cv,'r',label = 'Validation AUC')\n",
    "plt.scatter(neighbors, auc_scores_cv, label='Validation AUC')\n",
    "plt.legend(loc='lower right')\n",
    "plt.xlabel('K: hyperparameter')\n",
    "plt.ylabel('AUC')\n",
    "plt.grid(True)\n",
    "plt.show()\n",
    "\n",
    "print(neighbors[auc_scores_cv.index(max(auc_scores_cv))])"
   ]
  },
  {
   "cell_type": "code",
   "execution_count": null,
   "metadata": {},
   "outputs": [],
   "source": [
    "best_k_Avg_w2v_kdtree = neighbors[auc_scores_cv.index(max(auc_scores_cv))]\n",
    "Confusion_matrix_best_k_kdtree(best_k_Avg_w2v_kdtree,X_train_Avg_w2v,X_test_Avg_w2v,y_train_Avg_w2v,y_test_Avg_w2v)"
   ]
  },
  {
   "cell_type": "markdown",
   "metadata": {},
   "source": [
    "## GridSearchCV kd-tree on AVG W2V "
   ]
  },
  {
   "cell_type": "code",
   "execution_count": null,
   "metadata": {},
   "outputs": [],
   "source": [
    "# https://scikit-learn.org/stable/modules/generated/sklearn.model_selection.GridSearchCV.html\n",
    "from sklearn.model_selection import GridSearchCV  #importing GridSearchCV from sklearn\n",
    "from sklearn.model_selection import TimeSeriesSplit #importing TimeSeriesSplit from sklearn\n",
    "\n",
    "neigh = KNeighborsClassifier(algorithm='kd_tree')#instantiate Knn Model with brute force method\n",
    "parameters = {'n_neighbors':[1, 5, 10, 15, 21, 31, 41, 51]} # list of k neighbors\n",
    "ts = TimeSeriesSplit(n_splits = 10) #using Time series split\n",
    "Gscv_knn = GridSearchCV(neigh, parameters, cv=ts, scoring='roc_auc') #instantiate GridSearchCV with scoring parameter\n",
    "                                                  # as roc_auc using TimeSeriesSplit\n",
    "Gscv_knn.fit(X_train_Avg_w2v, y_train) #fitting the model\n",
    "\n",
    "print(\"Best Hyperparameter: \",Gscv_knn.best_param_)\n",
    "print(\"Best AUC: %.2f%%\" %(Gscv_knn.best_score_*100))\n",
    "\n",
    "Gscv_train_auc = Gscv_knn.cv_results_['mean_train_score']\n",
    "Gscv_train_auc_std= Gscv_knn.cv_results_['std_train_score']\n",
    "Gscv_cv_auc = Gscv_knn.cv_results_['mean_test_score']\n",
    "Gscv_cv_auc_std = Gscv_knn.cv_results_['std_test_score']\n",
    "\n",
    "plt.plot(parameters, Gscv_train_auc, label='Train AUC')\n",
    "# this code is copied from here: https://stackoverflow.com/a/48803361/4084039\n",
    "plt.gca().fill_between(parameters,Gscv_train_auc - Gscv_train_auc_std,Gscv_train_auc + Gscv_train_auc_std,alpha=0.2,color='darkblue')\n",
    "\n",
    "plt.plot(parameters, Gscv_cv_auc, label='CV AUC')\n",
    "# this code is copied from here: https://stackoverflow.com/a/48803361/4084039\n",
    "plt.gca().fill_between(parameters,Gscv_cv_auc - Gscv_cv_auc_std,Gscv_cv_auc + Gscv_cv_auc_std,alpha=0.2,color='darkorange')\n",
    "plt.legend()\n",
    "plt.xlabel(\"K: hyperparameter\")\n",
    "plt.ylabel(\"AUC\")\n",
    "plt.title(\"ERROR PLOTS\")\n",
    "plt.show()"
   ]
  },
  {
   "cell_type": "code",
   "execution_count": null,
   "metadata": {},
   "outputs": [],
   "source": [
    "best_k_Avg_w2v_kdtree_gscv = neighbors[auc_scores_cv.index(max(auc_scores_cv))]\n",
    "Confusion_matrix_best_k_kdtree(best_k_Avg_w2v_kdtree_gscv,X_train_Avg_w2v,X_test_Avg_w2v,y_train_Avg_w2v,y_test_Avg_w2v)"
   ]
  },
  {
   "cell_type": "markdown",
   "metadata": {},
   "source": [
    "### [5.2.4] Applying KNN kd-tree on TFIDF W2V,<font color='red'> SET 4</font>"
   ]
  },
  {
   "cell_type": "markdown",
   "metadata": {},
   "source": [
    "## Kfold Cross validation kd-tree TFIDF W2V"
   ]
  },
  {
   "cell_type": "code",
   "execution_count": null,
   "metadata": {},
   "outputs": [],
   "source": [
    "import numpy as np\n",
    "import pandas as pd\n",
    "import matplotlib.pyplot as plt\n",
    "from sklearn.model_selection import train_test_split\n",
    "from sklearn.neighbors import KNeighborsClassifier\n",
    "from sklearn.model_selection import cross_val_score\n",
    "from sklearn.metrics import roc_auc_score\n",
    "from sklearn.metrics import auc\n",
    "\n",
    "X = tfidf_sent_vectors\n",
    "Y = sample['Score'].values\n",
    "# split the data set into train and test\n",
    "X_train, X_test, y_train, y_test = train_test_split(X, Y, test_size=0.25)\n",
    "\n",
    "X_train_Tfidf_w2v = Tfidf_w2v_vect.fit_transform(X_train)\n",
    "X_test_Tfidf_w2v = Tfidf_w2v_vect.transform(X_test)\n",
    "\n",
    "\n",
    "# creating odd list of K for KNN\n",
    "neighbors = [1, 5, 10, 15, 21, 31, 41, 51]\n",
    "auc_scores_train = []\n",
    "auc_scores_cv = []\n",
    "\n",
    "for k in tqdm(neighbors):\n",
    "    knn = KNeighborsClassifier(n_neighbors=k,algorithm='kd_tree')\n",
    "    knn.fit(X_train_Tfidf_w2v, y_train)\n",
    "    \n",
    "    scores = cross_val_score(knn, X_train_Tfidf_w2v, y_train, scoring='roc_auc')\n",
    "    auc_scores_train.append(scores.mean())\n",
    "    \n",
    "    scores = cross_val_score(knn, X_train_Tfidf_w2v, y_train, cv=10, scoring='roc_auc')\n",
    "    auc_scores_cv.append(scores.mean())\n",
    "        \n",
    "print(auc_scores_train)\n",
    "print(auc_scores_cv)\n",
    "\n",
    "plt.plot(neighbors,auc_scores_train,'b',label='Train AUC')\n",
    "plt.scatter(neighbors, auc_scores_train, label='Train AUC')\n",
    "plt.plot(neighbors,auc_scores_cv,'r',label = 'Validation AUC')\n",
    "plt.scatter(neighbors, auc_scores_cv, label='Validation AUC')\n",
    "plt.legend(loc='lower right')\n",
    "plt.xlabel('K: hyperparameter')\n",
    "plt.ylabel('AUC')\n",
    "plt.grid(True)\n",
    "plt.show()\n",
    "\n",
    "print(neighbors[auc_scores_cv.index(max(auc_scores_cv))])\n",
    "best_k = neighbors[auc_scores_cv.index(max(auc_scores_cv))]\n"
   ]
  },
  {
   "cell_type": "code",
   "execution_count": null,
   "metadata": {},
   "outputs": [],
   "source": [
    "best_k_Tfidf_w2v_kdtree = neighbors[auc_scores_cv.index(max(auc_scores_cv))]\n",
    "Confusion_matrix_best_k_kdtree(best_k_Tfidf_w2v_kdtree,X_train_Tfidf_w2v,X_test_Tfidf_w2v,y_train_Tfidf_w2v, y_test_Tfidf_w2v)"
   ]
  },
  {
   "cell_type": "markdown",
   "metadata": {},
   "source": [
    "## GridSearchCV kd-tree TFIDF W2V"
   ]
  },
  {
   "cell_type": "code",
   "execution_count": null,
   "metadata": {},
   "outputs": [],
   "source": [
    "# https://scikit-learn.org/stable/modules/generated/sklearn.model_selection.GridSearchCV.html\n",
    "from sklearn.model_selection import GridSearchCV  #importing GridSearchCV from sklearn\n",
    "from sklearn.model_selection import TimeSeriesSplit #importing TimeSeriesSplit from sklearn\n",
    "\n",
    "neigh = KNeighborsClassifier(algorithm='kd_tree')#instantiate Knn Model with brute force method\n",
    "parameters = {'n_neighbors':[1, 5, 10, 15, 21, 31, 41, 51]} # list of k neighbors\n",
    "ts = TimeSeriesSplit(n_splits = 10) #using Time series split\n",
    "Gscv_knn = GridSearchCV(neigh, parameters, cv=ts, scoring='roc_auc') #instantiate GridSearchCV with scoring parameter\n",
    "                                                  # as roc_auc using TimeSeriesSplit\n",
    "Gscv_knn.fit(X_train_Tfidf_w2v, y_train_Tfidf_w2v) #fitting the model\n",
    "\n",
    "print(\"Best Hyperparameter: \",Gscv_knn.best_param_)\n",
    "print(\"Best AUC: %.2f%%\" %(Gscv_knn.best_score_*100))\n",
    "\n",
    "Gscv_train_auc = Gscv_knn.cv_results_['mean_train_score']\n",
    "Gscv_train_auc_std= Gscv_knn.cv_results_['std_train_score']\n",
    "Gscv_cv_auc = Gscv_knn.cv_results_['mean_test_score']\n",
    "Gscv_cv_auc_std = Gscv_knn.cv_results_['std_test_score']\n",
    "\n",
    "plt.plot(parameters, Gscv_train_auc, label='Train AUC')\n",
    "# this code is copied from here: https://stackoverflow.com/a/48803361/4084039\n",
    "plt.gca().fill_between(parameters,Gscv_train_auc - Gscv_train_auc_std,Gscv_train_auc + Gscv_train_auc_std,alpha=0.2,color='darkblue')\n",
    "\n",
    "plt.plot(parameters, Gscv_cv_auc, label='CV AUC')\n",
    "# this code is copied from here: https://stackoverflow.com/a/48803361/4084039\n",
    "plt.gca().fill_between(parameters,Gscv_cv_auc - Gscv_cv_auc_std,Gscv_cv_auc + Gscv_cv_auc_std,alpha=0.2,color='darkorange')\n",
    "plt.legend()\n",
    "plt.xlabel(\"K: hyperparameter\")\n",
    "plt.ylabel(\"AUC\")\n",
    "plt.title(\"ERROR PLOTS\")\n",
    "plt.show()"
   ]
  },
  {
   "cell_type": "code",
   "execution_count": null,
   "metadata": {},
   "outputs": [],
   "source": [
    "best_k_Tfidf_w2v_kdtree_gscv = neighbors[auc_scores_cv.index(max(auc_scores_cv))]\n",
    "Confusion_matrix_best_k_kdtree(best_k_Tfidf_w2v_kdtree_gscv,X_train_Tfidf_w2v,X_test_Tfidf_w2v,y_train_Tfidf_w2v, y_test_Tfidf_w2v)"
   ]
  },
  {
   "cell_type": "markdown",
   "metadata": {},
   "source": [
    "# [6] Conclusions"
   ]
  },
  {
   "cell_type": "code",
   "execution_count": null,
   "metadata": {},
   "outputs": [],
   "source": [
    "# Please compare all your models using Prettytable library\n",
    "from prettytable import PrettyTable\n",
    "    \n",
    "x = PrettyTable()\n",
    "\n",
    "x.field_names = [\"Vectorizer\", \"Model\", \"Hyper Parameters/KFOLD\",\"Hyper Parameters/GridSearch\",\"Accuracy\",\"AUC\"]\n",
    "\n",
    "x.add_row([\"BOW\",\"Brute\",best_k_bow,best_k_bow_gscv,])\n",
    "x.add_row([\"TFIDF\",\"Brute\",best_k_Tfidf,best_k_tfidf_gscv,84.04,0.81])\n",
    "x.add_row([\"AVG_W2V\",\"Brute\",best_k_Avg_w2v,best_k_Avg_w2v,85.74,0.77])\n",
    "x.add_row([\"TFIDF_W2V\", \"Brute\",best_k_Tfidf_w2v,best_k_Tfidf_w2v_gscv,85.05,0.75])\n",
    "\n",
    "x.add_row([\"BOW\",\"kd_tree\",best_k_bow_kdtree,best_k_bow_kdtree_gscv,85.74,0.77])\n",
    "x.add_row([\"TFIDF\",\"kd_tree\",best_k_Tfidf_kdtree,best_k_tfidf_kdtree_gscv,84.07,0.77])\n",
    "x.add_row([\"AVG_W2V\",\"kd_tree\",best_k_Avg_w2v_kdtree,best_k_Avg_w2v_kdtree_gscv,85.36,0.77])\n",
    "x.add_row([\"TFIDF_W2V\", \"kd_tree\",best_k_Tfidf_w2v_kdtree,best_k_Tfidf_w2v_kdtree_gscv,84.80,0.74])\n",
    "\n",
    "\n",
    "print(x)\n"
   ]
  },
  {
   "cell_type": "code",
   "execution_count": null,
   "metadata": {},
   "outputs": [],
   "source": []
  },
  {
   "cell_type": "code",
   "execution_count": null,
   "metadata": {},
   "outputs": [],
   "source": []
  },
  {
   "cell_type": "code",
   "execution_count": null,
   "metadata": {},
   "outputs": [],
   "source": []
  }
 ],
 "metadata": {
  "kernelspec": {
   "display_name": "Python 3",
   "language": "python",
   "name": "python3"
  },
  "language_info": {
   "codemirror_mode": {
    "name": "ipython",
    "version": 3
   },
   "file_extension": ".py",
   "mimetype": "text/x-python",
   "name": "python",
   "nbconvert_exporter": "python",
   "pygments_lexer": "ipython3",
   "version": "3.7.2"
  }
 },
 "nbformat": 4,
 "nbformat_minor": 2
}
